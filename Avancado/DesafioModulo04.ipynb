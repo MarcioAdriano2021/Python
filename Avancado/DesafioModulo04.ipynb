{
  "nbformat": 4,
  "nbformat_minor": 0,
  "metadata": {
    "colab": {
      "name": "DesafioModulo04.ipynb",
      "provenance": [],
      "collapsed_sections": []
    },
    "kernelspec": {
      "name": "python3",
      "display_name": "Python 3"
    }
  },
  "cells": [
    {
      "cell_type": "markdown",
      "metadata": {
        "id": "0WUEnI7sIH0P"
      },
      "source": [
        "#Desafio Python Avançado:\r\n",
        "#Exercitar os seguintes conceitos trabalhados no Módulo:\r\n",
        "##✓ Scikit-Learning.\r\n",
        "##✓ Programação concorrente.\r\n",
        "##✓ Programação reativa.\r\n"
      ]
    },
    {
      "cell_type": "code",
      "metadata": {
        "id": "6gdKbUFsxSl7"
      },
      "source": [
        "#importa as bibliotecas necessárias\n",
        "import pandas as pd\n",
        "import matplotlib.pyplot as plt"
      ],
      "execution_count": null,
      "outputs": []
    },
    {
      "cell_type": "code",
      "metadata": {
        "id": "8X4wscM01duf",
        "colab": {
          "base_uri": "https://localhost:8080/",
          "height": 224
        },
        "outputId": "661d4f2d-670f-4dbd-9cfb-986af43e020f"
      },
      "source": [
        "#leitura dos dados csv e cria o dataframe\n",
        "df = pd.read_csv(\"/content/doencas_coracao.csv\")\n",
        "df.head()"
      ],
      "execution_count": null,
      "outputs": [
        {
          "output_type": "execute_result",
          "data": {
            "text/html": [
              "<div>\n",
              "<style scoped>\n",
              "    .dataframe tbody tr th:only-of-type {\n",
              "        vertical-align: middle;\n",
              "    }\n",
              "\n",
              "    .dataframe tbody tr th {\n",
              "        vertical-align: top;\n",
              "    }\n",
              "\n",
              "    .dataframe thead th {\n",
              "        text-align: right;\n",
              "    }\n",
              "</style>\n",
              "<table border=\"1\" class=\"dataframe\">\n",
              "  <thead>\n",
              "    <tr style=\"text-align: right;\">\n",
              "      <th></th>\n",
              "      <th>age</th>\n",
              "      <th>anaemia</th>\n",
              "      <th>creatinine_phosphokinase</th>\n",
              "      <th>diabetes</th>\n",
              "      <th>ejection_fraction</th>\n",
              "      <th>high_blood_pressure</th>\n",
              "      <th>platelets</th>\n",
              "      <th>serum_creatinine</th>\n",
              "      <th>serum_sodium</th>\n",
              "      <th>sex</th>\n",
              "      <th>smoking</th>\n",
              "      <th>time</th>\n",
              "      <th>DEATH_EVENT</th>\n",
              "    </tr>\n",
              "  </thead>\n",
              "  <tbody>\n",
              "    <tr>\n",
              "      <th>0</th>\n",
              "      <td>75.0</td>\n",
              "      <td>0</td>\n",
              "      <td>582</td>\n",
              "      <td>0</td>\n",
              "      <td>20</td>\n",
              "      <td>1</td>\n",
              "      <td>265000.00</td>\n",
              "      <td>1.9</td>\n",
              "      <td>130</td>\n",
              "      <td>1</td>\n",
              "      <td>0</td>\n",
              "      <td>4</td>\n",
              "      <td>1</td>\n",
              "    </tr>\n",
              "    <tr>\n",
              "      <th>1</th>\n",
              "      <td>55.0</td>\n",
              "      <td>0</td>\n",
              "      <td>7861</td>\n",
              "      <td>0</td>\n",
              "      <td>38</td>\n",
              "      <td>0</td>\n",
              "      <td>263358.03</td>\n",
              "      <td>1.1</td>\n",
              "      <td>136</td>\n",
              "      <td>1</td>\n",
              "      <td>0</td>\n",
              "      <td>6</td>\n",
              "      <td>1</td>\n",
              "    </tr>\n",
              "    <tr>\n",
              "      <th>2</th>\n",
              "      <td>65.0</td>\n",
              "      <td>0</td>\n",
              "      <td>146</td>\n",
              "      <td>0</td>\n",
              "      <td>20</td>\n",
              "      <td>0</td>\n",
              "      <td>162000.00</td>\n",
              "      <td>1.3</td>\n",
              "      <td>129</td>\n",
              "      <td>1</td>\n",
              "      <td>1</td>\n",
              "      <td>7</td>\n",
              "      <td>1</td>\n",
              "    </tr>\n",
              "    <tr>\n",
              "      <th>3</th>\n",
              "      <td>50.0</td>\n",
              "      <td>1</td>\n",
              "      <td>111</td>\n",
              "      <td>0</td>\n",
              "      <td>20</td>\n",
              "      <td>0</td>\n",
              "      <td>210000.00</td>\n",
              "      <td>1.9</td>\n",
              "      <td>137</td>\n",
              "      <td>1</td>\n",
              "      <td>0</td>\n",
              "      <td>7</td>\n",
              "      <td>1</td>\n",
              "    </tr>\n",
              "    <tr>\n",
              "      <th>4</th>\n",
              "      <td>65.0</td>\n",
              "      <td>1</td>\n",
              "      <td>160</td>\n",
              "      <td>1</td>\n",
              "      <td>20</td>\n",
              "      <td>0</td>\n",
              "      <td>327000.00</td>\n",
              "      <td>2.7</td>\n",
              "      <td>116</td>\n",
              "      <td>0</td>\n",
              "      <td>0</td>\n",
              "      <td>8</td>\n",
              "      <td>1</td>\n",
              "    </tr>\n",
              "  </tbody>\n",
              "</table>\n",
              "</div>"
            ],
            "text/plain": [
              "    age  anaemia  creatinine_phosphokinase  ...  smoking  time  DEATH_EVENT\n",
              "0  75.0        0                       582  ...        0     4            1\n",
              "1  55.0        0                      7861  ...        0     6            1\n",
              "2  65.0        0                       146  ...        1     7            1\n",
              "3  50.0        1                       111  ...        0     7            1\n",
              "4  65.0        1                       160  ...        0     8            1\n",
              "\n",
              "[5 rows x 13 columns]"
            ]
          },
          "metadata": {
            "tags": []
          },
          "execution_count": 2
        }
      ]
    },
    {
      "cell_type": "code",
      "metadata": {
        "id": "WBaut7VK1rDr",
        "colab": {
          "base_uri": "https://localhost:8080/"
        },
        "outputId": "09dca0b5-ca88-43b0-ff67-f5f11896ae4a"
      },
      "source": [
        "df.info()"
      ],
      "execution_count": null,
      "outputs": [
        {
          "output_type": "stream",
          "text": [
            "<class 'pandas.core.frame.DataFrame'>\n",
            "RangeIndex: 299 entries, 0 to 298\n",
            "Data columns (total 13 columns):\n",
            " #   Column                    Non-Null Count  Dtype  \n",
            "---  ------                    --------------  -----  \n",
            " 0   age                       299 non-null    float64\n",
            " 1   anaemia                   299 non-null    int64  \n",
            " 2   creatinine_phosphokinase  299 non-null    int64  \n",
            " 3   diabetes                  299 non-null    int64  \n",
            " 4   ejection_fraction         299 non-null    int64  \n",
            " 5   high_blood_pressure       299 non-null    int64  \n",
            " 6   platelets                 299 non-null    float64\n",
            " 7   serum_creatinine          299 non-null    float64\n",
            " 8   serum_sodium              299 non-null    int64  \n",
            " 9   sex                       299 non-null    int64  \n",
            " 10  smoking                   299 non-null    int64  \n",
            " 11  time                      299 non-null    int64  \n",
            " 12  DEATH_EVENT               299 non-null    int64  \n",
            "dtypes: float64(3), int64(10)\n",
            "memory usage: 30.5 KB\n"
          ],
          "name": "stdout"
        }
      ]
    },
    {
      "cell_type": "markdown",
      "metadata": {
        "id": "wBvXN1eLI_O9"
      },
      "source": [
        "**Pergunta 1**: Sobre a quantidade de instâncias e de características presentes no dataset, é CORRETO afirmar: *Existem 299 instâncias e 13 características.*"
      ]
    },
    {
      "cell_type": "markdown",
      "metadata": {
        "id": "ciZoAm7wJXv6"
      },
      "source": [
        "**Pergunta 2**: Quantos tipos de dados diferentes existem no dataset? Considere apenas a carga utilizando o módulo pandas. *2 tipos diferentes de dados.* "
      ]
    },
    {
      "cell_type": "code",
      "metadata": {
        "id": "uzTRZ84112tW",
        "colab": {
          "base_uri": "https://localhost:8080/",
          "height": 317
        },
        "outputId": "674ebb7d-0f8e-44b3-876f-a27878afcd36"
      },
      "source": [
        "# estatísticas básicas\n",
        "df.describe()"
      ],
      "execution_count": null,
      "outputs": [
        {
          "output_type": "execute_result",
          "data": {
            "text/html": [
              "<div>\n",
              "<style scoped>\n",
              "    .dataframe tbody tr th:only-of-type {\n",
              "        vertical-align: middle;\n",
              "    }\n",
              "\n",
              "    .dataframe tbody tr th {\n",
              "        vertical-align: top;\n",
              "    }\n",
              "\n",
              "    .dataframe thead th {\n",
              "        text-align: right;\n",
              "    }\n",
              "</style>\n",
              "<table border=\"1\" class=\"dataframe\">\n",
              "  <thead>\n",
              "    <tr style=\"text-align: right;\">\n",
              "      <th></th>\n",
              "      <th>age</th>\n",
              "      <th>anaemia</th>\n",
              "      <th>creatinine_phosphokinase</th>\n",
              "      <th>diabetes</th>\n",
              "      <th>ejection_fraction</th>\n",
              "      <th>high_blood_pressure</th>\n",
              "      <th>platelets</th>\n",
              "      <th>serum_creatinine</th>\n",
              "      <th>serum_sodium</th>\n",
              "      <th>sex</th>\n",
              "      <th>smoking</th>\n",
              "      <th>time</th>\n",
              "      <th>DEATH_EVENT</th>\n",
              "    </tr>\n",
              "  </thead>\n",
              "  <tbody>\n",
              "    <tr>\n",
              "      <th>count</th>\n",
              "      <td>299.000000</td>\n",
              "      <td>299.000000</td>\n",
              "      <td>299.000000</td>\n",
              "      <td>299.000000</td>\n",
              "      <td>299.000000</td>\n",
              "      <td>299.000000</td>\n",
              "      <td>299.000000</td>\n",
              "      <td>299.00000</td>\n",
              "      <td>299.000000</td>\n",
              "      <td>299.000000</td>\n",
              "      <td>299.00000</td>\n",
              "      <td>299.000000</td>\n",
              "      <td>299.00000</td>\n",
              "    </tr>\n",
              "    <tr>\n",
              "      <th>mean</th>\n",
              "      <td>60.833893</td>\n",
              "      <td>0.431438</td>\n",
              "      <td>581.839465</td>\n",
              "      <td>0.418060</td>\n",
              "      <td>38.083612</td>\n",
              "      <td>0.351171</td>\n",
              "      <td>263358.029264</td>\n",
              "      <td>1.39388</td>\n",
              "      <td>136.625418</td>\n",
              "      <td>0.648829</td>\n",
              "      <td>0.32107</td>\n",
              "      <td>130.260870</td>\n",
              "      <td>0.32107</td>\n",
              "    </tr>\n",
              "    <tr>\n",
              "      <th>std</th>\n",
              "      <td>11.894809</td>\n",
              "      <td>0.496107</td>\n",
              "      <td>970.287881</td>\n",
              "      <td>0.494067</td>\n",
              "      <td>11.834841</td>\n",
              "      <td>0.478136</td>\n",
              "      <td>97804.236869</td>\n",
              "      <td>1.03451</td>\n",
              "      <td>4.412477</td>\n",
              "      <td>0.478136</td>\n",
              "      <td>0.46767</td>\n",
              "      <td>77.614208</td>\n",
              "      <td>0.46767</td>\n",
              "    </tr>\n",
              "    <tr>\n",
              "      <th>min</th>\n",
              "      <td>40.000000</td>\n",
              "      <td>0.000000</td>\n",
              "      <td>23.000000</td>\n",
              "      <td>0.000000</td>\n",
              "      <td>14.000000</td>\n",
              "      <td>0.000000</td>\n",
              "      <td>25100.000000</td>\n",
              "      <td>0.50000</td>\n",
              "      <td>113.000000</td>\n",
              "      <td>0.000000</td>\n",
              "      <td>0.00000</td>\n",
              "      <td>4.000000</td>\n",
              "      <td>0.00000</td>\n",
              "    </tr>\n",
              "    <tr>\n",
              "      <th>25%</th>\n",
              "      <td>51.000000</td>\n",
              "      <td>0.000000</td>\n",
              "      <td>116.500000</td>\n",
              "      <td>0.000000</td>\n",
              "      <td>30.000000</td>\n",
              "      <td>0.000000</td>\n",
              "      <td>212500.000000</td>\n",
              "      <td>0.90000</td>\n",
              "      <td>134.000000</td>\n",
              "      <td>0.000000</td>\n",
              "      <td>0.00000</td>\n",
              "      <td>73.000000</td>\n",
              "      <td>0.00000</td>\n",
              "    </tr>\n",
              "    <tr>\n",
              "      <th>50%</th>\n",
              "      <td>60.000000</td>\n",
              "      <td>0.000000</td>\n",
              "      <td>250.000000</td>\n",
              "      <td>0.000000</td>\n",
              "      <td>38.000000</td>\n",
              "      <td>0.000000</td>\n",
              "      <td>262000.000000</td>\n",
              "      <td>1.10000</td>\n",
              "      <td>137.000000</td>\n",
              "      <td>1.000000</td>\n",
              "      <td>0.00000</td>\n",
              "      <td>115.000000</td>\n",
              "      <td>0.00000</td>\n",
              "    </tr>\n",
              "    <tr>\n",
              "      <th>75%</th>\n",
              "      <td>70.000000</td>\n",
              "      <td>1.000000</td>\n",
              "      <td>582.000000</td>\n",
              "      <td>1.000000</td>\n",
              "      <td>45.000000</td>\n",
              "      <td>1.000000</td>\n",
              "      <td>303500.000000</td>\n",
              "      <td>1.40000</td>\n",
              "      <td>140.000000</td>\n",
              "      <td>1.000000</td>\n",
              "      <td>1.00000</td>\n",
              "      <td>203.000000</td>\n",
              "      <td>1.00000</td>\n",
              "    </tr>\n",
              "    <tr>\n",
              "      <th>max</th>\n",
              "      <td>95.000000</td>\n",
              "      <td>1.000000</td>\n",
              "      <td>7861.000000</td>\n",
              "      <td>1.000000</td>\n",
              "      <td>80.000000</td>\n",
              "      <td>1.000000</td>\n",
              "      <td>850000.000000</td>\n",
              "      <td>9.40000</td>\n",
              "      <td>148.000000</td>\n",
              "      <td>1.000000</td>\n",
              "      <td>1.00000</td>\n",
              "      <td>285.000000</td>\n",
              "      <td>1.00000</td>\n",
              "    </tr>\n",
              "  </tbody>\n",
              "</table>\n",
              "</div>"
            ],
            "text/plain": [
              "              age     anaemia  ...        time  DEATH_EVENT\n",
              "count  299.000000  299.000000  ...  299.000000    299.00000\n",
              "mean    60.833893    0.431438  ...  130.260870      0.32107\n",
              "std     11.894809    0.496107  ...   77.614208      0.46767\n",
              "min     40.000000    0.000000  ...    4.000000      0.00000\n",
              "25%     51.000000    0.000000  ...   73.000000      0.00000\n",
              "50%     60.000000    0.000000  ...  115.000000      0.00000\n",
              "75%     70.000000    1.000000  ...  203.000000      1.00000\n",
              "max     95.000000    1.000000  ...  285.000000      1.00000\n",
              "\n",
              "[8 rows x 13 columns]"
            ]
          },
          "metadata": {
            "tags": []
          },
          "execution_count": 4
        }
      ]
    },
    {
      "cell_type": "code",
      "metadata": {
        "id": "UYvL9bFuD9Dq",
        "colab": {
          "base_uri": "https://localhost:8080/"
        },
        "outputId": "8d5e4d94-0b1f-43f0-a084-2e7e866e93a5"
      },
      "source": [
        "cond = df['DEATH_EVENT'] == 1\n",
        "df[cond].mean()"
      ],
      "execution_count": null,
      "outputs": [
        {
          "output_type": "execute_result",
          "data": {
            "text/plain": [
              "age                             65.215281\n",
              "anaemia                          0.479167\n",
              "creatinine_phosphokinase       670.197917\n",
              "diabetes                         0.416667\n",
              "ejection_fraction               33.468750\n",
              "high_blood_pressure              0.406250\n",
              "platelets                   256381.044792\n",
              "serum_creatinine                 1.835833\n",
              "serum_sodium                   135.375000\n",
              "sex                              0.645833\n",
              "smoking                          0.312500\n",
              "time                            70.885417\n",
              "DEATH_EVENT                      1.000000\n",
              "dtype: float64"
            ]
          },
          "metadata": {
            "tags": []
          },
          "execution_count": 21
        }
      ]
    },
    {
      "cell_type": "code",
      "metadata": {
        "id": "n25nzL4GEqER",
        "colab": {
          "base_uri": "https://localhost:8080/"
        },
        "outputId": "680e1927-1268-4208-a73a-6dce24b40643"
      },
      "source": [
        "cond = df['DEATH_EVENT'] == 1\n",
        "df[cond].loc[:, 'age'].mean()"
      ],
      "execution_count": null,
      "outputs": [
        {
          "output_type": "execute_result",
          "data": {
            "text/plain": [
              "65.21528125"
            ]
          },
          "metadata": {
            "tags": []
          },
          "execution_count": 24
        }
      ]
    },
    {
      "cell_type": "markdown",
      "metadata": {
        "id": "o9Ddvs7uJmu5"
      },
      "source": [
        "**Pergunta 3**: Qual era a idade (age) média dos pacientes que faleceram (DEATH_EVENT=1)? *65,21 anos.*"
      ]
    },
    {
      "cell_type": "code",
      "metadata": {
        "id": "UbWBGKs_FnA2",
        "colab": {
          "base_uri": "https://localhost:8080/"
        },
        "outputId": "2cb91c8e-fd55-4d96-c19b-86d92c49ed8b"
      },
      "source": [
        "cond1 = (df['DEATH_EVENT'] == 1) & (df['sex'] == 0)\n",
        "df[cond].count()"
      ],
      "execution_count": null,
      "outputs": [
        {
          "output_type": "execute_result",
          "data": {
            "text/plain": [
              "age                         96\n",
              "anaemia                     96\n",
              "creatinine_phosphokinase    96\n",
              "diabetes                    96\n",
              "ejection_fraction           96\n",
              "high_blood_pressure         96\n",
              "platelets                   96\n",
              "serum_creatinine            96\n",
              "serum_sodium                96\n",
              "sex                         96\n",
              "smoking                     96\n",
              "time                        96\n",
              "DEATH_EVENT                 96\n",
              "dtype: int64"
            ]
          },
          "metadata": {
            "tags": []
          },
          "execution_count": 37
        }
      ]
    },
    {
      "cell_type": "markdown",
      "metadata": {
        "id": "ou8X-gj3Kbs3"
      },
      "source": [
        "**Pergunta 4**: Dentre os pacientes que faleceram (DEATH_EVENT=1), quantos são do sexo feminino (sex=0)? *96.*"
      ]
    },
    {
      "cell_type": "markdown",
      "metadata": {
        "id": "u3Y7svXxK-Yw"
      },
      "source": [
        "**Para as perguntas referentes aos modelos, utilize: Scikit-Learning**"
      ]
    },
    {
      "cell_type": "code",
      "metadata": {
        "id": "__xZPDHW2E7X"
      },
      "source": [
        "#transforma os dados em array\n",
        "entradas = df.iloc[:, :-1].values  #dados de entrada\n",
        "saida = df.iloc[:, -1].values  #saídas ou target\n",
        "#print(entradas)\n",
        "#print(saida)"
      ],
      "execution_count": null,
      "outputs": []
    },
    {
      "cell_type": "code",
      "metadata": {
        "id": "y8TEf_kl2XfL"
      },
      "source": [
        "# realiza o processo de normalização dos dados\n",
        "from sklearn.preprocessing import MinMaxScaler\n",
        "normaliza = MinMaxScaler() #objeto para a normalização\n",
        "#entradas_normalizadas\n",
        "entradas_normalizadas = normaliza.fit_transform(entradas) #realiza a normalização dos dados"
      ],
      "execution_count": null,
      "outputs": []
    },
    {
      "cell_type": "code",
      "metadata": {
        "id": "6AT_4YIU2-Uh"
      },
      "source": [
        "#realiza a divisão dos dados entre treinamento e teste\n",
        "from sklearn.model_selection import train_test_split # função que realiza a divisão do dataset\n",
        "# divide 30% para teste\n",
        "x_train, x_test, y_train, y_test = train_test_split(entradas_normalizadas, saida, test_size=0.30, random_state=42)"
      ],
      "execution_count": null,
      "outputs": []
    },
    {
      "cell_type": "markdown",
      "metadata": {
        "id": "-60vB6GT3tmB"
      },
      "source": [
        "**Algoritmo KNN:** clf_KNN bold text = KNeighborsClassifier(n_neighbors=5)"
      ]
    },
    {
      "cell_type": "code",
      "metadata": {
        "id": "kUZlbQCW3zmC",
        "colab": {
          "base_uri": "https://localhost:8080/"
        },
        "outputId": "e8ce9588-3216-4fce-85fd-d8815261d318"
      },
      "source": [
        "#treina o modelo\n",
        "from sklearn.neighbors import KNeighborsClassifier\n",
        "clf_KNN = KNeighborsClassifier(n_neighbors=5) #utiliza a construção por meio de 5 vizinhos\n",
        "clf_KNN.fit(x_train, y_train) # Realiza o treinamento do classificador"
      ],
      "execution_count": null,
      "outputs": [
        {
          "output_type": "execute_result",
          "data": {
            "text/plain": [
              "KNeighborsClassifier(algorithm='auto', leaf_size=30, metric='minkowski',\n",
              "                     metric_params=None, n_jobs=None, n_neighbors=5, p=2,\n",
              "                     weights='uniform')"
            ]
          },
          "metadata": {
            "tags": []
          },
          "execution_count": 8
        }
      ]
    },
    {
      "cell_type": "code",
      "metadata": {
        "id": "KKncg-bB4S5B"
      },
      "source": [
        "#Realiza a previsão de classificaçao\n",
        "y_pred_KNN = clf_KNN.predict(x_test)"
      ],
      "execution_count": null,
      "outputs": []
    },
    {
      "cell_type": "code",
      "metadata": {
        "id": "gzyfyg6d4UZw",
        "colab": {
          "base_uri": "https://localhost:8080/"
        },
        "outputId": "6515b543-868e-48e7-886b-eebfea6383da"
      },
      "source": [
        "#constroi a matriz de confusão para comparar o modelo criado\n",
        "from sklearn.metrics import classification_report, confusion_matrix\n",
        "print(confusion_matrix(y_test, y_pred_KNN))\n",
        "print(classification_report(y_test, y_pred_KNN))"
      ],
      "execution_count": null,
      "outputs": [
        {
          "output_type": "stream",
          "text": [
            "[[51  2]\n",
            " [33  4]]\n",
            "              precision    recall  f1-score   support\n",
            "\n",
            "           0       0.61      0.96      0.74        53\n",
            "           1       0.67      0.11      0.19        37\n",
            "\n",
            "    accuracy                           0.61        90\n",
            "   macro avg       0.64      0.54      0.47        90\n",
            "weighted avg       0.63      0.61      0.51        90\n",
            "\n"
          ],
          "name": "stdout"
        }
      ]
    },
    {
      "cell_type": "code",
      "metadata": {
        "id": "ybo-yVnD4hSy",
        "colab": {
          "base_uri": "https://localhost:8080/",
          "height": 279
        },
        "outputId": "1ef5203a-0b73-4330-c786-8ce235d57e09"
      },
      "source": [
        "#Avaliando o modelo \n",
        "\n",
        "#realiza o plot da matriz de confusão\n",
        "matriz_confusao_KNN = confusion_matrix(y_test, y_pred_KNN )\n",
        "from mlxtend.plotting import plot_confusion_matrix\n",
        "\n",
        "fig, ax = plot_confusion_matrix(conf_mat=matriz_confusao_KNN)\n",
        "plt.show()"
      ],
      "execution_count": null,
      "outputs": [
        {
          "output_type": "display_data",
          "data": {
            "image/png": "[encoded data removed]",
            "text/plain": [
              "<Figure size 432x288 with 1 Axes>"
            ]
          },
          "metadata": {
            "tags": [],
            "needs_background": "light"
          }
        }
      ]
    },
    {
      "cell_type": "markdown",
      "metadata": {
        "id": "Zm-ZCJzULRF6"
      },
      "source": [
        "**Pergunta 5**: Após dividir as colunas do dataframe entre entrada e saída, aplicar a normalização dos dados como apresentado no enunciado (MinMaxScaler()) e dividir esses dados entre treinamento e teste, aplique o algoritmo KNN. Qual é, aproximadamente, a acurácia do modelo? *0,61.*"
      ]
    },
    {
      "cell_type": "markdown",
      "metadata": {
        "id": "Ceq23dln4wqb"
      },
      "source": [
        "**Algoritmo Árvore de Decisão:** clf_arvore = DecisionTreeClassifier(random_state=1)"
      ]
    },
    {
      "cell_type": "code",
      "metadata": {
        "id": "TVjFEbTC40Jg",
        "colab": {
          "base_uri": "https://localhost:8080/"
        },
        "outputId": "e4730439-cba6-4d81-d7e2-241f8a02b2ad"
      },
      "source": [
        "#treina o modelo\n",
        "from sklearn.tree import DecisionTreeClassifier # importa o classificador árvore de decisão\n",
        "clf_arvore = DecisionTreeClassifier(random_state=1)\n",
        "clf_arvore.fit(x_train,y_train) # Realiza o treinamento do classificador"
      ],
      "execution_count": null,
      "outputs": [
        {
          "output_type": "execute_result",
          "data": {
            "text/plain": [
              "DecisionTreeClassifier(ccp_alpha=0.0, class_weight=None, criterion='gini',\n",
              "                       max_depth=None, max_features=None, max_leaf_nodes=None,\n",
              "                       min_impurity_decrease=0.0, min_impurity_split=None,\n",
              "                       min_samples_leaf=1, min_samples_split=2,\n",
              "                       min_weight_fraction_leaf=0.0, presort='deprecated',\n",
              "                       random_state=1, splitter='best')"
            ]
          },
          "metadata": {
            "tags": []
          },
          "execution_count": 12
        }
      ]
    },
    {
      "cell_type": "code",
      "metadata": {
        "id": "dWaZI-ua5DEw"
      },
      "source": [
        "#Realiza a previsão de classificaçao \n",
        "y_pred_arvore = clf_arvore.predict(x_test)"
      ],
      "execution_count": null,
      "outputs": []
    },
    {
      "cell_type": "code",
      "metadata": {
        "id": "0hGWOXlO5G3B",
        "colab": {
          "base_uri": "https://localhost:8080/"
        },
        "outputId": "82142337-b446-4652-9e84-0adfac548989"
      },
      "source": [
        "#constroi a matriz de confusão para comparar o modelo criado\n",
        "from sklearn.metrics import classification_report, confusion_matrix\n",
        "print(confusion_matrix(y_test, y_pred_arvore))\n",
        "print(classification_report(y_test, y_pred_arvore))"
      ],
      "execution_count": null,
      "outputs": [
        {
          "output_type": "stream",
          "text": [
            "[[42 11]\n",
            " [19 18]]\n",
            "              precision    recall  f1-score   support\n",
            "\n",
            "           0       0.69      0.79      0.74        53\n",
            "           1       0.62      0.49      0.55        37\n",
            "\n",
            "    accuracy                           0.67        90\n",
            "   macro avg       0.65      0.64      0.64        90\n",
            "weighted avg       0.66      0.67      0.66        90\n",
            "\n"
          ],
          "name": "stdout"
        }
      ]
    },
    {
      "cell_type": "code",
      "metadata": {
        "id": "2JXz0yy45MwY",
        "colab": {
          "base_uri": "https://localhost:8080/",
          "height": 279
        },
        "outputId": "3d34f902-e109-474b-8592-0a254f91b1db"
      },
      "source": [
        "#Avaliando o modelo \n",
        "\n",
        "#realiza o plot da matriz de confusão\n",
        "matriz_confusao_arvore = confusion_matrix(y_test, y_pred_arvore)\n",
        "from mlxtend.plotting import plot_confusion_matrix\n",
        "\n",
        "fig, ax = plot_confusion_matrix(conf_mat=matriz_confusao_arvore)\n",
        "plt.show()"
      ],
      "execution_count": null,
      "outputs": [
        {
          "output_type": "display_data",
          "data": {
            "image/png": "[encoded data removed]",
            "text/plain": [
              "<Figure size 432x288 with 1 Axes>"
            ]
          },
          "metadata": {
            "tags": [],
            "needs_background": "light"
          }
        }
      ]
    },
    {
      "cell_type": "markdown",
      "metadata": {
        "id": "-MxoAeZ35Ymf"
      },
      "source": [
        "**Algoritmo Rede MLP :**\n",
        "clf_mlp = MLPClassifier(solver='lbfgs', alpha=1e-5, hidden_layer_sizes=(5,\n",
        "10), random_state=1)"
      ]
    },
    {
      "cell_type": "code",
      "metadata": {
        "id": "cw6X5hd65dt2",
        "colab": {
          "base_uri": "https://localhost:8080/"
        },
        "outputId": "b65f6088-f46f-474f-d8c4-91061b997ed2"
      },
      "source": [
        "#treina o modelo\n",
        "from sklearn.neural_network import MLPClassifier # importa o classificador Redes Neurais (MLP)\n",
        "clf_mlp = MLPClassifier(solver='lbfgs', alpha=1e-5, hidden_layer_sizes=(5, 10), random_state=1)\n",
        "clf_mlp.fit(x_train,y_train) # Realiza o treinamento do classificador"
      ],
      "execution_count": null,
      "outputs": [
        {
          "output_type": "execute_result",
          "data": {
            "text/plain": [
              "MLPClassifier(activation='relu', alpha=1e-05, batch_size='auto', beta_1=0.9,\n",
              "              beta_2=0.999, early_stopping=False, epsilon=1e-08,\n",
              "              hidden_layer_sizes=(5, 10), learning_rate='constant',\n",
              "              learning_rate_init=0.001, max_fun=15000, max_iter=200,\n",
              "              momentum=0.9, n_iter_no_change=10, nesterovs_momentum=True,\n",
              "              power_t=0.5, random_state=1, shuffle=True, solver='lbfgs',\n",
              "              tol=0.0001, validation_fraction=0.1, verbose=False,\n",
              "              warm_start=False)"
            ]
          },
          "metadata": {
            "tags": []
          },
          "execution_count": 16
        }
      ]
    },
    {
      "cell_type": "code",
      "metadata": {
        "id": "l1QfqGuD6HsM"
      },
      "source": [
        "#Realiza a previsão de classificaçao \n",
        "y_pred_mlp = clf_mlp.predict(x_test)"
      ],
      "execution_count": null,
      "outputs": []
    },
    {
      "cell_type": "code",
      "metadata": {
        "id": "Hpjdq9SK6OOB",
        "colab": {
          "base_uri": "https://localhost:8080/"
        },
        "outputId": "7185e894-ba71-4faa-8c41-23fb44ff4a71"
      },
      "source": [
        "#constroi a matriz de confusão para comparar o modelo criado\n",
        "from sklearn.metrics import classification_report, confusion_matrix\n",
        "print(confusion_matrix(y_test, y_pred_mlp))\n",
        "print(classification_report(y_test, y_pred_mlp))"
      ],
      "execution_count": null,
      "outputs": [
        {
          "output_type": "stream",
          "text": [
            "[[51  2]\n",
            " [24 13]]\n",
            "              precision    recall  f1-score   support\n",
            "\n",
            "           0       0.68      0.96      0.80        53\n",
            "           1       0.87      0.35      0.50        37\n",
            "\n",
            "    accuracy                           0.71        90\n",
            "   macro avg       0.77      0.66      0.65        90\n",
            "weighted avg       0.76      0.71      0.67        90\n",
            "\n"
          ],
          "name": "stdout"
        }
      ]
    },
    {
      "cell_type": "code",
      "metadata": {
        "id": "06pZJmry6T5L",
        "colab": {
          "base_uri": "https://localhost:8080/",
          "height": 279
        },
        "outputId": "8b8d5e00-f32c-41cd-b0f0-67fb824c2c2d"
      },
      "source": [
        "#Avaliando o modelo \n",
        "\n",
        "#realiza o plot da matriz de confusão\n",
        "matriz_confusao_mlp = confusion_matrix(y_test, y_pred_mlp)\n",
        "from mlxtend.plotting import plot_confusion_matrix\n",
        "\n",
        "fig, ax = plot_confusion_matrix(conf_mat=matriz_confusao_mlp)\n",
        "plt.show()"
      ],
      "execution_count": null,
      "outputs": [
        {
          "output_type": "display_data",
          "data": {
            "image/png": "[encoded data removed]",
            "text/plain": [
              "<Figure size 432x288 with 1 Axes>"
            ]
          },
          "metadata": {
            "tags": [],
            "needs_background": "light"
          }
        }
      ]
    },
    {
      "cell_type": "markdown",
      "metadata": {
        "id": "R5WOV5_bLftK"
      },
      "source": [
        "**Pergunta 6**: Após dividir as colunas do dataframe entre entrada e saída, aplicar a normalização dos dados como apresentado no enunciado (MinMaxScaler()) e dividir esses dados entre treinamento e teste, aplique os algoritmos KNN, Árvore de Decisão e MLP. Qual dos algoritmos apresentou maior acurácia? *MLP.* "
      ]
    },
    {
      "cell_type": "markdown",
      "metadata": {
        "id": "F21qU8iB7JiV"
      },
      "source": [
        "# **O código abaixo deve ser utilizado para as questões de concorrência:**"
      ]
    },
    {
      "cell_type": "code",
      "metadata": {
        "id": "srYGDmAq875-"
      },
      "source": [
        "import threading #módulo para a construção de threads\n",
        "import time #módulo para tratar tempo\n",
        "#import random  #módulo para geração de números randomicos\n",
        "from random import randint"
      ],
      "execution_count": null,
      "outputs": []
    },
    {
      "cell_type": "code",
      "metadata": {
        "id": "YKs89y1G7LIZ"
      },
      "source": [
        "# Utilize a função abaixo como a “tarefa” a ser realizada pelas threads.\n",
        "def contador():\n",
        "  x = 10 #1000000000\n",
        "  while x > 0:\n",
        "    x -= 1\n",
        "    print(\"contador {}\".format(x)) \n",
        "    #time.sleep(randint(1,20)) #Para a implementação com o tempo (dormir) das threads\n",
        "\n",
        "def contador_t1():\n",
        "  x = 10 #1000000000\n",
        "  while x > 0:\n",
        "    x -= 1\n",
        "    print(\"contador t1 {}\".format(x)) \n",
        "    time.sleep(randint(1,20)) #Para a implementação com o tempo (dormir) das threads\n",
        "\n",
        "def contador_t2():\n",
        "  x = 10 #1000000000\n",
        "  while x > 0:\n",
        "    x -= 1\n",
        "    print(\"contador t2 {}\".format(x)) \n",
        "    time.sleep(randint(1,20)) #Para a implementação com o tempo (dormir) das threads"
      ],
      "execution_count": null,
      "outputs": []
    },
    {
      "cell_type": "code",
      "metadata": {
        "id": "adkRGKK9cxOf",
        "colab": {
          "base_uri": "https://localhost:8080/"
        },
        "outputId": "ff750988-327a-47d2-9fb3-5a6e02d4207a"
      },
      "source": [
        "#Para as chamadas sequenciais utilize o protótipo:\n",
        "def imple_sequencial():\n",
        "  contador()\n",
        "  contador()\n",
        "\n",
        "t0 = time.time() #armazena o tempo inicial de execução\n",
        "imple_sequencial()\n",
        "t1 = time.time() #tempo final após a execução\n",
        "totalTime1 = t1 - t0  #diferença de tempo entre o valor inical de execução e o final\n",
        "print(\"Tempo total de execução sequencial {}\".format(totalTime1)) \n",
        "\n",
        "#Para as threads, utilize o protótipo:\n",
        "def imple_concorrente():\n",
        "  thread_1 = threading.Thread(target=contador_t1) \n",
        "  thread_2 = threading.Thread(target=contador_t2)\n",
        "  thread_1.start()\n",
        "  thread_2.start()   \n",
        "  thread_1.join()\n",
        "  thread_2.join()   \n",
        "\n",
        "t3 = time.time() #armazena o tempo inicial de execução\n",
        "imple_concorrente()\n",
        "t4 = time.time() #tempo final após a execução\n",
        "totalTime2 = t4 - t3  #diferença de tempo entre o valor inical de execução e o final\n",
        "print(\"Tempo total de execução concorrente {}\".format(totalTime2)) \n",
        "\n",
        "# para o loop de 1.000.000 de vezes\n",
        "#Tempo total de execução sequencial 107.69099402427673\n",
        "#Tempo total de execução concorrente 108.72845363616943\n",
        "#Tempo total de execução sequencial 108.59940695762634\n",
        "#Tempo total de execução concorrente 108.72381639480591\n",
        "#Tempo total de execução sequencial 108.05709338188171\n",
        "#Tempo total de execução concorrente 108.82221007347107\n",
        "\n",
        "# para o loop de 100.000 de vezes\n",
        "#Tempo total de execução sequencial 10.807241201400757\n",
        "#Tempo total de execução concorrente 10.90002989768982\n",
        "#Tempo total de execução sequencial 11.130903959274292\n",
        "#Tempo total de execução concorrente 11.021122694015503\n",
        "#Tempo total de execução sequencial 10.847938537597656\n",
        "#Tempo total de execução concorrente 11.004305601119995\n",
        "\n",
        "# para o loop de 10.000 de vezes\n",
        "#Tempo total de execução sequencial 1.112368106842041\n",
        "#Tempo total de execução concorrente 1.091392993927002\n",
        "#Tempo total de execução sequencial 1.126946210861206\n",
        "#Tempo total de execução concorrente 1.1058409214019775\n",
        "#Tempo total de execução sequencial 1.0861835479736328\n",
        "#Tempo total de execução concorrente 1.0952951908111572\n",
        "\n"
      ],
      "execution_count": null,
      "outputs": [
        {
          "output_type": "stream",
          "text": [
            "contador 9\n",
            "contador 8\n",
            "contador 7\n",
            "contador 6\n",
            "contador 5\n",
            "contador 4\n",
            "contador 3\n",
            "contador 2\n",
            "contador 1\n",
            "contador 0\n",
            "contador 9\n",
            "contador 8\n",
            "contador 7\n",
            "contador 6\n",
            "contador 5\n",
            "contador 4\n",
            "contador 3\n",
            "contador 2\n",
            "contador 1\n",
            "contador 0\n",
            "Tempo total de execução sequencial 0.0005292892456054688\n",
            "contador t1 9\n",
            "contador t2 9\n",
            "contador t2 8\n",
            "contador t2 7\n",
            "contador t1 8\n",
            "contador t1 7\n",
            "contador t1 6\n",
            "contador t2 6\n",
            "contador t2 5\n",
            "contador t1 5\n",
            "contador t2 4\n",
            "contador t1 4\n",
            "contador t2 3\n",
            "contador t2 2\n",
            "contador t1 3\n",
            "contador t2 1\n",
            "contador t1 2\n",
            "contador t1 1\n",
            "contador t2 0\n",
            "contador t1 0\n",
            "Tempo total de execução concorrente 117.09630179405212\n"
          ],
          "name": "stdout"
        }
      ]
    },
    {
      "cell_type": "markdown",
      "metadata": {
        "id": "_J0xIgEUMRpF"
      },
      "source": [
        "**Pergunta 7**: Utilizando a função mostrada no enunciado, implemente duas chamadas sequenciais e outra chamada sendo realizada por duas threads de maneira concorrente. Sobre essas duas diferentes formas de implementação é CORRETO afirmar: *O tempo de execução através da concorrência é inferior à sequencial, pois cada thread realiza as operações através do chaveamento de contexto.* "
      ]
    },
    {
      "cell_type": "markdown",
      "metadata": {
        "id": "yC9xHQXhMeic"
      },
      "source": [
        "**Pergunta 8**: Utilizando a função mostrada no enunciado, implemente as duas chamadas sequenciais e outra chamada sendo realizada por duas threads de maneira concorrente. Adicione à chamada concorrente um tempo randômico para cada thread, como apresentado no enunciado. Após a construção dessas implementações, é CORRETO afirmar: *Após a adição desse tempo aleatório sem processamento (dormir), não é possível garantir que a implementação realizada com as duas threads seja realizada em um tempo menor.*"
      ]
    },
    {
      "cell_type": "markdown",
      "metadata": {
        "id": "IlrgwN58-BZb"
      },
      "source": [
        "# **O código abaixo deve ser utilizado para as questões de programação reativa:**"
      ]
    },
    {
      "cell_type": "code",
      "metadata": {
        "id": "l4MubDBQLcdJ",
        "colab": {
          "base_uri": "https://localhost:8080/"
        },
        "outputId": "418a7ba5-f437-4db5-e936-ff320f9c1c1d"
      },
      "source": [
        "#instalando o rx para o google colab\n",
        "!pip install rx"
      ],
      "execution_count": 5,
      "outputs": [
        {
          "output_type": "stream",
          "text": [
            "Collecting rx\n",
            "\u001b[?25l  Downloading https://files.pythonhosted.org/packages/90/6c/5f1839d9ae2a8c85d119c51acaff1f1382f68691cb0f1cb3d0c9fdd32a93/Rx-3.1.1-py3-none-any.whl (197kB)\n",
            "\r\u001b[K     |█▋                              | 10kB 18.3MB/s eta 0:00:01\r\u001b[K     |███▎                            | 20kB 9.8MB/s eta 0:00:01\r\u001b[K     |█████                           | 30kB 8.1MB/s eta 0:00:01\r\u001b[K     |██████▋                         | 40kB 9.0MB/s eta 0:00:01\r\u001b[K     |████████▎                       | 51kB 8.1MB/s eta 0:00:01\r\u001b[K     |██████████                      | 61kB 8.3MB/s eta 0:00:01\r\u001b[K     |███████████▋                    | 71kB 7.8MB/s eta 0:00:01\r\u001b[K     |█████████████▎                  | 81kB 7.6MB/s eta 0:00:01\r\u001b[K     |███████████████                 | 92kB 7.6MB/s eta 0:00:01\r\u001b[K     |████████████████▋               | 102kB 7.7MB/s eta 0:00:01\r\u001b[K     |██████████████████▎             | 112kB 7.7MB/s eta 0:00:01\r\u001b[K     |████████████████████            | 122kB 7.7MB/s eta 0:00:01\r\u001b[K     |█████████████████████▋          | 133kB 7.7MB/s eta 0:00:01\r\u001b[K     |███████████████████████▎        | 143kB 7.7MB/s eta 0:00:01\r\u001b[K     |█████████████████████████       | 153kB 7.7MB/s eta 0:00:01\r\u001b[K     |██████████████████████████▋     | 163kB 7.7MB/s eta 0:00:01\r\u001b[K     |████████████████████████████▎   | 174kB 7.7MB/s eta 0:00:01\r\u001b[K     |██████████████████████████████  | 184kB 7.7MB/s eta 0:00:01\r\u001b[K     |███████████████████████████████▋| 194kB 7.7MB/s eta 0:00:01\r\u001b[K     |████████████████████████████████| 204kB 7.7MB/s \n",
            "\u001b[?25hInstalling collected packages: rx\n",
            "Successfully installed rx-3.1.1\n"
          ],
          "name": "stdout"
        }
      ]
    },
    {
      "cell_type": "code",
      "metadata": {
        "id": "8nUWke0dJNdx"
      },
      "source": [
        "import rx\n",
        "import rx.operators as ops"
      ],
      "execution_count": 6,
      "outputs": []
    },
    {
      "cell_type": "code",
      "metadata": {
        "id": "9Sath7Yx-r4Q",
        "colab": {
          "base_uri": "https://localhost:8080/"
        },
        "outputId": "fe602fb3-9fdc-47c5-be84-2013a72e550e"
      },
      "source": [
        "\n",
        "# utilize o observable recebendo o streaming de dados e a inscrição para o observer como abaixo:\n",
        "# Dica: Utilize, como base, a implementação presente na primeira aula sobre programação reativa.\n",
        "\n",
        "source = rx.from_iterable([5,4,3,2,1]) #streaming\n",
        "\n",
        "disposable=source.pipe(\n",
        "    ops.map(lambda i:i-1),\n",
        "    ops.filter(lambda i:i%2==0),\n",
        "  ).subscribe(\n",
        "  on_next = lambda i: print(\"on_next: {}\".format(i)),\n",
        "  on_completed = lambda: print(\"on_completed\"),\n",
        "  on_error = lambda e: print(\"on_error: {}\".format(e))) #inscrição do observer\n",
        "\n"
      ],
      "execution_count": 7,
      "outputs": [
        {
          "output_type": "stream",
          "text": [
            "on_next: 4\n",
            "on_next: 2\n",
            "on_next: 0\n",
            "on_completed\n"
          ],
          "name": "stdout"
        }
      ]
    },
    {
      "cell_type": "markdown",
      "metadata": {
        "id": "Hoiwd2KUMtXj"
      },
      "source": [
        "**Pergunta 9**: Utilizando os códigos apresentados no enunciado deste desafio referentes às questões de programação reativa, qual das afirmativas abaixo representa uma possibilidade de transformação sobre os dados enviados pelo Observable para que o Observer receba apenas números pares? *ops.filter(lambda i:i%2==0)*"
      ]
    },
    {
      "cell_type": "code",
      "metadata": {
        "colab": {
          "base_uri": "https://localhost:8080/"
        },
        "id": "XQ3bEY_LQG35",
        "outputId": "5dda80c4-9671-4be3-a3b8-26b645142436"
      },
      "source": [
        "source = rx.from_iterable([5,4,3,2,1]) #streaming\r\n",
        "\r\n",
        "disposable=source.pipe(\r\n",
        "    ops.map(lambda i: i if i<3 else 0),\r\n",
        "    ops.filter(lambda i:i>0),\r\n",
        "  ).subscribe(\r\n",
        "  on_next = lambda i: print(\"on_next: {}\".format(i)),\r\n",
        "  on_completed = lambda: print(\"on_completed\"),\r\n",
        "  on_error = lambda e: print(\"on_error: {}\".format(e))) #inscrição do observer"
      ],
      "execution_count": 8,
      "outputs": [
        {
          "output_type": "stream",
          "text": [
            "on_next: 2\n",
            "on_next: 1\n",
            "on_completed\n"
          ],
          "name": "stdout"
        }
      ]
    },
    {
      "cell_type": "markdown",
      "metadata": {
        "id": "AY1VPL7WNIxz"
      },
      "source": [
        "**Pergunta 10**: Utilizando os códigos presentes no enunciado deste desafio referentes às questões de programação reativa, se adicionarmos apenas as operações de map e filter abaixo, qual será o resultado? \r\n",
        "    ops.map(lambda i: if i<3 else 0),\r\n",
        "    ops.filter(lambda i: i>0),\r\n",
        "*Os valores 2 e 1 seriam exibidos no “on_next”. *"
      ]
    },
    {
      "cell_type": "code",
      "metadata": {
        "id": "V_-Tvaa5M9Vl",
        "colab": {
          "base_uri": "https://localhost:8080/"
        },
        "outputId": "c8fea493-3f0e-47b4-f66c-b2074b8f094f"
      },
      "source": [
        "source = rx.from_iterable([5,4,3,\"2\",1]) #streaming\n",
        "\n",
        "disposable=source.pipe(\n",
        "    #ops.map(lambda i:i-1),\n",
        "    ops.filter(lambda i:i%2==0),\n",
        "  ).subscribe(\n",
        "  on_next = lambda i: print(\"on_next: {}\".format(i)),\n",
        "  on_completed = lambda: print(\"on_completed\"),\n",
        "  on_error = lambda e: print(\"on_error: {}\".format(e))) #inscrição do observer"
      ],
      "execution_count": 9,
      "outputs": [
        {
          "output_type": "stream",
          "text": [
            "on_next: 4\n",
            "on_error: not all arguments converted during string formatting\n"
          ],
          "name": "stdout"
        }
      ]
    },
    {
      "cell_type": "markdown",
      "metadata": {
        "id": "8f3X6ysIOfOL"
      },
      "source": [
        "**Pergunta 11**: Utilizando os códigos presentes no enunciado deste desafio referentes às questões de programação reativa, substitua a lista [5,4,3,2,1] pela lista [5,4,3,”2”,1]. Adicione apenas a operação de filtro \r\n",
        "ops.filter(lambda i:i%2==0),\r\n",
        "Qual será a saída apresentada após essas mudanças? *Será apresentado no “on_next” o segundo número da lista e um “on_erro”.*"
      ]
    }
  ]
}