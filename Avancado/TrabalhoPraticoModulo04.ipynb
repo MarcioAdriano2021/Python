{
  "nbformat": 4,
  "nbformat_minor": 0,
  "metadata": {
    "colab": {
      "name": "TrabalhoPraticoModulo04.ipynb",
      "provenance": [],
      "collapsed_sections": []
    },
    "kernelspec": {
      "name": "python3",
      "display_name": "Python 3"
    }
  },
  "cells": [
    {
      "cell_type": "markdown",
      "metadata": {
        "id": "rnntiKg7H49i"
      },
      "source": [
        "#Trabalho Prático Python Avançado:\r\n",
        "#Exercitar os seguintes conceitos trabalhados no Módulo:\r\n",
        "##✓ Python para aprendizado de máquina.\r\n",
        "##✓ Programação concorrente com Python."
      ]
    },
    {
      "cell_type": "code",
      "metadata": {
        "id": "QnqrUCFOFYlF"
      },
      "source": [
        "#importa as bibliotecas necessárias\n",
        "import pandas as pd\n",
        "import matplotlib.pyplot as plt"
      ],
      "execution_count": null,
      "outputs": []
    },
    {
      "cell_type": "code",
      "metadata": {
        "id": "SdfzLHw1FvCR",
        "colab": {
          "base_uri": "https://localhost:8080/",
          "height": 224
        },
        "outputId": "cce1306b-75c2-4c52-da2e-9ce70dbc3a26"
      },
      "source": [
        "#leitura dos dados csv e cria o dataframe\n",
        "df = pd.read_csv(\"/content/datasets_diabetes.csv\")\n",
        "df.head()"
      ],
      "execution_count": null,
      "outputs": [
        {
          "output_type": "execute_result",
          "data": {
            "text/html": [
              "<div>\n",
              "<style scoped>\n",
              "    .dataframe tbody tr th:only-of-type {\n",
              "        vertical-align: middle;\n",
              "    }\n",
              "\n",
              "    .dataframe tbody tr th {\n",
              "        vertical-align: top;\n",
              "    }\n",
              "\n",
              "    .dataframe thead th {\n",
              "        text-align: right;\n",
              "    }\n",
              "</style>\n",
              "<table border=\"1\" class=\"dataframe\">\n",
              "  <thead>\n",
              "    <tr style=\"text-align: right;\">\n",
              "      <th></th>\n",
              "      <th>Pregnancies</th>\n",
              "      <th>Glucose</th>\n",
              "      <th>BloodPressure</th>\n",
              "      <th>SkinThickness</th>\n",
              "      <th>Insulin</th>\n",
              "      <th>BMI</th>\n",
              "      <th>DiabetesPedigreeFunction</th>\n",
              "      <th>Age</th>\n",
              "      <th>Outcome</th>\n",
              "    </tr>\n",
              "  </thead>\n",
              "  <tbody>\n",
              "    <tr>\n",
              "      <th>0</th>\n",
              "      <td>6</td>\n",
              "      <td>148</td>\n",
              "      <td>72</td>\n",
              "      <td>35</td>\n",
              "      <td>0</td>\n",
              "      <td>33.6</td>\n",
              "      <td>0.627</td>\n",
              "      <td>50</td>\n",
              "      <td>1</td>\n",
              "    </tr>\n",
              "    <tr>\n",
              "      <th>1</th>\n",
              "      <td>1</td>\n",
              "      <td>85</td>\n",
              "      <td>66</td>\n",
              "      <td>29</td>\n",
              "      <td>0</td>\n",
              "      <td>26.6</td>\n",
              "      <td>0.351</td>\n",
              "      <td>31</td>\n",
              "      <td>0</td>\n",
              "    </tr>\n",
              "    <tr>\n",
              "      <th>2</th>\n",
              "      <td>8</td>\n",
              "      <td>183</td>\n",
              "      <td>64</td>\n",
              "      <td>0</td>\n",
              "      <td>0</td>\n",
              "      <td>23.3</td>\n",
              "      <td>0.672</td>\n",
              "      <td>32</td>\n",
              "      <td>1</td>\n",
              "    </tr>\n",
              "    <tr>\n",
              "      <th>3</th>\n",
              "      <td>1</td>\n",
              "      <td>89</td>\n",
              "      <td>66</td>\n",
              "      <td>23</td>\n",
              "      <td>94</td>\n",
              "      <td>28.1</td>\n",
              "      <td>0.167</td>\n",
              "      <td>21</td>\n",
              "      <td>0</td>\n",
              "    </tr>\n",
              "    <tr>\n",
              "      <th>4</th>\n",
              "      <td>0</td>\n",
              "      <td>137</td>\n",
              "      <td>40</td>\n",
              "      <td>35</td>\n",
              "      <td>168</td>\n",
              "      <td>43.1</td>\n",
              "      <td>2.288</td>\n",
              "      <td>33</td>\n",
              "      <td>1</td>\n",
              "    </tr>\n",
              "  </tbody>\n",
              "</table>\n",
              "</div>"
            ],
            "text/plain": [
              "   Pregnancies  Glucose  BloodPressure  ...  DiabetesPedigreeFunction  Age  Outcome\n",
              "0            6      148             72  ...                     0.627   50        1\n",
              "1            1       85             66  ...                     0.351   31        0\n",
              "2            8      183             64  ...                     0.672   32        1\n",
              "3            1       89             66  ...                     0.167   21        0\n",
              "4            0      137             40  ...                     2.288   33        1\n",
              "\n",
              "[5 rows x 9 columns]"
            ]
          },
          "metadata": {
            "tags": []
          },
          "execution_count": 2
        }
      ]
    },
    {
      "cell_type": "code",
      "metadata": {
        "id": "dvO715HdKsTi",
        "colab": {
          "base_uri": "https://localhost:8080/"
        },
        "outputId": "6165be65-8f7a-4d94-83a1-dab5aca8eb81"
      },
      "source": [
        "df.info()"
      ],
      "execution_count": null,
      "outputs": [
        {
          "output_type": "stream",
          "text": [
            "<class 'pandas.core.frame.DataFrame'>\n",
            "RangeIndex: 768 entries, 0 to 767\n",
            "Data columns (total 9 columns):\n",
            " #   Column                    Non-Null Count  Dtype  \n",
            "---  ------                    --------------  -----  \n",
            " 0   Pregnancies               768 non-null    int64  \n",
            " 1   Glucose                   768 non-null    int64  \n",
            " 2   BloodPressure             768 non-null    int64  \n",
            " 3   SkinThickness             768 non-null    int64  \n",
            " 4   Insulin                   768 non-null    int64  \n",
            " 5   BMI                       768 non-null    float64\n",
            " 6   DiabetesPedigreeFunction  768 non-null    float64\n",
            " 7   Age                       768 non-null    int64  \n",
            " 8   Outcome                   768 non-null    int64  \n",
            "dtypes: float64(2), int64(7)\n",
            "memory usage: 54.1 KB\n"
          ],
          "name": "stdout"
        }
      ]
    },
    {
      "cell_type": "markdown",
      "metadata": {
        "id": "t33_CLe7IjNQ"
      },
      "source": [
        "**Pergunta 1**: Após a utilização da biblioteca pandas para a leitura dos dados e o método pandas.info() sobre o dataframe construído, é CORRETO afirmar que: *Não foram encontrados valores nulos após a leitura dos dados.*"
      ]
    },
    {
      "cell_type": "markdown",
      "metadata": {
        "id": "UAfmtO9-JDa5"
      },
      "source": [
        "**Pergunta 2**: Quantas linhas e colunas, respectivamente, existem no dataset? *768 e 9.*"
      ]
    },
    {
      "cell_type": "markdown",
      "metadata": {
        "id": "9OfTzfYDJYDK"
      },
      "source": [
        "**Pergunta 3**: Quantas colunas do tipo “float64” existem no dataset após a carga dos dados através do método pandas.read_csv()? *2.* "
      ]
    },
    {
      "cell_type": "code",
      "metadata": {
        "id": "wT_Lc9q9Nasa",
        "colab": {
          "base_uri": "https://localhost:8080/",
          "height": 317
        },
        "outputId": "7024a895-2924-4fd4-c982-2973b278c486"
      },
      "source": [
        "# estatísticas básicas\n",
        "df.describe()"
      ],
      "execution_count": null,
      "outputs": [
        {
          "output_type": "execute_result",
          "data": {
            "text/html": [
              "<div>\n",
              "<style scoped>\n",
              "    .dataframe tbody tr th:only-of-type {\n",
              "        vertical-align: middle;\n",
              "    }\n",
              "\n",
              "    .dataframe tbody tr th {\n",
              "        vertical-align: top;\n",
              "    }\n",
              "\n",
              "    .dataframe thead th {\n",
              "        text-align: right;\n",
              "    }\n",
              "</style>\n",
              "<table border=\"1\" class=\"dataframe\">\n",
              "  <thead>\n",
              "    <tr style=\"text-align: right;\">\n",
              "      <th></th>\n",
              "      <th>Pregnancies</th>\n",
              "      <th>Glucose</th>\n",
              "      <th>BloodPressure</th>\n",
              "      <th>SkinThickness</th>\n",
              "      <th>Insulin</th>\n",
              "      <th>BMI</th>\n",
              "      <th>DiabetesPedigreeFunction</th>\n",
              "      <th>Age</th>\n",
              "      <th>Outcome</th>\n",
              "    </tr>\n",
              "  </thead>\n",
              "  <tbody>\n",
              "    <tr>\n",
              "      <th>count</th>\n",
              "      <td>768.000000</td>\n",
              "      <td>768.000000</td>\n",
              "      <td>768.000000</td>\n",
              "      <td>768.000000</td>\n",
              "      <td>768.000000</td>\n",
              "      <td>768.000000</td>\n",
              "      <td>768.000000</td>\n",
              "      <td>768.000000</td>\n",
              "      <td>768.000000</td>\n",
              "    </tr>\n",
              "    <tr>\n",
              "      <th>mean</th>\n",
              "      <td>3.845052</td>\n",
              "      <td>120.894531</td>\n",
              "      <td>69.105469</td>\n",
              "      <td>20.536458</td>\n",
              "      <td>79.799479</td>\n",
              "      <td>31.992578</td>\n",
              "      <td>0.471876</td>\n",
              "      <td>33.240885</td>\n",
              "      <td>0.348958</td>\n",
              "    </tr>\n",
              "    <tr>\n",
              "      <th>std</th>\n",
              "      <td>3.369578</td>\n",
              "      <td>31.972618</td>\n",
              "      <td>19.355807</td>\n",
              "      <td>15.952218</td>\n",
              "      <td>115.244002</td>\n",
              "      <td>7.884160</td>\n",
              "      <td>0.331329</td>\n",
              "      <td>11.760232</td>\n",
              "      <td>0.476951</td>\n",
              "    </tr>\n",
              "    <tr>\n",
              "      <th>min</th>\n",
              "      <td>0.000000</td>\n",
              "      <td>0.000000</td>\n",
              "      <td>0.000000</td>\n",
              "      <td>0.000000</td>\n",
              "      <td>0.000000</td>\n",
              "      <td>0.000000</td>\n",
              "      <td>0.078000</td>\n",
              "      <td>21.000000</td>\n",
              "      <td>0.000000</td>\n",
              "    </tr>\n",
              "    <tr>\n",
              "      <th>25%</th>\n",
              "      <td>1.000000</td>\n",
              "      <td>99.000000</td>\n",
              "      <td>62.000000</td>\n",
              "      <td>0.000000</td>\n",
              "      <td>0.000000</td>\n",
              "      <td>27.300000</td>\n",
              "      <td>0.243750</td>\n",
              "      <td>24.000000</td>\n",
              "      <td>0.000000</td>\n",
              "    </tr>\n",
              "    <tr>\n",
              "      <th>50%</th>\n",
              "      <td>3.000000</td>\n",
              "      <td>117.000000</td>\n",
              "      <td>72.000000</td>\n",
              "      <td>23.000000</td>\n",
              "      <td>30.500000</td>\n",
              "      <td>32.000000</td>\n",
              "      <td>0.372500</td>\n",
              "      <td>29.000000</td>\n",
              "      <td>0.000000</td>\n",
              "    </tr>\n",
              "    <tr>\n",
              "      <th>75%</th>\n",
              "      <td>6.000000</td>\n",
              "      <td>140.250000</td>\n",
              "      <td>80.000000</td>\n",
              "      <td>32.000000</td>\n",
              "      <td>127.250000</td>\n",
              "      <td>36.600000</td>\n",
              "      <td>0.626250</td>\n",
              "      <td>41.000000</td>\n",
              "      <td>1.000000</td>\n",
              "    </tr>\n",
              "    <tr>\n",
              "      <th>max</th>\n",
              "      <td>17.000000</td>\n",
              "      <td>199.000000</td>\n",
              "      <td>122.000000</td>\n",
              "      <td>99.000000</td>\n",
              "      <td>846.000000</td>\n",
              "      <td>67.100000</td>\n",
              "      <td>2.420000</td>\n",
              "      <td>81.000000</td>\n",
              "      <td>1.000000</td>\n",
              "    </tr>\n",
              "  </tbody>\n",
              "</table>\n",
              "</div>"
            ],
            "text/plain": [
              "       Pregnancies     Glucose  ...         Age     Outcome\n",
              "count   768.000000  768.000000  ...  768.000000  768.000000\n",
              "mean      3.845052  120.894531  ...   33.240885    0.348958\n",
              "std       3.369578   31.972618  ...   11.760232    0.476951\n",
              "min       0.000000    0.000000  ...   21.000000    0.000000\n",
              "25%       1.000000   99.000000  ...   24.000000    0.000000\n",
              "50%       3.000000  117.000000  ...   29.000000    0.000000\n",
              "75%       6.000000  140.250000  ...   41.000000    1.000000\n",
              "max      17.000000  199.000000  ...   81.000000    1.000000\n",
              "\n",
              "[8 rows x 9 columns]"
            ]
          },
          "metadata": {
            "tags": []
          },
          "execution_count": 4
        }
      ]
    },
    {
      "cell_type": "code",
      "metadata": {
        "id": "0cebt2ptN5ch",
        "colab": {
          "base_uri": "https://localhost:8080/"
        },
        "outputId": "a542b371-f9c0-4454-ef7e-b95b61b418e9"
      },
      "source": [
        "df.loc[:, 'Age'].mean()"
      ],
      "execution_count": null,
      "outputs": [
        {
          "output_type": "execute_result",
          "data": {
            "text/plain": [
              "33.240885416666664"
            ]
          },
          "metadata": {
            "tags": []
          },
          "execution_count": 5
        }
      ]
    },
    {
      "cell_type": "markdown",
      "metadata": {
        "id": "MeH4OB4PJqy0"
      },
      "source": [
        "**Pergunta 4**: Qual é o valor médio presente na coluna “Age”? *33,24.* "
      ]
    },
    {
      "cell_type": "code",
      "metadata": {
        "id": "wpkDP45-PYlB",
        "colab": {
          "base_uri": "https://localhost:8080/"
        },
        "outputId": "928e077e-65f5-4996-e86c-4a55118e7d0c"
      },
      "source": [
        "cond = df['Outcome'] == 1\n",
        "df[cond].count()"
      ],
      "execution_count": null,
      "outputs": [
        {
          "output_type": "execute_result",
          "data": {
            "text/plain": [
              "Pregnancies                 268\n",
              "Glucose                     268\n",
              "BloodPressure               268\n",
              "SkinThickness               268\n",
              "Insulin                     268\n",
              "BMI                         268\n",
              "DiabetesPedigreeFunction    268\n",
              "Age                         268\n",
              "Outcome                     268\n",
              "dtype: int64"
            ]
          },
          "metadata": {
            "tags": []
          },
          "execution_count": 6
        }
      ]
    },
    {
      "cell_type": "markdown",
      "metadata": {
        "id": "i8XYKKKaKPtn"
      },
      "source": [
        "**Pergunta 5**: Utilizando as entradas e a saída como apresentado no enunciado do trabalho, quantos valores da variável de saída “1” existem no conjunto de dados? *268.*"
      ]
    },
    {
      "cell_type": "code",
      "metadata": {
        "id": "zVpjzycTNONP"
      },
      "source": [
        "#transforma os dados em array\n",
        "entradas = df.iloc[:, :-1].values  #dados de entrada\n",
        "saida = df.iloc[:, -1].values  #saídas ou target\n",
        "#print(entradas)\n",
        "#print(saida)"
      ],
      "execution_count": null,
      "outputs": []
    },
    {
      "cell_type": "code",
      "metadata": {
        "id": "1Pf0H-pcQMfH"
      },
      "source": [
        "# realiza o processo de normalização dos dados\n",
        "from sklearn.preprocessing import MinMaxScaler\n",
        "normaliza = MinMaxScaler() #objeto para a normalização\n",
        "#entradas_normalizadas\n",
        "entradas_normalizadas = normaliza.fit_transform(entradas) #realiza a normalização dos dados"
      ],
      "execution_count": null,
      "outputs": []
    },
    {
      "cell_type": "code",
      "metadata": {
        "id": "9kBIc3FtOYcl"
      },
      "source": [
        "#realiza a divisão dos dados entre treinamento e teste\n",
        "from sklearn.model_selection import train_test_split # função que realiza a divisão do dataset\n",
        "# divide 30% para teste\n",
        "x_train, x_test, y_train, y_test = train_test_split(entradas_normalizadas, saida, test_size=0.30, random_state=42)\n"
      ],
      "execution_count": null,
      "outputs": []
    },
    {
      "cell_type": "code",
      "metadata": {
        "id": "FfSYtYB2SKjJ",
        "colab": {
          "base_uri": "https://localhost:8080/",
          "height": 297
        },
        "outputId": "5945eca8-7eea-4c0b-911d-19a9ce947db1"
      },
      "source": [
        "#cria o dataframe\n",
        "df_train = pd.DataFrame(y_train,columns=['Outcome'])\n",
        "df_train.describe()"
      ],
      "execution_count": null,
      "outputs": [
        {
          "output_type": "execute_result",
          "data": {
            "text/html": [
              "<div>\n",
              "<style scoped>\n",
              "    .dataframe tbody tr th:only-of-type {\n",
              "        vertical-align: middle;\n",
              "    }\n",
              "\n",
              "    .dataframe tbody tr th {\n",
              "        vertical-align: top;\n",
              "    }\n",
              "\n",
              "    .dataframe thead th {\n",
              "        text-align: right;\n",
              "    }\n",
              "</style>\n",
              "<table border=\"1\" class=\"dataframe\">\n",
              "  <thead>\n",
              "    <tr style=\"text-align: right;\">\n",
              "      <th></th>\n",
              "      <th>Outcome</th>\n",
              "    </tr>\n",
              "  </thead>\n",
              "  <tbody>\n",
              "    <tr>\n",
              "      <th>count</th>\n",
              "      <td>537.000000</td>\n",
              "    </tr>\n",
              "    <tr>\n",
              "      <th>mean</th>\n",
              "      <td>0.350093</td>\n",
              "    </tr>\n",
              "    <tr>\n",
              "      <th>std</th>\n",
              "      <td>0.477444</td>\n",
              "    </tr>\n",
              "    <tr>\n",
              "      <th>min</th>\n",
              "      <td>0.000000</td>\n",
              "    </tr>\n",
              "    <tr>\n",
              "      <th>25%</th>\n",
              "      <td>0.000000</td>\n",
              "    </tr>\n",
              "    <tr>\n",
              "      <th>50%</th>\n",
              "      <td>0.000000</td>\n",
              "    </tr>\n",
              "    <tr>\n",
              "      <th>75%</th>\n",
              "      <td>1.000000</td>\n",
              "    </tr>\n",
              "    <tr>\n",
              "      <th>max</th>\n",
              "      <td>1.000000</td>\n",
              "    </tr>\n",
              "  </tbody>\n",
              "</table>\n",
              "</div>"
            ],
            "text/plain": [
              "          Outcome\n",
              "count  537.000000\n",
              "mean     0.350093\n",
              "std      0.477444\n",
              "min      0.000000\n",
              "25%      0.000000\n",
              "50%      0.000000\n",
              "75%      1.000000\n",
              "max      1.000000"
            ]
          },
          "metadata": {
            "tags": []
          },
          "execution_count": 10
        }
      ]
    },
    {
      "cell_type": "code",
      "metadata": {
        "id": "xcGAcVebTkWS",
        "colab": {
          "base_uri": "https://localhost:8080/"
        },
        "outputId": "05251148-5ec1-49b2-f9a5-8fd933ea665e"
      },
      "source": [
        "df['Outcome'].count() * 70 / 100 # 70% para treinamento"
      ],
      "execution_count": null,
      "outputs": [
        {
          "output_type": "execute_result",
          "data": {
            "text/plain": [
              "537.6"
            ]
          },
          "metadata": {
            "tags": []
          },
          "execution_count": 11
        }
      ]
    },
    {
      "cell_type": "markdown",
      "metadata": {
        "id": "jaIX97CrKyDC"
      },
      "source": [
        "**Pergunta 6**: Utilizando o método “train_test_split” como apresentado no enunciado, quantas instâncias (linhas) foram selecionadas para o conjunto de dados de treinamento do modelo? *537.* "
      ]
    },
    {
      "cell_type": "markdown",
      "metadata": {
        "id": "RBe0OzgHJm2X"
      },
      "source": [
        "**Algoritmo KNN:**\n",
        "clf_KNN = KNeighborsClassifier(n_neighbors=5)"
      ]
    },
    {
      "cell_type": "code",
      "metadata": {
        "id": "4u9lErSwVlxG",
        "colab": {
          "base_uri": "https://localhost:8080/"
        },
        "outputId": "89114c43-a00c-4b0a-f31d-2c3abbc915f8"
      },
      "source": [
        "#treina o modelo\n",
        "from sklearn.neighbors import KNeighborsClassifier\n",
        "clf_KNN = KNeighborsClassifier(n_neighbors=5) #utiliza a construção por meio de 5 vizinhos\n",
        "clf_KNN.fit(x_train, y_train) # Realiza o treinamento do classificador"
      ],
      "execution_count": null,
      "outputs": [
        {
          "output_type": "execute_result",
          "data": {
            "text/plain": [
              "KNeighborsClassifier(algorithm='auto', leaf_size=30, metric='minkowski',\n",
              "                     metric_params=None, n_jobs=None, n_neighbors=5, p=2,\n",
              "                     weights='uniform')"
            ]
          },
          "metadata": {
            "tags": []
          },
          "execution_count": 15
        }
      ]
    },
    {
      "cell_type": "code",
      "metadata": {
        "id": "rhP0EG_eXrB6"
      },
      "source": [
        "#Realiza a previsão de classificaçao\n",
        "y_pred_KNN = clf_KNN.predict(x_test)"
      ],
      "execution_count": null,
      "outputs": []
    },
    {
      "cell_type": "code",
      "metadata": {
        "id": "d2raVMLogqIp",
        "colab": {
          "base_uri": "https://localhost:8080/"
        },
        "outputId": "c97f0c7a-47dc-46bb-e807-47db6ea1a76a"
      },
      "source": [
        "#constroi a matriz de confusão para comparar o modelo criado\n",
        "from sklearn.metrics import classification_report, confusion_matrix\n",
        "print(confusion_matrix(y_test, y_pred_KNN))\n",
        "print(classification_report(y_test, y_pred_KNN))"
      ],
      "execution_count": null,
      "outputs": [
        {
          "output_type": "stream",
          "text": [
            "[[118  33]\n",
            " [ 41  39]]\n",
            "              precision    recall  f1-score   support\n",
            "\n",
            "           0       0.74      0.78      0.76       151\n",
            "           1       0.54      0.49      0.51        80\n",
            "\n",
            "    accuracy                           0.68       231\n",
            "   macro avg       0.64      0.63      0.64       231\n",
            "weighted avg       0.67      0.68      0.68       231\n",
            "\n"
          ],
          "name": "stdout"
        }
      ]
    },
    {
      "cell_type": "code",
      "metadata": {
        "id": "cxkBbrv4hqrq",
        "colab": {
          "base_uri": "https://localhost:8080/",
          "height": 279
        },
        "outputId": "88e80b0a-5b9d-40fd-cd93-401ac34e400c"
      },
      "source": [
        "#Avaliando o modelo \n",
        "\n",
        "#realiza o plot da matriz de confusão\n",
        "matriz_confusao_KNN = confusion_matrix(y_test, y_pred_KNN )\n",
        "from mlxtend.plotting import plot_confusion_matrix\n",
        "\n",
        "fig, ax = plot_confusion_matrix(conf_mat=matriz_confusao_KNN)\n",
        "plt.show()"
      ],
      "execution_count": null,
      "outputs": [
        {
          "output_type": "display_data",
          "data": {
            "image/png": "[encoded data removed]",
            "text/plain": [
              "<Figure size 432x288 with 1 Axes>"
            ]
          },
          "metadata": {
            "tags": [],
            "needs_background": "light"
          }
        }
      ]
    },
    {
      "cell_type": "markdown",
      "metadata": {
        "id": "92rnSf3oLRja"
      },
      "source": [
        "**Pergunta 7**: Após dividir as colunas do dataframe entre entrada e saída, aplicar a normalização dos dados como apresentado no enunciado (MinMaxScaler()) e dividir esses dados entre treinamento e teste, aplique o algoritmo KNN. Qual é, aproximadamente, a acurácia do modelo? *0,68*"
      ]
    },
    {
      "cell_type": "markdown",
      "metadata": {
        "id": "IDem4J4ZJ3O0"
      },
      "source": [
        "**Algoritmo Árvore de Decisão:**\n",
        "clf_arvore = DecisionTreeClassifier(random_state=1)"
      ]
    },
    {
      "cell_type": "code",
      "metadata": {
        "id": "X0RmNasKXQ1g",
        "colab": {
          "base_uri": "https://localhost:8080/"
        },
        "outputId": "e4aece7f-74c2-4b2f-96e7-c9328a91d4e9"
      },
      "source": [
        "#treina o modelo\n",
        "from sklearn.tree import DecisionTreeClassifier # importa o classificador árvore de decisão\n",
        "clf_arvore = DecisionTreeClassifier(random_state=1)\n",
        "clf_arvore.fit(x_train,y_train) # Realiza o treinamento do classificador"
      ],
      "execution_count": null,
      "outputs": [
        {
          "output_type": "execute_result",
          "data": {
            "text/plain": [
              "DecisionTreeClassifier(ccp_alpha=0.0, class_weight=None, criterion='gini',\n",
              "                       max_depth=None, max_features=None, max_leaf_nodes=None,\n",
              "                       min_impurity_decrease=0.0, min_impurity_split=None,\n",
              "                       min_samples_leaf=1, min_samples_split=2,\n",
              "                       min_weight_fraction_leaf=0.0, presort='deprecated',\n",
              "                       random_state=1, splitter='best')"
            ]
          },
          "metadata": {
            "tags": []
          },
          "execution_count": 19
        }
      ]
    },
    {
      "cell_type": "code",
      "metadata": {
        "id": "c9q8qWQGY_95"
      },
      "source": [
        "#Realiza a previsão de classificaçao \n",
        "y_pred_arvore = clf_arvore.predict(x_test)"
      ],
      "execution_count": null,
      "outputs": []
    },
    {
      "cell_type": "code",
      "metadata": {
        "id": "fDBieR5ZgxBJ",
        "colab": {
          "base_uri": "https://localhost:8080/"
        },
        "outputId": "9f68af56-f308-4176-be95-90deec888ba2"
      },
      "source": [
        "#constroi a matriz de confusão para comparar o modelo criado\n",
        "from sklearn.metrics import classification_report, confusion_matrix\n",
        "print(confusion_matrix(y_test, y_pred_arvore))\n",
        "print(classification_report(y_test, y_pred_arvore))"
      ],
      "execution_count": null,
      "outputs": [
        {
          "output_type": "stream",
          "text": [
            "[[106  45]\n",
            " [ 25  55]]\n",
            "              precision    recall  f1-score   support\n",
            "\n",
            "           0       0.81      0.70      0.75       151\n",
            "           1       0.55      0.69      0.61        80\n",
            "\n",
            "    accuracy                           0.70       231\n",
            "   macro avg       0.68      0.69      0.68       231\n",
            "weighted avg       0.72      0.70      0.70       231\n",
            "\n"
          ],
          "name": "stdout"
        }
      ]
    },
    {
      "cell_type": "code",
      "metadata": {
        "id": "SIGFbM-PjGgj",
        "colab": {
          "base_uri": "https://localhost:8080/",
          "height": 279
        },
        "outputId": "565f5c6e-cc80-4760-db8b-8418a0973e5a"
      },
      "source": [
        "#Avaliando o modelo \n",
        "\n",
        "#realiza o plot da matriz de confusão\n",
        "matriz_confusao_arvore = confusion_matrix(y_test, y_pred_arvore)\n",
        "from mlxtend.plotting import plot_confusion_matrix\n",
        "\n",
        "fig, ax = plot_confusion_matrix(conf_mat=matriz_confusao_arvore)\n",
        "plt.show()"
      ],
      "execution_count": null,
      "outputs": [
        {
          "output_type": "display_data",
          "data": {
            "image/png": "[encoded data removed]",
            "text/plain": [
              "<Figure size 432x288 with 1 Axes>"
            ]
          },
          "metadata": {
            "tags": [],
            "needs_background": "light"
          }
        }
      ]
    },
    {
      "cell_type": "markdown",
      "metadata": {
        "id": "pZCt6khR_uZH"
      },
      "source": [
        "**Pergunta 8**: Após dividir as colunas do dataframe entre entrada e saída, aplicar a normalização dos dados como apresentado no enunciado (MinMaxScaler()) e dividir esses dados entre treinamento e teste, aplique o algoritmo Árvore de Decisão. Qual é, aproximadamente, a acurácia do modelo? *0,70.*"
      ]
    },
    {
      "cell_type": "markdown",
      "metadata": {
        "id": "Az6UfXamKaCp"
      },
      "source": [
        "**Algoritmo Floresta Randômica:**\n",
        "clf_floresta = RandomForestClassifier(max_depth=10, random_state=1)"
      ]
    },
    {
      "cell_type": "code",
      "metadata": {
        "id": "RkNbp9DRaBpc",
        "colab": {
          "base_uri": "https://localhost:8080/"
        },
        "outputId": "5dd6b978-b756-447e-f465-4baa34a40768"
      },
      "source": [
        "#treina o modelo\n",
        "from sklearn.ensemble import RandomForestClassifier # importa o classificador floresta randômica\n",
        "clf_floresta = RandomForestClassifier(max_depth=10, random_state=1)\n",
        "clf_floresta.fit(x_train,y_train) # Realiza o treinamento do classificador"
      ],
      "execution_count": null,
      "outputs": [
        {
          "output_type": "execute_result",
          "data": {
            "text/plain": [
              "RandomForestClassifier(bootstrap=True, ccp_alpha=0.0, class_weight=None,\n",
              "                       criterion='gini', max_depth=10, max_features='auto',\n",
              "                       max_leaf_nodes=None, max_samples=None,\n",
              "                       min_impurity_decrease=0.0, min_impurity_split=None,\n",
              "                       min_samples_leaf=1, min_samples_split=2,\n",
              "                       min_weight_fraction_leaf=0.0, n_estimators=100,\n",
              "                       n_jobs=None, oob_score=False, random_state=1, verbose=0,\n",
              "                       warm_start=False)"
            ]
          },
          "metadata": {
            "tags": []
          },
          "execution_count": 23
        }
      ]
    },
    {
      "cell_type": "code",
      "metadata": {
        "id": "SFAOlCxkbqkG"
      },
      "source": [
        "#Realiza a previsão de classificaçao \n",
        "y_pred_floresta = clf_floresta.predict(x_test)"
      ],
      "execution_count": null,
      "outputs": []
    },
    {
      "cell_type": "code",
      "metadata": {
        "id": "qMKGPpXag6S-",
        "colab": {
          "base_uri": "https://localhost:8080/"
        },
        "outputId": "e547b98e-dfe5-45f4-b588-a06ab4a35c06"
      },
      "source": [
        "#constroi a matriz de confusão para comparar o modelo criado\n",
        "from sklearn.metrics import classification_report, confusion_matrix\n",
        "print(confusion_matrix(y_test, y_pred_floresta))\n",
        "print(classification_report(y_test, y_pred_floresta))"
      ],
      "execution_count": null,
      "outputs": [
        {
          "output_type": "stream",
          "text": [
            "[[121  30]\n",
            " [ 29  51]]\n",
            "              precision    recall  f1-score   support\n",
            "\n",
            "           0       0.81      0.80      0.80       151\n",
            "           1       0.63      0.64      0.63        80\n",
            "\n",
            "    accuracy                           0.74       231\n",
            "   macro avg       0.72      0.72      0.72       231\n",
            "weighted avg       0.75      0.74      0.74       231\n",
            "\n"
          ],
          "name": "stdout"
        }
      ]
    },
    {
      "cell_type": "code",
      "metadata": {
        "id": "mCcSpFbZjI5S",
        "colab": {
          "base_uri": "https://localhost:8080/",
          "height": 279
        },
        "outputId": "7c8710bc-4006-4d97-b36c-7c5957d5f931"
      },
      "source": [
        "#Avaliando o modelo \n",
        "\n",
        "#realiza o plot da matriz de confusão\n",
        "matriz_confusao_floresta = confusion_matrix(y_test, y_pred_floresta)\n",
        "from mlxtend.plotting import plot_confusion_matrix\n",
        "\n",
        "fig, ax = plot_confusion_matrix(conf_mat=matriz_confusao_floresta)\n",
        "plt.show()"
      ],
      "execution_count": null,
      "outputs": [
        {
          "output_type": "display_data",
          "data": {
            "image/png": "[encoded data removed]",
            "text/plain": [
              "<Figure size 432x288 with 1 Axes>"
            ]
          },
          "metadata": {
            "tags": [],
            "needs_background": "light"
          }
        }
      ]
    },
    {
      "cell_type": "markdown",
      "metadata": {
        "id": "smi8jiVfAK1U"
      },
      "source": [
        "**Pergunta 9**: Após dividir as colunas do dataframe entre entrada e saída, aplicar a normalização dos dados como apresentado no enunciado (MinMaxScaler()) e dividir esses dados entre treinamento e teste, aplique o algoritmo Floresta Randômica. Qual é, aproximadamente, a acurácia do modelo? *0,74.*"
      ]
    },
    {
      "cell_type": "markdown",
      "metadata": {
        "id": "nwzyol-BKn0f"
      },
      "source": [
        "**Algoritmo SVM:**\n",
        "clf_svm=SVC(gamma='auto',random_state=1)"
      ]
    },
    {
      "cell_type": "code",
      "metadata": {
        "id": "mQAGwGcqcEal",
        "colab": {
          "base_uri": "https://localhost:8080/"
        },
        "outputId": "d1abd426-edb3-40ba-dfc5-df7662adf38e"
      },
      "source": [
        "#treina o modelo\n",
        "from sklearn.svm import SVC # importa o classificador Suppor Vector Machine (SVM)\n",
        "clf_svm = SVC(gamma='auto',random_state=1)\n",
        "clf_svm.fit(x_train,y_train) # Realiza o treinamento do classificador"
      ],
      "execution_count": null,
      "outputs": [
        {
          "output_type": "execute_result",
          "data": {
            "text/plain": [
              "SVC(C=1.0, break_ties=False, cache_size=200, class_weight=None, coef0=0.0,\n",
              "    decision_function_shape='ovr', degree=3, gamma='auto', kernel='rbf',\n",
              "    max_iter=-1, probability=False, random_state=1, shrinking=True, tol=0.001,\n",
              "    verbose=False)"
            ]
          },
          "metadata": {
            "tags": []
          },
          "execution_count": 27
        }
      ]
    },
    {
      "cell_type": "code",
      "metadata": {
        "id": "Oy0mxiRlcMZ0"
      },
      "source": [
        "#Realiza a previsão de classificaçao \n",
        "y_pred_svm = clf_svm.predict(x_test)"
      ],
      "execution_count": null,
      "outputs": []
    },
    {
      "cell_type": "code",
      "metadata": {
        "id": "VLVT09rjg8un",
        "colab": {
          "base_uri": "https://localhost:8080/"
        },
        "outputId": "04f41151-3c3c-41ac-cb50-12ee7ca69eeb"
      },
      "source": [
        "#constroi a matriz de confusão para comparar o modelo criado\n",
        "from sklearn.metrics import classification_report, confusion_matrix\n",
        "print(confusion_matrix(y_test, y_pred_svm))\n",
        "print(classification_report(y_test, y_pred_svm))"
      ],
      "execution_count": null,
      "outputs": [
        {
          "output_type": "stream",
          "text": [
            "[[136  15]\n",
            " [ 38  42]]\n",
            "              precision    recall  f1-score   support\n",
            "\n",
            "           0       0.78      0.90      0.84       151\n",
            "           1       0.74      0.53      0.61        80\n",
            "\n",
            "    accuracy                           0.77       231\n",
            "   macro avg       0.76      0.71      0.73       231\n",
            "weighted avg       0.77      0.77      0.76       231\n",
            "\n"
          ],
          "name": "stdout"
        }
      ]
    },
    {
      "cell_type": "code",
      "metadata": {
        "id": "EbWXzv25jLFR",
        "colab": {
          "base_uri": "https://localhost:8080/",
          "height": 279
        },
        "outputId": "20aa14b3-4c21-4b07-fa53-d70658f84cc0"
      },
      "source": [
        "#Avaliando o modelo \n",
        "\n",
        "#realiza o plot da matriz de confusão\n",
        "matriz_confusao_svm = confusion_matrix(y_test, y_pred_svm)\n",
        "from mlxtend.plotting import plot_confusion_matrix\n",
        "\n",
        "fig, ax = plot_confusion_matrix(conf_mat=matriz_confusao_svm)\n",
        "plt.show()"
      ],
      "execution_count": null,
      "outputs": [
        {
          "output_type": "display_data",
          "data": {
            "image/png": "[encoded data removed]",
            "text/plain": [
              "<Figure size 432x288 with 1 Axes>"
            ]
          },
          "metadata": {
            "tags": [],
            "needs_background": "light"
          }
        }
      ]
    },
    {
      "cell_type": "markdown",
      "metadata": {
        "id": "Hhqkew0ZAhPn"
      },
      "source": [
        "**Pergunta 10**: Após dividir as colunas do dataframe entre entrada e saída, aplicar a normalização dos dados como apresentado no enunciado (MinMaxScaler()) e dividir os dados entre treinamento e teste, aplique o algoritmo SVM. Qual é, aproximadamente, a acurácia do modelo? *0,77.*"
      ]
    },
    {
      "cell_type": "markdown",
      "metadata": {
        "id": "AVFI7vSPK5Wa"
      },
      "source": [
        "**Algoritmo Rede MLP :**\n",
        "clf_mlp = MLPClassifier(solver='lbfgs', alpha=1e-5, hidden_layer_sizes=(5,\n",
        "5), random_state=1)"
      ]
    },
    {
      "cell_type": "code",
      "metadata": {
        "id": "jTdlGnfZc9Em",
        "colab": {
          "base_uri": "https://localhost:8080/"
        },
        "outputId": "5374c192-5281-4c00-bfbc-167a6cf9d053"
      },
      "source": [
        "#treina o modelo\n",
        "from sklearn.neural_network import MLPClassifier # importa o classificador Redes Neurais (MLP)\n",
        "clf_mlp = MLPClassifier(solver='lbfgs', alpha=1e-5, hidden_layer_sizes=(5, 5), random_state=1)\n",
        "clf_mlp.fit(x_train,y_train) # Realiza o treinamento do classificador"
      ],
      "execution_count": null,
      "outputs": [
        {
          "output_type": "execute_result",
          "data": {
            "text/plain": [
              "MLPClassifier(activation='relu', alpha=1e-05, batch_size='auto', beta_1=0.9,\n",
              "              beta_2=0.999, early_stopping=False, epsilon=1e-08,\n",
              "              hidden_layer_sizes=(5, 5), learning_rate='constant',\n",
              "              learning_rate_init=0.001, max_fun=15000, max_iter=200,\n",
              "              momentum=0.9, n_iter_no_change=10, nesterovs_momentum=True,\n",
              "              power_t=0.5, random_state=1, shuffle=True, solver='lbfgs',\n",
              "              tol=0.0001, validation_fraction=0.1, verbose=False,\n",
              "              warm_start=False)"
            ]
          },
          "metadata": {
            "tags": []
          },
          "execution_count": 31
        }
      ]
    },
    {
      "cell_type": "code",
      "metadata": {
        "id": "OsZNCkvzc9go"
      },
      "source": [
        "#Realiza a previsão de classificaçao \n",
        "y_pred_mlp = clf_mlp.predict(x_test)"
      ],
      "execution_count": null,
      "outputs": []
    },
    {
      "cell_type": "code",
      "metadata": {
        "id": "npXSYjMFg-ij",
        "colab": {
          "base_uri": "https://localhost:8080/"
        },
        "outputId": "38ccf21a-446b-40e8-8ea9-971b3d65dccf"
      },
      "source": [
        "#constroi a matriz de confusão para comparar o modelo criado\n",
        "from sklearn.metrics import classification_report, confusion_matrix\n",
        "print(confusion_matrix(y_test, y_pred_mlp))\n",
        "print(classification_report(y_test, y_pred_mlp))"
      ],
      "execution_count": null,
      "outputs": [
        {
          "output_type": "stream",
          "text": [
            "[[118  33]\n",
            " [ 29  51]]\n",
            "              precision    recall  f1-score   support\n",
            "\n",
            "           0       0.80      0.78      0.79       151\n",
            "           1       0.61      0.64      0.62        80\n",
            "\n",
            "    accuracy                           0.73       231\n",
            "   macro avg       0.70      0.71      0.71       231\n",
            "weighted avg       0.73      0.73      0.73       231\n",
            "\n"
          ],
          "name": "stdout"
        }
      ]
    },
    {
      "cell_type": "code",
      "metadata": {
        "id": "A4soOSfekwzd",
        "colab": {
          "base_uri": "https://localhost:8080/",
          "height": 279
        },
        "outputId": "a0e62490-c611-4f96-e9aa-98a51661b502"
      },
      "source": [
        "#Avaliando o modelo \n",
        "\n",
        "#realiza o plot da matriz de confusão\n",
        "matriz_confusao_mlp = confusion_matrix(y_test, y_pred_mlp)\n",
        "from mlxtend.plotting import plot_confusion_matrix\n",
        "\n",
        "fig, ax = plot_confusion_matrix(conf_mat=matriz_confusao_mlp)\n",
        "plt.show()"
      ],
      "execution_count": null,
      "outputs": [
        {
          "output_type": "display_data",
          "data": {
            "image/png": "[encoded data removed]",
            "text/plain": [
              "<Figure size 432x288 with 1 Axes>"
            ]
          },
          "metadata": {
            "tags": [],
            "needs_background": "light"
          }
        }
      ]
    },
    {
      "cell_type": "markdown",
      "metadata": {
        "id": "Hge8szfVA7U_"
      },
      "source": [
        "**Pergunta 11**: Após dividir as colunas do dataframe entre entrada e saída, aplicar a normalização dos dados como apresentado no enunciado (MinMaxScaler()) e dividir os dados entre treinamento e teste, aplique o algoritmo MLP. Qual é, aproximadamente, a acurácia do modelo? *0,73.*"
      ]
    },
    {
      "cell_type": "markdown",
      "metadata": {
        "id": "ybvfvfv0BeWB"
      },
      "source": [
        "**Pergunta 12**: Dentre todos os modelo implementados seguindo o enunciado deste trabalho prático, qual foi aquele que alcançou maior acurácia? *SVM como classificador.*"
      ]
    },
    {
      "cell_type": "markdown",
      "metadata": {
        "id": "Khp845JiCf0M"
      },
      "source": [
        "**Pergunta 13**: Qual dos modelos implementados neste trabalho prático é classificado como um modelo de aprendizado de máquina não-supervisionado? *Nenhum deles.*"
      ]
    },
    {
      "cell_type": "markdown",
      "metadata": {
        "id": "WiEO9mbmmPdf"
      },
      "source": [
        "# **O código abaixo deve ser utilizado para as questões de concorrência:**"
      ]
    },
    {
      "cell_type": "markdown",
      "metadata": {
        "id": "1HwCTHwvGh9P"
      },
      "source": [
        "**Código 1**"
      ]
    },
    {
      "cell_type": "code",
      "metadata": {
        "id": "x-b_zJq8mcNI"
      },
      "source": [
        "import threading\n",
        "import time\n",
        "from random import randint"
      ],
      "execution_count": null,
      "outputs": []
    },
    {
      "cell_type": "code",
      "metadata": {
        "id": "NDva1nQEm_vP",
        "colab": {
          "base_uri": "https://localhost:8080/"
        },
        "outputId": "c17fcf0a-63ac-4fa7-8e25-f53aae1f871c"
      },
      "source": [
        "def funcao_1(num):\n",
        "  n = num\n",
        "  while n>0:\n",
        "    n-=1\n",
        "    print(\"n_1: {}\".format(n))\n",
        "    time.sleep(randint(0,2))\n",
        "\n",
        "def funcao_2(num):\n",
        "  n = num\n",
        "  while n<100:\n",
        "    n+=1\n",
        "    print(\"n_2: {}\".format(n))\n",
        "    time.sleep(randint(0,2))\n",
        "\n",
        "if __name__ == \"__main__\":\n",
        "  t1 = threading.Thread(target=funcao_1, args=(0,)) \n",
        "  t2 = threading.Thread(target=funcao_2, args=(100,)) \n",
        "\n",
        "  t1.start()\n",
        "  t2.start()\n",
        "\n",
        "  t1.join()\n",
        "  t2.join()\n",
        "\n",
        "  print(\"Fim!\")\n",
        "\n",
        "\n"
      ],
      "execution_count": null,
      "outputs": [
        {
          "output_type": "stream",
          "text": [
            "Fim!\n"
          ],
          "name": "stdout"
        }
      ]
    },
    {
      "cell_type": "markdown",
      "metadata": {
        "id": "KHs3BABdGmt6"
      },
      "source": [
        "**Pergunta 14**: Implemente o código 1 presente no enunciado do trabalho. Sobre este código, é INCORRETO afirmar que: *A tarefa realizada pela funcao_1 sempre será finalizada antes da tarefa executada pela funcao_2.*"
      ]
    },
    {
      "cell_type": "markdown",
      "metadata": {
        "id": "lV9hTUt3G8Xl"
      },
      "source": [
        "**Pergunta 15**: Considere o código 1. Inverta os parâmetros de entrada para as funções 1 e 2 ( entrada funcao_1=0 e entrada funcao_2=100). Após essas modificações, é INCORRETO afirmar que: *Se alterarmos, além dos parâmetros de entrada, os parâmetros da chamada sleep(randint()), é possível alterar o tempo de execução das threads.*"
      ]
    }
  ]
}