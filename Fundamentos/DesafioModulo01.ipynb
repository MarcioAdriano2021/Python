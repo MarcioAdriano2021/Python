{
  "nbformat": 4,
  "nbformat_minor": 0,
  "metadata": {
    "colab": {
      "name": "DesafioModulo01.ipynb",
      "provenance": [],
      "collapsed_sections": []
    },
    "kernelspec": {
      "name": "python3",
      "display_name": "Python 3"
    }
  },
  "cells": [
    {
      "cell_type": "markdown",
      "metadata": {
        "id": "ghrLDk2K_OM1"
      },
      "source": [
        "#Desafio Fundamentos:\r\n",
        "#Exercitar os seguintes conceitos trabalhados no Módulo:\r\n",
        "##✓ Atributos.\r\n",
        "##✓ Funções.\r\n",
        "##✓ Objetos.\r\n",
        "##✓ Classes."
      ]
    },
    {
      "cell_type": "markdown",
      "metadata": {
        "id": "8OYw_WcK_muh"
      },
      "source": [
        "**Código 1**"
      ]
    },
    {
      "cell_type": "code",
      "metadata": {
        "id": "LM8C53VYgRUE",
        "colab": {
          "base_uri": "https://localhost:8080/",
          "height": 34
        },
        "outputId": "c8f5557e-f622-4f64-aae3-dd3aa096cdec"
      },
      "source": [
        "def funcao_1(num1,num2):\n",
        "    resultado = num1 * num2\n",
        "    if resultado <= 1000:\n",
        "       return resultado\n",
        "    else:\n",
        "       return num1 + num2\n",
        "\n",
        "numero_1 = 20\n",
        "numero_2 = 30\n",
        "\n",
        "print(funcao_1(numero_1,numero_2))"
      ],
      "execution_count": null,
      "outputs": [
        {
          "output_type": "stream",
          "text": [
            "600\n"
          ],
          "name": "stdout"
        }
      ]
    },
    {
      "cell_type": "markdown",
      "metadata": {
        "id": "C_EWE6M0AqB0"
      },
      "source": [
        "**Pergunta 1**: Executando a chamada da funcao_1 com os parâmetros numero_1 e numero_2, qual será o valor de saída? *600.*\r\n"
      ]
    },
    {
      "cell_type": "markdown",
      "metadata": {
        "id": "TIudzB3DBOqo"
      },
      "source": [
        "**Pergunta 2**: Qual das alternativas abaixo melhor explica “o que faz” a função? R*ealiza o produto dos parâmetros e, caso seja superior a 1000, realiza a soma dos parâmetros, caso contrário retorna o produto.*"
      ]
    },
    {
      "cell_type": "code",
      "metadata": {
        "id": "t10dMn81jdeE",
        "colab": {
          "base_uri": "https://localhost:8080/",
          "height": 34
        },
        "outputId": "52a3f348-0adf-4c25-8176-f4644630fcdb"
      },
      "source": [
        "def funcao_1(num1,num2):\n",
        "    resultado = num1 * num2\n",
        "    if resultado%2==0:\n",
        "       return resultado\n",
        "    else:\n",
        "       return num1 + num2\n",
        "\n",
        "numero_1 = 10\n",
        "numero_2 = 20\n",
        "\n",
        "print(funcao_1(numero_1,numero_2))"
      ],
      "execution_count": null,
      "outputs": [
        {
          "output_type": "stream",
          "text": [
            "200\n"
          ],
          "name": "stdout"
        }
      ]
    },
    {
      "cell_type": "markdown",
      "metadata": {
        "id": "yG8tl2DJBe4Y"
      },
      "source": [
        "**Pergunta 3**: Se realizarmos a troca do condicional do if (resultado <=1000) por if (resultado%2==0), qual será o retorno da função para os parâmetros de entrada (10,20)? *200.*"
      ]
    },
    {
      "cell_type": "code",
      "metadata": {
        "id": "CdA_5yrLkqae",
        "colab": {
          "base_uri": "https://localhost:8080/",
          "height": 34
        },
        "outputId": "4f1b488f-2037-42cd-d1b5-ff530fbf234e"
      },
      "source": [
        "def funcao_1(num1,num2):\n",
        "    resultado = num1 * num2\n",
        "    if resultado <= 1000:\n",
        "      return resultado\n",
        "\n",
        "numero_1 = 120\n",
        "numero_2 = 10\n",
        "\n",
        "print(funcao_1(numero_1,numero_2))"
      ],
      "execution_count": null,
      "outputs": [
        {
          "output_type": "stream",
          "text": [
            "None\n"
          ],
          "name": "stdout"
        }
      ]
    },
    {
      "cell_type": "markdown",
      "metadata": {
        "id": "OPlFUNi6B4cG"
      },
      "source": [
        "**Pergunta 4**: Considere o código 1. Se for retirado o condicional e todo o corpo pertencente à declaração “else” desse código e utilizar os parâmetros de entrada (120,10), qual será o retorno dessa função? *Nenhum valor será retornado.*"
      ]
    },
    {
      "cell_type": "markdown",
      "metadata": {
        "id": "DGUXWsIS_xc0"
      },
      "source": [
        "**Código 2**"
      ]
    },
    {
      "cell_type": "code",
      "metadata": {
        "id": "2G7c3iq0luYl",
        "colab": {
          "base_uri": "https://localhost:8080/",
          "height": 187
        },
        "outputId": "174b2707-d9c6-4f13-d372-03b4b66e49e8"
      },
      "source": [
        "def funcao_2(num):\n",
        "    numero_anterior = 0\n",
        "    for i in range(num):\n",
        "        resultado = numero_anterior + i\n",
        "        print(\"Número A\", i, \"Número B\", numero_anterior, \" Resultado: \", resultado)\n",
        "        numero_anterior = i\n",
        "\n",
        "funcao_2(10)\n",
        "#funcao_2(10,5)"
      ],
      "execution_count": null,
      "outputs": [
        {
          "output_type": "stream",
          "text": [
            "Número A 0 Número B 0  Resultado:  0\n",
            "Número A 1 Número B 0  Resultado:  1\n",
            "Número A 2 Número B 1  Resultado:  3\n",
            "Número A 3 Número B 2  Resultado:  5\n",
            "Número A 4 Número B 3  Resultado:  7\n",
            "Número A 5 Número B 4  Resultado:  9\n",
            "Número A 6 Número B 5  Resultado:  11\n",
            "Número A 7 Número B 6  Resultado:  13\n",
            "Número A 8 Número B 7  Resultado:  15\n",
            "Número A 9 Número B 8  Resultado:  17\n"
          ],
          "name": "stdout"
        }
      ]
    },
    {
      "cell_type": "markdown",
      "metadata": {
        "id": "3kptXcNDCb7Y"
      },
      "source": [
        "**Pergunta 5**: Considere o código 2. Se utilizarmos o “range(num)” como entrada de um objeto list(range(num)), é CORRETO afirmar que:* Retorna uma lista contendo valores de 0 a num-1.*"
      ]
    },
    {
      "cell_type": "code",
      "metadata": {
        "id": "JK38OjOood4O",
        "colab": {
          "base_uri": "https://localhost:8080/",
          "height": 187
        },
        "outputId": "4bd14693-11fc-4625-c76f-6257a60e1f36"
      },
      "source": [
        "def funcao_2(num):\n",
        "    numero_anterior = 0\n",
        "    for i in list(range(num)):\n",
        "        resultado = numero_anterior + i\n",
        "        print(\"Número A\", i, \"Número B\", numero_anterior, \" Resultado: \", resultado)\n",
        "        numero_anterior = i\n",
        "\n",
        "funcao_2(10)"
      ],
      "execution_count": null,
      "outputs": [
        {
          "output_type": "stream",
          "text": [
            "Número A 0 Número B 0  Resultado:  0\n",
            "Número A 1 Número B 0  Resultado:  1\n",
            "Número A 2 Número B 1  Resultado:  3\n",
            "Número A 3 Número B 2  Resultado:  5\n",
            "Número A 4 Número B 3  Resultado:  7\n",
            "Número A 5 Número B 4  Resultado:  9\n",
            "Número A 6 Número B 5  Resultado:  11\n",
            "Número A 7 Número B 6  Resultado:  13\n",
            "Número A 8 Número B 7  Resultado:  15\n",
            "Número A 9 Número B 8  Resultado:  17\n"
          ],
          "name": "stdout"
        }
      ]
    },
    {
      "cell_type": "markdown",
      "metadata": {
        "id": "ufId9Q-WCoD_"
      },
      "source": [
        "**Pergunta 6**: Considere o código 2. Se utilizarmos a chamada da função presente nesse código passando os parâmetros (10,5), qual será o resultado? *Um erro, pois a função recebe apenas 1 parâmetro.*"
      ]
    },
    {
      "cell_type": "markdown",
      "metadata": {
        "id": "dUROfKwwAeFV"
      },
      "source": [
        "**Código 3**"
      ]
    },
    {
      "cell_type": "code",
      "metadata": {
        "id": "Nh2C51cL91FF",
        "colab": {
          "base_uri": "https://localhost:8080/",
          "height": 68
        },
        "outputId": "9db68d16-e73d-4dcf-cb19-f3d8ed4dde6c"
      },
      "source": [
        "def funcao_3(str):\n",
        "  for i in range(0, len(str)-1, 2):\n",
        "    print(\"indice[\",i,\"]\",str[i])\n",
        "\n",
        "funcao_3(\"marcio\")"
      ],
      "execution_count": null,
      "outputs": [
        {
          "output_type": "stream",
          "text": [
            "indice[ 0 ] m\n",
            "indice[ 2 ] r\n",
            "indice[ 4 ] i\n"
          ],
          "name": "stdout"
        }
      ]
    },
    {
      "cell_type": "markdown",
      "metadata": {
        "id": "Ht_TdkYFATVo"
      },
      "source": [
        "**Código 4**"
      ]
    },
    {
      "cell_type": "code",
      "metadata": {
        "id": "JdLpZKuOpdKY",
        "colab": {
          "base_uri": "https://localhost:8080/",
          "height": 85
        },
        "outputId": "a9608b56-18d1-4aed-9a69-ba078b8a247f"
      },
      "source": [
        "def funcao_4(lista_numerica):\n",
        "    print(\"valor passado \", lista_numerica)\n",
        "    a = lista_numerica[0]\n",
        "    b = lista_numerica[-1]\n",
        "    print(a)\n",
        "    print(b)\n",
        "    if (a != b):\n",
        "      return True\n",
        "    else:\n",
        "      return False\n",
        "\n",
        "numeros = [10, 20, 30, 40, 10]\n",
        "\n",
        "funcao_4(numeros)"
      ],
      "execution_count": null,
      "outputs": [
        {
          "output_type": "stream",
          "text": [
            "valor passado  [10, 20, 30, 40, 10]\n",
            "10\n",
            "10\n"
          ],
          "name": "stdout"
        },
        {
          "output_type": "execute_result",
          "data": {
            "text/plain": [
              "False"
            ]
          },
          "metadata": {
            "tags": []
          },
          "execution_count": 17
        }
      ]
    },
    {
      "cell_type": "markdown",
      "metadata": {
        "id": "X-tv9uSwD9jV"
      },
      "source": [
        "**Pergunta 7**: Considere o código 4. Utilizando como entra a lista “numeros” presente no código e alterando o condicional do if (a==b) pela condição de diferença entre a e b, qual será o resultado de retorno da funcao_4? *False.*\r\n"
      ]
    },
    {
      "cell_type": "code",
      "metadata": {
        "id": "v76LNmjAsdMq",
        "colab": {
          "base_uri": "https://localhost:8080/",
          "height": 85
        },
        "outputId": "9c18b3d9-aeeb-4417-e34f-447e5d68c14f"
      },
      "source": [
        "def funcao_4(lista_numerica):\n",
        "    print(\"valor passado \", lista_numerica)\n",
        "    a = lista_numerica[0]\n",
        "    b = lista_numerica[-1]\n",
        "    print(a)\n",
        "    print(b)\n",
        "    if (a == b):\n",
        "      return True\n",
        "    else:\n",
        "      return False\n",
        "\n",
        "#numeros = [10, 20, 30, 40, 10]\n",
        "#numeros = [12, 3, 23, 11]\n",
        "numeros = [10, 20, 30, 40, 10, 50, 60, 10]\n",
        "\n",
        "funcao_4(numeros)"
      ],
      "execution_count": null,
      "outputs": [
        {
          "output_type": "stream",
          "text": [
            "valor passado  [10, 20, 30, 40, 10, 50, 60, 10]\n",
            "10\n",
            "10\n"
          ],
          "name": "stdout"
        },
        {
          "output_type": "execute_result",
          "data": {
            "text/plain": [
              "True"
            ]
          },
          "metadata": {
            "tags": []
          },
          "execution_count": 7
        }
      ]
    },
    {
      "cell_type": "markdown",
      "metadata": {
        "id": "S8S6U0nIERU_"
      },
      "source": [
        "**Pergunta 8**: Considere o código 4. Sobre a funcao_4 presente nesse código, é correto afirmar, EXCETO: *Caso seja inserida uma lista de comprimento maior do que 6, será retornado um erro.*"
      ]
    },
    {
      "cell_type": "markdown",
      "metadata": {
        "id": "fIiBiu_CDTNm"
      },
      "source": [
        "**Código 5**"
      ]
    },
    {
      "cell_type": "code",
      "metadata": {
        "id": "Th2JbcFiuF5u",
        "colab": {
          "base_uri": "https://localhost:8080/",
          "height": 34
        },
        "outputId": "1b0a1138-4b00-4920-e585-abe9abec83c9"
      },
      "source": [
        "class Classe_1:\n",
        "      def funcao_da_classe_1(self, string):\n",
        "          dicionario = {'I': 1, 'V': 5, 'X': 10, 'L': 50, 'C': 100, 'D': 500, 'M': 1000}\n",
        "          valor = 0\n",
        "          for i in range(len(string)):\n",
        "              if i > 0 and dicionario[string[i]] > dicionario[string[i - 1]]:\n",
        "                 valor += dicionario[string[i]] - 2 * dicionario[string[i - 1]]\n",
        "              else:\n",
        "                 valor += dicionario[string[i]]\n",
        "          return valor\n",
        "\n",
        "objeto_classe1 = Classe_1()\n",
        "objeto_classe1.funcao_da_classe_1(\"MCCLXIV\")\n",
        "#objeto_classe1.funcao_da_classe_1(1)"
      ],
      "execution_count": null,
      "outputs": [
        {
          "output_type": "execute_result",
          "data": {
            "text/plain": [
              "1264"
            ]
          },
          "metadata": {
            "tags": []
          },
          "execution_count": 8
        }
      ]
    },
    {
      "cell_type": "code",
      "metadata": {
        "id": "YPaBWrfvynxA",
        "colab": {
          "base_uri": "https://localhost:8080/",
          "height": 34
        },
        "outputId": "ed6f546d-649d-41b7-dbed-0d4b5daf82e9"
      },
      "source": [
        "  def funcao_da_classe_1(string):\n",
        "      dicionario = {'I': 1, 'V': 5, 'X': 10, 'L': 50, 'C': 100, 'D': 500, 'M': 1000}\n",
        "      valor = 0\n",
        "      for i in range(len(string)):\n",
        "          if i > 0 and dicionario[string[i]] > dicionario[string[i - 1]]:\n",
        "             valor += dicionario[string[i]] - 2 * dicionario[string[i - 1]]\n",
        "          else:\n",
        "             valor += dicionario[string[i]]\n",
        "      return valor\n",
        "\n",
        "funcao_da_classe_1(\"VIII\")"
      ],
      "execution_count": null,
      "outputs": [
        {
          "output_type": "execute_result",
          "data": {
            "text/plain": [
              "8"
            ]
          },
          "metadata": {
            "tags": []
          },
          "execution_count": 28
        }
      ]
    },
    {
      "cell_type": "markdown",
      "metadata": {
        "id": "xP7sYgpVFFM8"
      },
      "source": [
        "**Pergunta 9**: Considere o código 5. Qual é a melhor alternativa que descreve o comportamento da Classe_1? *Possui um método que transforma algarismos romanos em arábicos.*"
      ]
    },
    {
      "cell_type": "markdown",
      "metadata": {
        "id": "NHynaxJeFfsR"
      },
      "source": [
        "**Pergunta 10**: Considere o código 5. Para a Classe_1, é CORRETO afirmar: *Para a Classe_1 não foi definido uma construção.* "
      ]
    },
    {
      "cell_type": "markdown",
      "metadata": {
        "id": "SjGtAkXuDdAU"
      },
      "source": [
        "**Código 6**"
      ]
    },
    {
      "cell_type": "code",
      "metadata": {
        "id": "sPax8N5f1tuh",
        "colab": {
          "base_uri": "https://localhost:8080/",
          "height": 85
        },
        "outputId": "675e1293-0b3e-425c-d6ea-1b6977829afd"
      },
      "source": [
        "class A:\n",
        "  def __init__(self):\n",
        "    self.calcI(30)\n",
        "    print(\"i da Classe A\", self.i)\n",
        "\n",
        "  def calcI(self, i):\n",
        "    print(\"CalcI da Classe A\")\n",
        "    self.i = 2 * i\n",
        "\n",
        "class B(A):\n",
        "  def __init__(self):\n",
        "    super().__init__()\n",
        "\n",
        "  def calcI(self, i):\n",
        "    print(\"CalcI da Classe B\")\n",
        "    self.i = 3 * i\n",
        "\n",
        "\n",
        "b = B()\n",
        "\n",
        "a = A()"
      ],
      "execution_count": null,
      "outputs": [
        {
          "output_type": "stream",
          "text": [
            "CalcI da Classe B\n",
            "i da Classe A 90\n",
            "CalcI da Classe A\n",
            "i da Classe A 60\n"
          ],
          "name": "stdout"
        }
      ]
    },
    {
      "cell_type": "markdown",
      "metadata": {
        "id": "wpYH6NksF-g7"
      },
      "source": [
        "**Pergunta 11**: Considere o código 6. Sobre esse código, é correto afirmar, EXCETO:* Não é possível instanciar objetos da classe B.* "
      ]
    },
    {
      "cell_type": "markdown",
      "metadata": {
        "id": "eNm5ipzeDmwR"
      },
      "source": [
        "**Código 7**"
      ]
    },
    {
      "cell_type": "code",
      "metadata": {
        "id": "YdMVom4a6EDB",
        "colab": {
          "base_uri": "https://localhost:8080/",
          "height": 34
        },
        "outputId": "22f7020a-dc96-4a13-99a2-c6f3f1351e94"
      },
      "source": [
        "class Classe_2():\n",
        "  def __init__(self, l, w):\n",
        "    self.a = l\n",
        "    self.b = w    \n",
        "\n",
        "  def metodo_1(self):\n",
        "    return self.a*self.b\n",
        "\n",
        "objeto_1 = Classe_2(12,10)\n",
        "objeto_1.metodo_1()\n"
      ],
      "execution_count": null,
      "outputs": [
        {
          "output_type": "execute_result",
          "data": {
            "text/plain": [
              "120"
            ]
          },
          "metadata": {
            "tags": []
          },
          "execution_count": 16
        }
      ]
    },
    {
      "cell_type": "code",
      "metadata": {
        "id": "cYwbOUEqLCmX",
        "colab": {
          "base_uri": "https://localhost:8080/",
          "height": 51
        },
        "outputId": "02ade44f-4664-4b12-a6fb-d806ce1c10bb"
      },
      "source": [
        "class Classe_2():\n",
        "  def __init__(self, l, w):\n",
        "    self.a = l\n",
        "    self.b = w    \n",
        "\n",
        "  def metodo_1(self):\n",
        "    return self.a*self.b\n",
        "\n",
        "class Classe_3(Classe_2):\n",
        "  def __init__(self, l, w):\n",
        "    super().__init__(l,w)\n",
        "\n",
        "  def metodo_1(self):\n",
        "    return self.a*self.b/2\n",
        "\n",
        "objeto_1 = Classe_2(12,10)\n",
        "print(\"área 1: \",objeto_1.metodo_1())\n",
        "\n",
        "objeto_2 = Classe_3(12,10)\n",
        "print(\"área 2: \",objeto_2.metodo_1())\n"
      ],
      "execution_count": null,
      "outputs": [
        {
          "output_type": "stream",
          "text": [
            "área 1:  120\n",
            "área 2:  60.0\n"
          ],
          "name": "stdout"
        }
      ]
    },
    {
      "cell_type": "markdown",
      "metadata": {
        "id": "Q8rtfNu6Gosp"
      },
      "source": [
        "**Pergunta 12**: Considere o código 7. Sobre a Classe_2, é CORRETO afirmar:  *Pode ser utilizada para retornar a área de um retângulo.* "
      ]
    },
    {
      "cell_type": "markdown",
      "metadata": {
        "id": "MSYDjWUsGw-N"
      },
      "source": [
        "**Pergunta 13**: Considere o código 7. Instanciando um objeto como apresentado nesse código e utilizando a chamada do metodo_1, qual será o resultado? *120.*"
      ]
    },
    {
      "cell_type": "markdown",
      "metadata": {
        "id": "UjQMxsuH9y8E"
      },
      "source": [
        "01 - c /\n",
        "02 - b /\n",
        "03 - d /\n",
        "04 - d /\n",
        "05 - a /\n",
        "06 - c /\n",
        "07 - d /\n",
        "08 - c /\n",
        "09 - d /\n",
        "10 - d /\n",
        "11 - c /\n",
        "12 - d /\n",
        "13 - d /"
      ]
    }
  ]
}