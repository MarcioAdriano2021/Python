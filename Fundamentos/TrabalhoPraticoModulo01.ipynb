{
  "nbformat": 4,
  "nbformat_minor": 0,
  "metadata": {
    "colab": {
      "name": "TrabalhoPraticoModulo01.ipynb",
      "provenance": [],
      "collapsed_sections": []
    },
    "kernelspec": {
      "name": "python3",
      "display_name": "Python 3"
    }
  },
  "cells": [
    {
      "cell_type": "markdown",
      "metadata": {
        "id": "L2hBzICl-LYo"
      },
      "source": [
        "# Trabalho Prático Fundamentos:\r\n",
        "# Exercitar os seguintes conceitos trabalhados no Módulo:\r\n",
        "##✓ Tipos de dados.\r\n",
        "##✓ Condicionais.\r\n",
        "##✓ Estrutura de dados."
      ]
    },
    {
      "cell_type": "markdown",
      "metadata": {
        "id": "1c2tmyzW01ih"
      },
      "source": [
        "**Código 1** "
      ]
    },
    {
      "cell_type": "code",
      "metadata": {
        "id": "vvGTG-tsX2Yl",
        "colab": {
          "base_uri": "https://localhost:8080/",
          "height": 68
        },
        "outputId": "6dc07231-bb63-4d27-89bf-64975293bb31"
      },
      "source": [
        "idade = int(input(\"Entre com a sua idade: \"))\n",
        "nova_idade = idade + 1\n",
        "print(\"No próximo ano você terá: {} anos\".format(nova_idade))\n",
        "print(\"No próximo ano você terá: %2d anos\"%(nova_idade))"
      ],
      "execution_count": null,
      "outputs": [
        {
          "output_type": "stream",
          "text": [
            "Entre com a sua idade: 51\n",
            "No próximo ano você terá: 52 anos\n",
            "No próximo ano você terá: 52 anos\n"
          ],
          "name": "stdout"
        }
      ]
    },
    {
      "cell_type": "markdown",
      "metadata": {
        "id": "KoKvHS4Y1iOn"
      },
      "source": [
        "**Pergunta 1**: Sobre o código 1, é CORRETO afirmar: *“input” é utilizado para receber dados digitados pelo usuário.*"
      ]
    },
    {
      "cell_type": "markdown",
      "metadata": {
        "id": "SXkk8niL2Q_C"
      },
      "source": [
        "**Pergunta 2**: Sobre o código 1, é CORRETO afirmar: *Para realizar a soma algébrica das idades é necessário aplicar a transformação para objeto inteiro.*"
      ]
    },
    {
      "cell_type": "markdown",
      "metadata": {
        "id": "KbycZnFP29q4"
      },
      "source": [
        "**Pergunta 3**: Sobre o código 1, é CORRETO afirmar: *Na segunda linha ocorre a soma algébrica de dois inteiros.*"
      ]
    },
    {
      "cell_type": "markdown",
      "metadata": {
        "id": "w4ZdK1q53cji"
      },
      "source": [
        "**Pergunta 4**: Utilizando o código 1, informe a idade de 33.3 quando o código for executado. Marque a alternativa que melhor explica a resposta obtida. *O erro encontrado ocorre devido à idade informada ser do um ponto flutuante e o objeto “int” trabalhar com valores inteiros.*"
      ]
    },
    {
      "cell_type": "markdown",
      "metadata": {
        "id": "LmdRH7b2382C"
      },
      "source": [
        "**Pergunta 5**: Sobre o objeto “print” presente no código 1, é CORRETO afirmar: *Esse objeto pode ser utilizado em conjunto com o % para formatar valores numéricos, por exemplo.*"
      ]
    },
    {
      "cell_type": "markdown",
      "metadata": {
        "id": "8x08hXAy4U9e"
      },
      "source": [
        "**Pergunta 6**: Sobre a segunda linha do código 1, é CORRETO afirmar: *O resultado é o valor da idade informada acrescida do valor 1.*"
      ]
    },
    {
      "cell_type": "markdown",
      "metadata": {
        "id": "kTLs8lH_4qy6"
      },
      "source": [
        "**Código 2**"
      ]
    },
    {
      "cell_type": "code",
      "metadata": {
        "id": "UsSq-SKGaSb-",
        "colab": {
          "base_uri": "https://localhost:8080/",
          "height": 68
        },
        "outputId": "0f9282aa-78ba-4346-e22c-b2618a3be015"
      },
      "source": [
        "lado_a = 35\n",
        "lado_b = 14.33333\n",
        "area_do_retangulo= (lado_a) * (lado_b)\n",
        "print('O retângulo de lado A = %d e B = %.2f é %.3f '%(lado_a,lado_b,area_do_retangulo))\n",
        "print('O retângulo de lado A = {} e B = {} é {} '.format(lado_a,lado_b,area_do_retangulo))\n",
        "print('O retângulo de lado A = %d e B = %.2d é %.3f '%(lado_a,lado_b,area_do_retangulo))"
      ],
      "execution_count": null,
      "outputs": [
        {
          "output_type": "stream",
          "text": [
            "O retângulo de lado A = 35 e B = 14.33 é 501.667 \n",
            "O retângulo de lado A = 35 e B = 14.33333 é 501.66655000000003 \n",
            "O retângulo de lado A = 35 e B = 14 é 501.667 \n"
          ],
          "name": "stdout"
        }
      ]
    },
    {
      "cell_type": "markdown",
      "metadata": {
        "id": "UU8BJnnh45TR"
      },
      "source": [
        "**Pergunta 7**: Sobre o código 2, é correto afirmar, EXCETO: *Se substituirmos o campo %.2f por %.2d nenhuma alteração na saída ocorre, pois a variável “ lado_a” é um inteiro.*"
      ]
    },
    {
      "cell_type": "markdown",
      "metadata": {
        "id": "66bYgsml5Xbi"
      },
      "source": [
        "**Código 3**"
      ]
    },
    {
      "cell_type": "code",
      "metadata": {
        "id": "UxEtB9mqdl51",
        "colab": {
          "base_uri": "https://localhost:8080/",
          "height": 52
        },
        "outputId": "a0b73217-7c4c-4d15-8069-c12d0305ebff"
      },
      "source": [
        "lista_1 = [1,2,'IGTI']\n",
        "lista_2= [2,3,\"Bootcamp\"]\n",
        "lista_3= lista_1 +lista_2\n",
        "print(lista_3)\n",
        "lista_3[2]\n"
      ],
      "execution_count": null,
      "outputs": [
        {
          "output_type": "stream",
          "text": [
            "[1, 2, 'IGTI', 2, 3, 'Bootcamp']\n"
          ],
          "name": "stdout"
        },
        {
          "output_type": "execute_result",
          "data": {
            "application/vnd.google.colaboratory.intrinsic+json": {
              "type": "string"
            },
            "text/plain": [
              "'IGTI'"
            ]
          },
          "metadata": {
            "tags": []
          },
          "execution_count": 15
        }
      ]
    },
    {
      "cell_type": "markdown",
      "metadata": {
        "id": "bzoF_gKH5a_z"
      },
      "source": [
        "**Pergunta 8**: Sobre o código 3, é CORRETO afirmar: *A execução retorna uma lista que contém os valores [1, 2, 'IGTI', 2, 3, 'Bootcamp'].*"
      ]
    },
    {
      "cell_type": "markdown",
      "metadata": {
        "id": "24LUE_LC5rwc"
      },
      "source": [
        "**Pergunta 9**: Sobre o código 3, é CORRETO afirmar: *Para acessar o elemento ‘IGTI’ da variável lista_3, podemos utilizar o índice 2.*"
      ]
    },
    {
      "cell_type": "markdown",
      "metadata": {
        "id": "4I_aMSIq6SBD"
      },
      "source": [
        "**Código 4**"
      ]
    },
    {
      "cell_type": "code",
      "metadata": {
        "id": "Cip58luAf6W2",
        "colab": {
          "base_uri": "https://localhost:8080/",
          "height": 119
        },
        "outputId": "0827b088-5cd2-40ba-89df-f52c93eb4491"
      },
      "source": [
        "chute=int(input('Entre com um valor inteiro de 0 a 30: '))\n",
        "adivinhacao = [5, 6, 10, 14, 16, 20, 30]\n",
        "if chute in adivinhacao:\n",
        "  print('Você acertou um dos números que eu estava pensando')\n",
        "  \n",
        "  if chute > 15:\n",
        "    print('Este número é maior do que 20.')\n",
        "\n",
        "  if chute < 20:\n",
        "    print('Este número é menor do que 20.')\n",
        "\n",
        "  print('Você é fera!')\n",
        "else:\n",
        "  print('Que pena, você errou. Pode tentar novamente.')\n",
        "print('Obrigado por participar!')\n"
      ],
      "execution_count": null,
      "outputs": [
        {
          "output_type": "stream",
          "text": [
            "Entre com um valor inteiro de 0 a 30: 16\n",
            "Você acertou um dos números que eu estava pensando\n",
            "Este número é maior do que 20.\n",
            "Este número é menor do que 20.\n",
            "Você é fera!\n",
            "Obrigado por participar!\n"
          ],
          "name": "stdout"
        }
      ]
    },
    {
      "cell_type": "markdown",
      "metadata": {
        "id": "ocLR3IvA613k"
      },
      "source": [
        "**Pergunta 10**: Sobre o código 4, é CORRETO afirmar: *A mensagem “Você é fera” só é exibida caso o usuário digite um número que está presente na lista “chute”.*"
      ]
    },
    {
      "cell_type": "markdown",
      "metadata": {
        "id": "hPTXxWs-6-0Z"
      },
      "source": [
        "**Pergunta 11**: Sobre o código 4, é CORRETO afirmar: *A mensagem “Esse número é menor do que 20” só é exibida se o usuário acertar o valor e este valor for menor do que 20.*"
      ]
    },
    {
      "cell_type": "markdown",
      "metadata": {
        "id": "QzlQr4Qn7024"
      },
      "source": [
        "**Código 5**"
      ]
    },
    {
      "cell_type": "code",
      "metadata": {
        "id": "5jZnqA7kk7rK",
        "colab": {
          "base_uri": "https://localhost:8080/",
          "height": 102
        },
        "outputId": "70c935b7-df29-4af4-fe39-6e55fde02362"
      },
      "source": [
        "frutas = [\"maça\", \"banana\", \"uva\", \"goiaba\"]\n",
        "frutas.append(\"laranja\")\n",
        "for x in frutas:\n",
        "  if x == \"uva\":\n",
        "    break\n",
        "  print(x)"
      ],
      "execution_count": null,
      "outputs": [
        {
          "output_type": "stream",
          "text": [
            "maça\n",
            "banana\n",
            "uva\n",
            "goiaba\n",
            "laranja\n"
          ],
          "name": "stdout"
        }
      ]
    },
    {
      "cell_type": "markdown",
      "metadata": {
        "id": "PJ4AJubG76Eh"
      },
      "source": [
        "**Pergunta 12**: Sobre o código 5, é CORRETO afirmar: *A saída mostrada corresponde às frutas “maça” e “banana”.*"
      ]
    },
    {
      "cell_type": "markdown",
      "metadata": {
        "id": "PpIAKVJO8H1h"
      },
      "source": [
        "**Pergunta 13**: Sobre o código 5, é CORRETO afirmar: S*e adicionarmos mais elementos à lista de “frutas” com o comando “.append()”, a resposta final não será alterada.* "
      ]
    },
    {
      "cell_type": "markdown",
      "metadata": {
        "id": "gzVWo2b38TeV"
      },
      "source": [
        "**Código 6**"
      ]
    },
    {
      "cell_type": "code",
      "metadata": {
        "id": "aObgUhBAoazX",
        "colab": {
          "base_uri": "https://localhost:8080/",
          "height": 102
        },
        "outputId": "40023195-f691-4b87-bc34-7876ab71cad5"
      },
      "source": [
        "n = 5\n",
        "while n > 0:\n",
        "  n -= 1\n",
        "  print(n)"
      ],
      "execution_count": null,
      "outputs": [
        {
          "output_type": "stream",
          "text": [
            "4\n",
            "3\n",
            "2\n",
            "1\n",
            "0\n"
          ],
          "name": "stdout"
        }
      ]
    },
    {
      "cell_type": "markdown",
      "metadata": {
        "id": "7N-Ghm_k8ZfJ"
      },
      "source": [
        "**Pergunta 14**: Sobre o código 6 é CORRETO afirmar:  *Substituindo a condicional “n >= 0” por “n == 0” o loop não é executado.*"
      ]
    },
    {
      "cell_type": "markdown",
      "metadata": {
        "id": "Kwf3Ur3f8l4p"
      },
      "source": [
        "**Pergunta 15**: Sobre o código 6 é CORRETO afirmar:* Substituindo a condição “n >= 0” por “n>0” ocorre um menor número de iterações dentro do loop.*"
      ]
    }
  ]
}