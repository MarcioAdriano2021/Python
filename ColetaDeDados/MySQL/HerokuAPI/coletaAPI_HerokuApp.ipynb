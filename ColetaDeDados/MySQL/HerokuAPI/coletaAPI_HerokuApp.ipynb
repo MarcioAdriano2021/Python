{
 "cells": [
  {
   "cell_type": "markdown",
   "metadata": {},
   "source": [
    "# 1. Python"
   ]
  },
  {
   "cell_type": "markdown",
   "metadata": {},
   "source": [
    "# Coleta de dados de API"
   ]
  },
  {
   "cell_type": "markdown",
   "metadata": {},
   "source": [
    "## API Heroku App - Pessoas"
   ]
  },
  {
   "cell_type": "code",
   "execution_count": 15,
   "metadata": {},
   "outputs": [
    {
     "name": "stdout",
     "output_type": "stream",
     "text": [
      "Collecting requestsNote: you may need to restart the kernel to use updated packages.\n",
      "  Using cached requests-2.25.0-py2.py3-none-any.whl (61 kB)\n",
      "Requirement already satisfied: certifi>=2017.4.17 in c:\\users\\marcio\\anaconda3\\envs\\dev\\lib\\site-packages (from requests) (2020.12.5)\n",
      "Collecting chardet<4,>=3.0.2\n",
      "  Using cached chardet-3.0.4-py2.py3-none-any.whl (133 kB)\n",
      "Collecting idna<3,>=2.5\n",
      "  Using cached idna-2.10-py2.py3-none-any.whl (58 kB)\n",
      "Collecting urllib3<1.27,>=1.21.1\n",
      "  Using cached urllib3-1.26.2-py2.py3-none-any.whl (136 kB)\n",
      "Installing collected packages: urllib3, idna, chardet, requests\n",
      "Successfully installed chardet-3.0.4 idna-2.10 requests-2.25.0 urllib3-1.26.2\n",
      "\n"
     ]
    }
   ],
   "source": [
    "#pip install requests"
   ]
  },
  {
   "cell_type": "code",
   "execution_count": 1,
   "metadata": {},
   "outputs": [],
   "source": [
    "# Se as bibliocas não forem instaladas, fazer a instalação das mesmas\n",
    "import json\n",
    "import requests"
   ]
  },
  {
   "cell_type": "code",
   "execution_count": 2,
   "metadata": {},
   "outputs": [],
   "source": [
    "response = requests.get(\"https://api-coleta-dados.herokuapp.com/api/pessoas\")"
   ]
  },
  {
   "cell_type": "code",
   "execution_count": 4,
   "metadata": {},
   "outputs": [
    {
     "name": "stdout",
     "output_type": "stream",
     "text": [
      "200\n"
     ]
    }
   ],
   "source": [
    "print(response.status_code) #imprime o status da requisição"
   ]
  },
  {
   "cell_type": "code",
   "execution_count": 5,
   "metadata": {},
   "outputs": [
    {
     "name": "stdout",
     "output_type": "stream",
     "text": [
      "b'[{\"nome\":\"Silvana Hadassa\",\"idade\":null,\"data_nasc\":\"12/06/1964\",\"sexo\":\"Feminino\",\"signo\":\"G\\xc3\\xaameos\",\"cidade\":\"Bras\\xc3\\xadlia\",\"estado\":\"DF\",\"altura\":\"1,67\",\"peso\":50,\"tipo_sanguineo\":\"A+\",\"cor\":\"vermelho\"},{\"nome\":\"Thales Kaique\",\"idade\":27,\"data_nasc\":\"10/12/1993\",\"sexo\":\"Masculino\",\"signo\":\"Sagit\\xc3\\xa1rio\",\"cidade\":\"Campo Grande\",\"estado\":\"MS\",\"altura\":\"1,63\",\"peso\":110,\"tipo_sanguineo\":\"B+\",\"cor\":\"laranja\"},{\"nome\":\"Henry Nathan\",\"idade\":29,\"data_nasc\":\"21/09/1991\",\"sexo\":\"Masculino\",\"signo\":\"Virgem\",\"cidade\":\"Macap\\xc3\\xa1\",\"estado\":\"AP\",\"altura\":\"1,86\",\"peso\":106,\"tipo_sanguineo\":\"AB-\",\"cor\":\"verde\"},{\"nome\":\"Lorenzo Vinicius\",\"idade\":64,\"data_nasc\":\"22/10/1956\",\"sexo\":\"Masculino\",\"signo\":\"Libra\",\"cidade\":\"Contagem\",\"estado\":\"MG\",\"altura\":\"1,87\",\"peso\":100,\"tipo_sanguineo\":\"O+\",\"cor\":\"vermelho\"},{\"nome\":\"Cau\\xc3\\xa3 Henrique\",\"idade\":50,\"data_nasc\":\"09/03\",\"sexo\":\"Masculino\",\"signo\":\"Peixes\",\"cidade\":\"Rondon\\xc3\\xb3polis\",\"estado\":\"MT\",\"altura\":\"1,74\",\"peso\":83,\"tipo_sanguineo\":\"O-\",\"cor\":\"vermelho\"},{\"nome\":\"Francisco Thomas\",\"idade\":19,\"data_nasc\":\"12/04/2001\",\"sexo\":\"Masculino\",\"signo\":\"\\xc3\\x81ries\",\"cidade\":\"Olinda\",\"estado\":\"PE\",\"altura\":\"1,91\",\"peso\":64,\"tipo_sanguineo\":\"AB-\",\"cor\":\"preto\"},{\"nome\":\"Bianca Fl\\xc3\\xa1via\",\"idade\":null,\"data_nasc\":\"23/01/1949\",\"sexo\":\"Feminino\",\"signo\":\"Aqu\\xc3\\xa1rio\",\"cidade\":\"Campo Grande\",\"estado\":\"MS\",\"altura\":\"1,54\",\"peso\":76,\"tipo_sanguineo\":\"AB+\",\"cor\":\"vermelho\"},{\"nome\":\"Arthur Filipe\",\"idade\":null,\"data_nasc\":\"23/12/1987\",\"sexo\":\"Masculino\",\"signo\":\"Capric\\xc3\\xb3rnio\",\"cidade\":\"Rio Branco\",\"estado\":\"AC\",\"altura\":\"1,91\",\"peso\":54,\"tipo_sanguineo\":\"AB-\",\"cor\":\"roxo\"},{\"nome\":\"Teresinha Jaqueline\",\"idade\":null,\"data_nasc\":\"20/10/1968\",\"sexo\":\"Feminino\",\"signo\":\"Libra\",\"cidade\":\"Aragua\\xc3\\xadna\",\"estado\":\"TO\",\"altura\":\"1,84\",\"peso\":59,\"tipo_sanguineo\":\"AB-\",\"cor\":\"vermelho\"},{\"nome\":\"Manuel Lu\\xc3\\xads\",\"idade\":50,\"data_nasc\":\"12/05/1970\",\"sexo\":\"Masculino\",\"signo\":\"Touro\",\"cidade\":\"Manaus\",\"estado\":\"AM\",\"altura\":\"1,81\",\"peso\":85,\"tipo_sanguineo\":\"A-\",\"cor\":\"roxo\"},{\"nome\":\"Jorge Nicolas\",\"idade\":null,\"data_nasc\":\"11/07/1968\",\"sexo\":\"Masculino\",\"signo\":\"C\\xc3\\xa2ncer\",\"cidade\":\"Caruaru\",\"estado\":\"PE\",\"altura\":\"1,87\",\"peso\":54,\"tipo_sanguineo\":\"AB-\",\"cor\":\"roxo\"},{\"nome\":\"Ricardo Paulo\",\"idade\":37,\"data_nasc\":\"16/12/1983\",\"sexo\":\"Masculino\",\"signo\":\"Sagit\\xc3\\xa1rio\",\"cidade\":\"Porto Velho\",\"estado\":\"RO\",\"altura\":\"1,86\",\"peso\":52,\"tipo_sanguineo\":\"B+\",\"cor\":\"vermelho\"},{\"nome\":\"Gustavo Joaquim\",\"idade\":61,\"data_nasc\":\"07/01/1959\",\"sexo\":\"Masculino\",\"signo\":\"Capric\\xc3\\xb3rnio\",\"cidade\":\"Macap\\xc3\\xa1\",\"estado\":\"AP\",\"altura\":\"1,62\",\"peso\":106,\"tipo_sanguineo\":\"A+\",\"cor\":\"verde\"},{\"nome\":\"Isabel Yasmin\",\"idade\":50,\"data_nasc\":\"22/06/1970\",\"sexo\":\"Feminino\",\"signo\":\"C\\xc3\\xa2ncer\",\"cidade\":\"Manaus\",\"estado\":\"AM\",\"altura\":\"1,64\",\"peso\":53,\"tipo_sanguineo\":\"AB+\",\"cor\":\"azul\"},{\"nome\":\"Daniel Lucca\",\"idade\":21,\"data_nasc\":\"22/01\",\"sexo\":\"Masculino\",\"signo\":\"Aqu\\xc3\\xa1rio\",\"cidade\":\"Planaltina\",\"estado\":\"GO\",\"altura\":\"1,84\",\"peso\":105,\"tipo_sanguineo\":\"A+\",\"cor\":\"verde\"},{\"nome\":\"Ben\\xc3\\xadcio Guilherme\",\"idade\":37,\"data_nasc\":\"09/02/1983\",\"sexo\":\"Masculino\",\"signo\":\"Aqu\\xc3\\xa1rio\",\"cidade\":\"Rondon\\xc3\\xb3polis\",\"estado\":\"MT\",\"altura\":\"1,63\",\"peso\":95,\"tipo_sanguineo\":\"O-\",\"cor\":\"laranja\"},{\"nome\":\"Jo\\xc3\\xa3o Pedro\",\"idade\":null,\"data_nasc\":\"08/05/2002\",\"sexo\":\"Masculino\",\"signo\":\"Touro\",\"cidade\":\"Santa Cruz do Sul\",\"estado\":\"RS\",\"altura\":\"1,95\",\"peso\":57,\"tipo_sanguineo\":\"B-\",\"cor\":\"preto\"},{\"nome\":\"Sandra Milena\",\"idade\":31,\"data_nasc\":\"16/07/1989\",\"sexo\":\"Feminino\",\"signo\":\"C\\xc3\\xa2ncer\",\"cidade\":\"Porto Alegre\",\"estado\":\"RS\",\"altura\":\"1,70\",\"peso\":84,\"tipo_sanguineo\":\"AB-\",\"cor\":\"verde\"},{\"nome\":\"Antonio S\\xc3\\xa9rgio\",\"idade\":49,\"data_nasc\":\"15/04\",\"sexo\":\"Masculino\",\"signo\":\"\\xc3\\x81ries\",\"cidade\":\"Carpina\",\"estado\":\"PE\",\"altura\":\"1,65\",\"peso\":71,\"tipo_sanguineo\":\"O+\",\"cor\":\"azul\"},{\"nome\":\"Arthur S\\xc3\\xa9rgio\",\"idade\":76,\"data_nasc\":\"20/01/1944\",\"sexo\":\"Masculino\",\"signo\":\"Capric\\xc3\\xb3rnio\",\"cidade\":\"Boa Vista\",\"estado\":\"RR\",\"altura\":\"1,97\",\"peso\":51,\"tipo_sanguineo\":\"AB-\",\"cor\":\"preto\"},{\"nome\":\"Larissa Esther\",\"idade\":37,\"data_nasc\":\"10/03/1983\",\"sexo\":\"Feminino\",\"signo\":\"Peixes\",\"cidade\":\"Imperatriz\",\"estado\":\"MA\",\"altura\":\"1,68\",\"peso\":69,\"tipo_sanguineo\":\"AB-\",\"cor\":\"verde\"},{\"nome\":\"Thales Bento\",\"idade\":null,\"data_nasc\":\"18/04/1942\",\"sexo\":\"Masculino\",\"signo\":\"\\xc3\\x81ries\",\"cidade\":\"S\\xc3\\xa3o Lu\\xc3\\xads\",\"estado\":\"MA\",\"altura\":\"1,95\",\"peso\":64,\"tipo_sanguineo\":\"A+\",\"cor\":\"vermelho\"},{\"nome\":\"Breno Rafael\",\"idade\":58,\"data_nasc\":\"09/01/1962\",\"sexo\":\"Masculino\",\"signo\":\"Capric\\xc3\\xb3rnio\",\"cidade\":\"Cacoal\",\"estado\":\"RO\",\"altura\":\"1,94\",\"peso\":108,\"tipo_sanguineo\":\"A+\",\"cor\":\"preto\"},{\"nome\":\"Tiago Gael\",\"idade\":24,\"data_nasc\":\"17/07/1996\",\"sexo\":\"Masculino\",\"signo\":\"C\\xc3\\xa2ncer\",\"cidade\":\"Cariacica\",\"estado\":\"ES\",\"altura\":\"1,68\",\"peso\":58,\"tipo_sanguineo\":\"A+\",\"cor\":\"azul\"},{\"nome\":\"Carolina M\\xc3\\xa1rcia\",\"idade\":null,\"data_nasc\":\"25/11/1959\",\"sexo\":\"Feminino\",\"signo\":\"Sagit\\xc3\\xa1rio\",\"cidade\":\"Parna\\xc3\\xadba\",\"estado\":\"PI\",\"altura\":\"1,50\",\"peso\":45,\"tipo_sanguineo\":\"B-\",\"cor\":\"preto\"},{\"nome\":\"Levi S\\xc3\\xa9rgio\",\"idade\":null,\"data_nasc\":\"21/08/1949\",\"sexo\":\"Masculino\",\"signo\":\"Le\\xc3\\xa3o\",\"cidade\":\"Santana\",\"estado\":\"AP\",\"altura\":\"1,83\",\"peso\":68,\"tipo_sanguineo\":\"AB-\",\"cor\":\"vermelho\"},{\"nome\":\"Juan Theo\",\"idade\":39,\"data_nasc\":\"09/11/1981\",\"sexo\":\"Masculino\",\"signo\":\"Escorpi\\xc3\\xa3o\",\"cidade\":\"Ponta Grossa\",\"estado\":\"PR\",\"altura\":\"1,67\",\"peso\":77,\"tipo_sanguineo\":\"B-\",\"cor\":\"verde\"},{\"nome\":\"Rafael Ryan\",\"idade\":70,\"data_nasc\":\"10/01\",\"sexo\":\"Masculino\",\"signo\":\"Capric\\xc3\\xb3rnio\",\"cidade\":\"Arapiraca\",\"estado\":\"AL\",\"altura\":\"1,98\",\"peso\":85,\"tipo_sanguineo\":\"O-\",\"cor\":\"laranja\"},{\"nome\":\"Malu Emilly\",\"idade\":70,\"data_nasc\":\"04/07/1950\",\"sexo\":\"Feminino\",\"signo\":\"C\\xc3\\xa2ncer\",\"cidade\":\"\\xc3\\x81guas Lindas de Goi\\xc3\\xa1s\",\"estado\":\"GO\",\"altura\":\"1,62\",\"peso\":48,\"tipo_sanguineo\":\"B-\",\"cor\":\"vermelho\"},{\"nome\":\"Alice B\\xc3\\xa1rbara\",\"idade\":78,\"data_nasc\":\"09/10/1942\",\"sexo\":\"Feminino\",\"signo\":\"Libra\",\"cidade\":\"Cianorte\",\"estado\":\"PR\",\"altura\":\"1,78\",\"peso\":80,\"tipo_sanguineo\":\"AB+\",\"cor\":\"laranja\"},{\"nome\":\"Martin Edson\",\"idade\":35,\"data_nasc\":\"15/01\",\"sexo\":\"Masculino\",\"signo\":\"Capric\\xc3\\xb3rnio\",\"cidade\":\"Aracaju\",\"estado\":\"SE\",\"altura\":\"1,60\",\"peso\":59,\"tipo_sanguineo\":\"A-\",\"cor\":\"laranja\"},{\"nome\":\"Danilo Jorge\",\"idade\":38,\"data_nasc\":\"25/08/1982\",\"sexo\":\"Masculino\",\"signo\":\"Virgem\",\"cidade\":\"Rondon\\xc3\\xb3polis\",\"estado\":\"MT\",\"altura\":\"1,79\",\"peso\":87,\"tipo_sanguineo\":\"AB+\",\"cor\":\"preto\"},{\"nome\":\"Isadora Sueli\",\"idade\":null,\"data_nasc\":\"03/07/1999\",\"sexo\":\"Feminino\",\"signo\":\"C\\xc3\\xa2ncer\",\"cidade\":\"Bel\\xc3\\xa9m\",\"estado\":\"PA\",\"altura\":\"1,59\",\"peso\":88,\"tipo_sanguineo\":\"AB+\",\"cor\":\"verde\"},{\"nome\":\"Maya Tatiane\",\"idade\":27,\"data_nasc\":\"27/12/1993\",\"sexo\":\"Feminino\",\"signo\":\"Capric\\xc3\\xb3rnio\",\"cidade\":\"Aracaju\",\"estado\":\"SE\",\"altura\":\"1,83\",\"peso\":89,\"tipo_sanguineo\":\"AB-\",\"cor\":\"roxo\"},{\"nome\":\"Bruno Manuel\",\"idade\":57,\"data_nasc\":\"14/09\",\"sexo\":\"Masculino\",\"signo\":\"Virgem\",\"cidade\":\"Jata\\xc3\\xad\",\"estado\":\"GO\",\"altura\":\"1,60\",\"peso\":92,\"tipo_sanguineo\":\"O+\",\"cor\":\"azul\"},{\"nome\":\"Gabriel Luan\",\"idade\":66,\"data_nasc\":\"20/12/1954\",\"sexo\":\"Masculino\",\"signo\":\"Sagit\\xc3\\xa1rio\",\"cidade\":\"Boa Vista\",\"estado\":\"RR\",\"altura\":\"1,71\",\"peso\":93,\"tipo_sanguineo\":\"AB-\",\"cor\":\"vermelho\"},{\"nome\":\"Henry Elias\",\"idade\":57,\"data_nasc\":\"26/04/1963\",\"sexo\":\"Masculino\",\"signo\":\"Touro\",\"cidade\":\"V\\xc3\\xa1rzea Grande\",\"estado\":\"MT\",\"altura\":\"1,83\",\"peso\":103,\"tipo_sanguineo\":\"AB+\",\"cor\":\"vermelho\"},{\"nome\":\"Marcela Laura\",\"idade\":56,\"data_nasc\":\"17/11/1964\",\"sexo\":\"Feminino\",\"signo\":\"Escorpi\\xc3\\xa3o\",\"cidade\":\"Macei\\xc3\\xb3\",\"estado\":\"AL\",\"altura\":\"1,52\",\"peso\":79,\"tipo_sanguineo\":\"A-\",\"cor\":\"verde\"},{\"nome\":\"Amanda Luna\",\"idade\":59,\"data_nasc\":\"22/12/1961\",\"sexo\":\"Feminino\",\"signo\":\"Capric\\xc3\\xb3rnio\",\"cidade\":\"Salvador\",\"estado\":\"BA\",\"altura\":\"1,67\",\"peso\":55,\"tipo_sanguineo\":\"O-\",\"cor\":\"amarelo\"},{\"nome\":\"Caio Ricardo\",\"idade\":null,\"data_nasc\":\"07/09/1973\",\"sexo\":\"Masculino\",\"signo\":\"Virgem\",\"cidade\":\"Boa Vista\",\"estado\":\"RR\",\"altura\":\"1,61\",\"peso\":97,\"tipo_sanguineo\":\"A-\",\"cor\":\"roxo\"},{\"nome\":\"Mariane Sabrina\",\"idade\":52,\"data_nasc\":\"27/02/1968\",\"sexo\":\"Feminino\",\"signo\":\"Peixes\",\"cidade\":\"Maca\\xc3\\xa9\",\"estado\":\"RJ\",\"altura\":\"1,67\",\"peso\":70,\"tipo_sanguineo\":\"A+\",\"cor\":\"vermelho\"},{\"nome\":\"Juliana Vanessa\",\"idade\":37,\"data_nasc\":\"27/04/1983\",\"sexo\":\"Feminino\",\"signo\":\"Touro\",\"cidade\":\"Manaus\",\"estado\":\"AM\",\"altura\":\"1,51\",\"peso\":67,\"tipo_sanguineo\":\"AB-\",\"cor\":\"roxo\"},{\"nome\":\"Milena Ros\\xc3\\xa2ngela\",\"idade\":null,\"data_nasc\":\"11/02/1989\",\"sexo\":\"Feminino\",\"signo\":\"Aqu\\xc3\\xa1rio\",\"cidade\":\"Macap\\xc3\\xa1\",\"estado\":\"AP\",\"altura\":\"1,58\",\"peso\":88,\"tipo_sanguineo\":\"B+\",\"cor\":\"azul\"},{\"nome\":\"Osvaldo Augusto\",\"idade\":41,\"data_nasc\":\"15/04/1979\",\"sexo\":\"Masculino\",\"signo\":\"\\xc3\\x81ries\",\"cidade\":\"Cuiab\\xc3\\xa1\",\"estado\":\"MT\",\"altura\":\"1,79\",\"peso\":107,\"tipo_sanguineo\":\"A-\",\"cor\":\"preto\"},{\"nome\":\"Nathan Igor\",\"idade\":57,\"data_nasc\":\"17/10/1963\",\"sexo\":\"Masculino\",\"signo\":\"Libra\",\"cidade\":\"Santa Luzia do Itanhy\",\"estado\":\"SE\",\"altura\":\"1,86\",\"peso\":91,\"tipo_sanguineo\":\"B+\",\"cor\":\"vermelho\"},{\"nome\":\"Let\\xc3\\xadcia Patr\\xc3\\xadcia\",\"idade\":76,\"data_nasc\":\"07/11/1944\",\"sexo\":\"Feminino\",\"signo\":\"Escorpi\\xc3\\xa3o\",\"cidade\":\"Jo\\xc3\\xa3o Pessoa\",\"estado\":\"PB\",\"altura\":\"1,62\",\"peso\":64,\"tipo_sanguineo\":\"AB-\",\"cor\":\"laranja\"},{\"nome\":\"Sophia Andrea\",\"idade\":35,\"data_nasc\":\"23/07/1985\",\"sexo\":\"Feminino\",\"signo\":\"Le\\xc3\\xa3o\",\"cidade\":\"Manaus\",\"estado\":\"AM\",\"altura\":\"1,63\",\"peso\":47,\"tipo_sanguineo\":\"AB+\",\"cor\":\"laranja\"},{\"nome\":\"Aurora L\\xc3\\xbacia\",\"idade\":72,\"data_nasc\":\"19/01/1948\",\"sexo\":\"Feminino\",\"signo\":\"Capric\\xc3\\xb3rnio\",\"cidade\":\"Parna\\xc3\\xadba\",\"estado\":\"PI\",\"altura\":\"1,57\",\"peso\":73,\"tipo_sanguineo\":\"A-\",\"cor\":\"amarelo\"},{\"nome\":\"Bruna Teresinha\",\"idade\":42,\"data_nasc\":\"25/04/1978\",\"sexo\":\"Feminino\",\"signo\":\"Touro\",\"cidade\":\"Brusque\",\"estado\":\"SC\",\"altura\":\"1,70\",\"peso\":77,\"tipo_sanguineo\":\"A-\",\"cor\":\"verde\"},{\"nome\":\"Erick Victor\",\"idade\":52,\"data_nasc\":\"08/10\",\"sexo\":\"Masculino\",\"signo\":\"Libra\",\"cidade\":\"Salvador\",\"estado\":\"BA\",\"altura\":\"1,68\",\"peso\":104,\"tipo_sanguineo\":\"B-\",\"cor\":\"laranja\"},{\"nome\":\"Gabrielly Stella\",\"idade\":39,\"data_nasc\":\"16/10/1981\",\"sexo\":\"Feminino\",\"signo\":\"Libra\",\"cidade\":\"Campo Grande\",\"estado\":\"MS\",\"altura\":\"1,77\",\"peso\":70,\"tipo_sanguineo\":\"A-\",\"cor\":\"amarelo\"},{\"nome\":\"Osvaldo Vitor\",\"idade\":46,\"data_nasc\":\"06/05/1974\",\"sexo\":\"Masculino\",\"signo\":\"Touro\",\"cidade\":\"Manaus\",\"estado\":\"AM\",\"altura\":\"1,67\",\"peso\":74,\"tipo_sanguineo\":\"O-\",\"cor\":\"vermelho\"},{\"nome\":\"Alana Kamilly\",\"idade\":33,\"data_nasc\":\"12/01/1987\",\"sexo\":\"Feminino\",\"signo\":\"Capric\\xc3\\xb3rnio\",\"cidade\":\"Boa Vista\",\"estado\":\"RR\",\"altura\":\"1,59\",\"peso\":88,\"tipo_sanguineo\":\"B+\",\"cor\":\"amarelo\"},{\"nome\":\"Bryan Kaique\",\"idade\":62,\"data_nasc\":\"19/06/1958\",\"sexo\":\"Masculino\",\"signo\":\"G\\xc3\\xaameos\",\"cidade\":\"Aracaju\",\"estado\":\"SE\",\"altura\":\"1,62\",\"peso\":110,\"tipo_sanguineo\":\"B-\",\"cor\":\"vermelho\"},{\"nome\":\"Benedito Renato\",\"idade\":33,\"data_nasc\":\"08/10/1987\",\"sexo\":\"Masculino\",\"signo\":\"Libra\",\"cidade\":\"Rio Grande\",\"estado\":\"RS\",\"altura\":\"1,88\",\"peso\":81,\"tipo_sanguineo\":\"B-\",\"cor\":\"laranja\"},{\"nome\":\"Kaique Isaac\",\"idade\":null,\"data_nasc\":\"16/12/1971\",\"sexo\":\"Masculino\",\"signo\":\"Sagit\\xc3\\xa1rio\",\"cidade\":\"Juazeiro do Norte\",\"estado\":\"CE\",\"altura\":\"1,89\",\"peso\":100,\"tipo_sanguineo\":\"O+\",\"cor\":\"preto\"},{\"nome\":\"Luiz Benjamin\",\"idade\":52,\"data_nasc\":\"03/07/1968\",\"sexo\":\"Masculino\",\"signo\":\"C\\xc3\\xa2ncer\",\"cidade\":\"Natal\",\"estado\":\"RN\",\"altura\":\"1,84\",\"peso\":77,\"tipo_sanguineo\":\"AB-\",\"cor\":\"verde\"},{\"nome\":\"F\\xc3\\xa1bio Roberto\",\"idade\":75,\"data_nasc\":\"24/12\",\"sexo\":\"Masculino\",\"signo\":\"Capric\\xc3\\xb3rnio\",\"cidade\":\"Londrina\",\"estado\":\"PR\",\"altura\":\"2,00\",\"peso\":56,\"tipo_sanguineo\":\"A+\",\"cor\":\"amarelo\"},{\"nome\":\"Evelyn Julia\",\"idade\":null,\"data_nasc\":\"18/01/1978\",\"sexo\":\"Feminino\",\"signo\":\"Capric\\xc3\\xb3rnio\",\"cidade\":\"Aracaju\",\"estado\":\"SE\",\"altura\":\"1,79\",\"peso\":51,\"tipo_sanguineo\":\"B+\",\"cor\":\"vermelho\"},{\"nome\":\"Ot\\xc3\\xa1vio Cl\\xc3\\xa1udio\",\"idade\":null,\"data_nasc\":\"04/01/1988\",\"sexo\":\"Masculino\",\"signo\":\"Capric\\xc3\\xb3rnio\",\"cidade\":\"Imperatriz\",\"estado\":\"MA\",\"altura\":\"1,72\",\"peso\":99,\"tipo_sanguineo\":\"AB+\",\"cor\":\"azul\"}]'\n"
     ]
    }
   ],
   "source": [
    "print(response.content) #imprime o conteúdo do retornado pela API"
   ]
  },
  {
   "cell_type": "code",
   "execution_count": 6,
   "metadata": {},
   "outputs": [
    {
     "data": {
      "text/plain": [
       "list"
      ]
     },
     "execution_count": 6,
     "metadata": {},
     "output_type": "execute_result"
    }
   ],
   "source": [
    "dados = json.loads(response.content) #serializa a resposta obtida\n",
    "type(dados)"
   ]
  },
  {
   "cell_type": "code",
   "execution_count": 27,
   "metadata": {},
   "outputs": [
    {
     "name": "stdout",
     "output_type": "stream",
     "text": [
      "60\n"
     ]
    }
   ],
   "source": [
    "print(len(dados))"
   ]
  },
  {
   "cell_type": "markdown",
   "metadata": {},
   "source": [
    "### Lista Pessoas"
   ]
  },
  {
   "cell_type": "code",
   "execution_count": 7,
   "metadata": {},
   "outputs": [
    {
     "name": "stdout",
     "output_type": "stream",
     "text": [
      "{'nome': 'Silvana Hadassa', 'idade': None, 'data_nasc': '12/06/1964', 'sexo': 'Feminino', 'signo': 'Gêmeos', 'cidade': 'Brasília', 'estado': 'DF', 'altura': '1,67', 'peso': 50, 'tipo_sanguineo': 'A+', 'cor': 'vermelho'}\n",
      "{'nome': 'Thales Kaique', 'idade': 27, 'data_nasc': '10/12/1993', 'sexo': 'Masculino', 'signo': 'Sagitário', 'cidade': 'Campo Grande', 'estado': 'MS', 'altura': '1,63', 'peso': 110, 'tipo_sanguineo': 'B+', 'cor': 'laranja'}\n",
      "{'nome': 'Henry Nathan', 'idade': 29, 'data_nasc': '21/09/1991', 'sexo': 'Masculino', 'signo': 'Virgem', 'cidade': 'Macapá', 'estado': 'AP', 'altura': '1,86', 'peso': 106, 'tipo_sanguineo': 'AB-', 'cor': 'verde'}\n",
      "{'nome': 'Lorenzo Vinicius', 'idade': 64, 'data_nasc': '22/10/1956', 'sexo': 'Masculino', 'signo': 'Libra', 'cidade': 'Contagem', 'estado': 'MG', 'altura': '1,87', 'peso': 100, 'tipo_sanguineo': 'O+', 'cor': 'vermelho'}\n",
      "{'nome': 'Cauã Henrique', 'idade': 50, 'data_nasc': '09/03', 'sexo': 'Masculino', 'signo': 'Peixes', 'cidade': 'Rondonópolis', 'estado': 'MT', 'altura': '1,74', 'peso': 83, 'tipo_sanguineo': 'O-', 'cor': 'vermelho'}\n",
      "{'nome': 'Francisco Thomas', 'idade': 19, 'data_nasc': '12/04/2001', 'sexo': 'Masculino', 'signo': 'Áries', 'cidade': 'Olinda', 'estado': 'PE', 'altura': '1,91', 'peso': 64, 'tipo_sanguineo': 'AB-', 'cor': 'preto'}\n",
      "{'nome': 'Bianca Flávia', 'idade': None, 'data_nasc': '23/01/1949', 'sexo': 'Feminino', 'signo': 'Aquário', 'cidade': 'Campo Grande', 'estado': 'MS', 'altura': '1,54', 'peso': 76, 'tipo_sanguineo': 'AB+', 'cor': 'vermelho'}\n",
      "{'nome': 'Arthur Filipe', 'idade': None, 'data_nasc': '23/12/1987', 'sexo': 'Masculino', 'signo': 'Capricórnio', 'cidade': 'Rio Branco', 'estado': 'AC', 'altura': '1,91', 'peso': 54, 'tipo_sanguineo': 'AB-', 'cor': 'roxo'}\n",
      "{'nome': 'Teresinha Jaqueline', 'idade': None, 'data_nasc': '20/10/1968', 'sexo': 'Feminino', 'signo': 'Libra', 'cidade': 'Araguaína', 'estado': 'TO', 'altura': '1,84', 'peso': 59, 'tipo_sanguineo': 'AB-', 'cor': 'vermelho'}\n",
      "{'nome': 'Manuel Luís', 'idade': 50, 'data_nasc': '12/05/1970', 'sexo': 'Masculino', 'signo': 'Touro', 'cidade': 'Manaus', 'estado': 'AM', 'altura': '1,81', 'peso': 85, 'tipo_sanguineo': 'A-', 'cor': 'roxo'}\n",
      "{'nome': 'Jorge Nicolas', 'idade': None, 'data_nasc': '11/07/1968', 'sexo': 'Masculino', 'signo': 'Câncer', 'cidade': 'Caruaru', 'estado': 'PE', 'altura': '1,87', 'peso': 54, 'tipo_sanguineo': 'AB-', 'cor': 'roxo'}\n",
      "{'nome': 'Ricardo Paulo', 'idade': 37, 'data_nasc': '16/12/1983', 'sexo': 'Masculino', 'signo': 'Sagitário', 'cidade': 'Porto Velho', 'estado': 'RO', 'altura': '1,86', 'peso': 52, 'tipo_sanguineo': 'B+', 'cor': 'vermelho'}\n",
      "{'nome': 'Gustavo Joaquim', 'idade': 61, 'data_nasc': '07/01/1959', 'sexo': 'Masculino', 'signo': 'Capricórnio', 'cidade': 'Macapá', 'estado': 'AP', 'altura': '1,62', 'peso': 106, 'tipo_sanguineo': 'A+', 'cor': 'verde'}\n",
      "{'nome': 'Isabel Yasmin', 'idade': 50, 'data_nasc': '22/06/1970', 'sexo': 'Feminino', 'signo': 'Câncer', 'cidade': 'Manaus', 'estado': 'AM', 'altura': '1,64', 'peso': 53, 'tipo_sanguineo': 'AB+', 'cor': 'azul'}\n",
      "{'nome': 'Daniel Lucca', 'idade': 21, 'data_nasc': '22/01', 'sexo': 'Masculino', 'signo': 'Aquário', 'cidade': 'Planaltina', 'estado': 'GO', 'altura': '1,84', 'peso': 105, 'tipo_sanguineo': 'A+', 'cor': 'verde'}\n",
      "{'nome': 'Benício Guilherme', 'idade': 37, 'data_nasc': '09/02/1983', 'sexo': 'Masculino', 'signo': 'Aquário', 'cidade': 'Rondonópolis', 'estado': 'MT', 'altura': '1,63', 'peso': 95, 'tipo_sanguineo': 'O-', 'cor': 'laranja'}\n",
      "{'nome': 'João Pedro', 'idade': None, 'data_nasc': '08/05/2002', 'sexo': 'Masculino', 'signo': 'Touro', 'cidade': 'Santa Cruz do Sul', 'estado': 'RS', 'altura': '1,95', 'peso': 57, 'tipo_sanguineo': 'B-', 'cor': 'preto'}\n",
      "{'nome': 'Sandra Milena', 'idade': 31, 'data_nasc': '16/07/1989', 'sexo': 'Feminino', 'signo': 'Câncer', 'cidade': 'Porto Alegre', 'estado': 'RS', 'altura': '1,70', 'peso': 84, 'tipo_sanguineo': 'AB-', 'cor': 'verde'}\n",
      "{'nome': 'Antonio Sérgio', 'idade': 49, 'data_nasc': '15/04', 'sexo': 'Masculino', 'signo': 'Áries', 'cidade': 'Carpina', 'estado': 'PE', 'altura': '1,65', 'peso': 71, 'tipo_sanguineo': 'O+', 'cor': 'azul'}\n",
      "{'nome': 'Arthur Sérgio', 'idade': 76, 'data_nasc': '20/01/1944', 'sexo': 'Masculino', 'signo': 'Capricórnio', 'cidade': 'Boa Vista', 'estado': 'RR', 'altura': '1,97', 'peso': 51, 'tipo_sanguineo': 'AB-', 'cor': 'preto'}\n",
      "{'nome': 'Larissa Esther', 'idade': 37, 'data_nasc': '10/03/1983', 'sexo': 'Feminino', 'signo': 'Peixes', 'cidade': 'Imperatriz', 'estado': 'MA', 'altura': '1,68', 'peso': 69, 'tipo_sanguineo': 'AB-', 'cor': 'verde'}\n",
      "{'nome': 'Thales Bento', 'idade': None, 'data_nasc': '18/04/1942', 'sexo': 'Masculino', 'signo': 'Áries', 'cidade': 'São Luís', 'estado': 'MA', 'altura': '1,95', 'peso': 64, 'tipo_sanguineo': 'A+', 'cor': 'vermelho'}\n",
      "{'nome': 'Breno Rafael', 'idade': 58, 'data_nasc': '09/01/1962', 'sexo': 'Masculino', 'signo': 'Capricórnio', 'cidade': 'Cacoal', 'estado': 'RO', 'altura': '1,94', 'peso': 108, 'tipo_sanguineo': 'A+', 'cor': 'preto'}\n",
      "{'nome': 'Tiago Gael', 'idade': 24, 'data_nasc': '17/07/1996', 'sexo': 'Masculino', 'signo': 'Câncer', 'cidade': 'Cariacica', 'estado': 'ES', 'altura': '1,68', 'peso': 58, 'tipo_sanguineo': 'A+', 'cor': 'azul'}\n",
      "{'nome': 'Carolina Márcia', 'idade': None, 'data_nasc': '25/11/1959', 'sexo': 'Feminino', 'signo': 'Sagitário', 'cidade': 'Parnaíba', 'estado': 'PI', 'altura': '1,50', 'peso': 45, 'tipo_sanguineo': 'B-', 'cor': 'preto'}\n",
      "{'nome': 'Levi Sérgio', 'idade': None, 'data_nasc': '21/08/1949', 'sexo': 'Masculino', 'signo': 'Leão', 'cidade': 'Santana', 'estado': 'AP', 'altura': '1,83', 'peso': 68, 'tipo_sanguineo': 'AB-', 'cor': 'vermelho'}\n",
      "{'nome': 'Juan Theo', 'idade': 39, 'data_nasc': '09/11/1981', 'sexo': 'Masculino', 'signo': 'Escorpião', 'cidade': 'Ponta Grossa', 'estado': 'PR', 'altura': '1,67', 'peso': 77, 'tipo_sanguineo': 'B-', 'cor': 'verde'}\n",
      "{'nome': 'Rafael Ryan', 'idade': 70, 'data_nasc': '10/01', 'sexo': 'Masculino', 'signo': 'Capricórnio', 'cidade': 'Arapiraca', 'estado': 'AL', 'altura': '1,98', 'peso': 85, 'tipo_sanguineo': 'O-', 'cor': 'laranja'}\n",
      "{'nome': 'Malu Emilly', 'idade': 70, 'data_nasc': '04/07/1950', 'sexo': 'Feminino', 'signo': 'Câncer', 'cidade': 'Águas Lindas de Goiás', 'estado': 'GO', 'altura': '1,62', 'peso': 48, 'tipo_sanguineo': 'B-', 'cor': 'vermelho'}\n",
      "{'nome': 'Alice Bárbara', 'idade': 78, 'data_nasc': '09/10/1942', 'sexo': 'Feminino', 'signo': 'Libra', 'cidade': 'Cianorte', 'estado': 'PR', 'altura': '1,78', 'peso': 80, 'tipo_sanguineo': 'AB+', 'cor': 'laranja'}\n",
      "{'nome': 'Martin Edson', 'idade': 35, 'data_nasc': '15/01', 'sexo': 'Masculino', 'signo': 'Capricórnio', 'cidade': 'Aracaju', 'estado': 'SE', 'altura': '1,60', 'peso': 59, 'tipo_sanguineo': 'A-', 'cor': 'laranja'}\n",
      "{'nome': 'Danilo Jorge', 'idade': 38, 'data_nasc': '25/08/1982', 'sexo': 'Masculino', 'signo': 'Virgem', 'cidade': 'Rondonópolis', 'estado': 'MT', 'altura': '1,79', 'peso': 87, 'tipo_sanguineo': 'AB+', 'cor': 'preto'}\n",
      "{'nome': 'Isadora Sueli', 'idade': None, 'data_nasc': '03/07/1999', 'sexo': 'Feminino', 'signo': 'Câncer', 'cidade': 'Belém', 'estado': 'PA', 'altura': '1,59', 'peso': 88, 'tipo_sanguineo': 'AB+', 'cor': 'verde'}\n",
      "{'nome': 'Maya Tatiane', 'idade': 27, 'data_nasc': '27/12/1993', 'sexo': 'Feminino', 'signo': 'Capricórnio', 'cidade': 'Aracaju', 'estado': 'SE', 'altura': '1,83', 'peso': 89, 'tipo_sanguineo': 'AB-', 'cor': 'roxo'}\n",
      "{'nome': 'Bruno Manuel', 'idade': 57, 'data_nasc': '14/09', 'sexo': 'Masculino', 'signo': 'Virgem', 'cidade': 'Jataí', 'estado': 'GO', 'altura': '1,60', 'peso': 92, 'tipo_sanguineo': 'O+', 'cor': 'azul'}\n",
      "{'nome': 'Gabriel Luan', 'idade': 66, 'data_nasc': '20/12/1954', 'sexo': 'Masculino', 'signo': 'Sagitário', 'cidade': 'Boa Vista', 'estado': 'RR', 'altura': '1,71', 'peso': 93, 'tipo_sanguineo': 'AB-', 'cor': 'vermelho'}\n",
      "{'nome': 'Henry Elias', 'idade': 57, 'data_nasc': '26/04/1963', 'sexo': 'Masculino', 'signo': 'Touro', 'cidade': 'Várzea Grande', 'estado': 'MT', 'altura': '1,83', 'peso': 103, 'tipo_sanguineo': 'AB+', 'cor': 'vermelho'}\n",
      "{'nome': 'Marcela Laura', 'idade': 56, 'data_nasc': '17/11/1964', 'sexo': 'Feminino', 'signo': 'Escorpião', 'cidade': 'Maceió', 'estado': 'AL', 'altura': '1,52', 'peso': 79, 'tipo_sanguineo': 'A-', 'cor': 'verde'}\n",
      "{'nome': 'Amanda Luna', 'idade': 59, 'data_nasc': '22/12/1961', 'sexo': 'Feminino', 'signo': 'Capricórnio', 'cidade': 'Salvador', 'estado': 'BA', 'altura': '1,67', 'peso': 55, 'tipo_sanguineo': 'O-', 'cor': 'amarelo'}\n",
      "{'nome': 'Caio Ricardo', 'idade': None, 'data_nasc': '07/09/1973', 'sexo': 'Masculino', 'signo': 'Virgem', 'cidade': 'Boa Vista', 'estado': 'RR', 'altura': '1,61', 'peso': 97, 'tipo_sanguineo': 'A-', 'cor': 'roxo'}\n",
      "{'nome': 'Mariane Sabrina', 'idade': 52, 'data_nasc': '27/02/1968', 'sexo': 'Feminino', 'signo': 'Peixes', 'cidade': 'Macaé', 'estado': 'RJ', 'altura': '1,67', 'peso': 70, 'tipo_sanguineo': 'A+', 'cor': 'vermelho'}\n",
      "{'nome': 'Juliana Vanessa', 'idade': 37, 'data_nasc': '27/04/1983', 'sexo': 'Feminino', 'signo': 'Touro', 'cidade': 'Manaus', 'estado': 'AM', 'altura': '1,51', 'peso': 67, 'tipo_sanguineo': 'AB-', 'cor': 'roxo'}\n",
      "{'nome': 'Milena Rosângela', 'idade': None, 'data_nasc': '11/02/1989', 'sexo': 'Feminino', 'signo': 'Aquário', 'cidade': 'Macapá', 'estado': 'AP', 'altura': '1,58', 'peso': 88, 'tipo_sanguineo': 'B+', 'cor': 'azul'}\n",
      "{'nome': 'Osvaldo Augusto', 'idade': 41, 'data_nasc': '15/04/1979', 'sexo': 'Masculino', 'signo': 'Áries', 'cidade': 'Cuiabá', 'estado': 'MT', 'altura': '1,79', 'peso': 107, 'tipo_sanguineo': 'A-', 'cor': 'preto'}\n",
      "{'nome': 'Nathan Igor', 'idade': 57, 'data_nasc': '17/10/1963', 'sexo': 'Masculino', 'signo': 'Libra', 'cidade': 'Santa Luzia do Itanhy', 'estado': 'SE', 'altura': '1,86', 'peso': 91, 'tipo_sanguineo': 'B+', 'cor': 'vermelho'}\n",
      "{'nome': 'Letícia Patrícia', 'idade': 76, 'data_nasc': '07/11/1944', 'sexo': 'Feminino', 'signo': 'Escorpião', 'cidade': 'João Pessoa', 'estado': 'PB', 'altura': '1,62', 'peso': 64, 'tipo_sanguineo': 'AB-', 'cor': 'laranja'}\n",
      "{'nome': 'Sophia Andrea', 'idade': 35, 'data_nasc': '23/07/1985', 'sexo': 'Feminino', 'signo': 'Leão', 'cidade': 'Manaus', 'estado': 'AM', 'altura': '1,63', 'peso': 47, 'tipo_sanguineo': 'AB+', 'cor': 'laranja'}\n",
      "{'nome': 'Aurora Lúcia', 'idade': 72, 'data_nasc': '19/01/1948', 'sexo': 'Feminino', 'signo': 'Capricórnio', 'cidade': 'Parnaíba', 'estado': 'PI', 'altura': '1,57', 'peso': 73, 'tipo_sanguineo': 'A-', 'cor': 'amarelo'}\n",
      "{'nome': 'Bruna Teresinha', 'idade': 42, 'data_nasc': '25/04/1978', 'sexo': 'Feminino', 'signo': 'Touro', 'cidade': 'Brusque', 'estado': 'SC', 'altura': '1,70', 'peso': 77, 'tipo_sanguineo': 'A-', 'cor': 'verde'}\n",
      "{'nome': 'Erick Victor', 'idade': 52, 'data_nasc': '08/10', 'sexo': 'Masculino', 'signo': 'Libra', 'cidade': 'Salvador', 'estado': 'BA', 'altura': '1,68', 'peso': 104, 'tipo_sanguineo': 'B-', 'cor': 'laranja'}\n",
      "{'nome': 'Gabrielly Stella', 'idade': 39, 'data_nasc': '16/10/1981', 'sexo': 'Feminino', 'signo': 'Libra', 'cidade': 'Campo Grande', 'estado': 'MS', 'altura': '1,77', 'peso': 70, 'tipo_sanguineo': 'A-', 'cor': 'amarelo'}\n",
      "{'nome': 'Osvaldo Vitor', 'idade': 46, 'data_nasc': '06/05/1974', 'sexo': 'Masculino', 'signo': 'Touro', 'cidade': 'Manaus', 'estado': 'AM', 'altura': '1,67', 'peso': 74, 'tipo_sanguineo': 'O-', 'cor': 'vermelho'}\n",
      "{'nome': 'Alana Kamilly', 'idade': 33, 'data_nasc': '12/01/1987', 'sexo': 'Feminino', 'signo': 'Capricórnio', 'cidade': 'Boa Vista', 'estado': 'RR', 'altura': '1,59', 'peso': 88, 'tipo_sanguineo': 'B+', 'cor': 'amarelo'}\n",
      "{'nome': 'Bryan Kaique', 'idade': 62, 'data_nasc': '19/06/1958', 'sexo': 'Masculino', 'signo': 'Gêmeos', 'cidade': 'Aracaju', 'estado': 'SE', 'altura': '1,62', 'peso': 110, 'tipo_sanguineo': 'B-', 'cor': 'vermelho'}\n",
      "{'nome': 'Benedito Renato', 'idade': 33, 'data_nasc': '08/10/1987', 'sexo': 'Masculino', 'signo': 'Libra', 'cidade': 'Rio Grande', 'estado': 'RS', 'altura': '1,88', 'peso': 81, 'tipo_sanguineo': 'B-', 'cor': 'laranja'}\n",
      "{'nome': 'Kaique Isaac', 'idade': None, 'data_nasc': '16/12/1971', 'sexo': 'Masculino', 'signo': 'Sagitário', 'cidade': 'Juazeiro do Norte', 'estado': 'CE', 'altura': '1,89', 'peso': 100, 'tipo_sanguineo': 'O+', 'cor': 'preto'}\n",
      "{'nome': 'Luiz Benjamin', 'idade': 52, 'data_nasc': '03/07/1968', 'sexo': 'Masculino', 'signo': 'Câncer', 'cidade': 'Natal', 'estado': 'RN', 'altura': '1,84', 'peso': 77, 'tipo_sanguineo': 'AB-', 'cor': 'verde'}\n",
      "{'nome': 'Fábio Roberto', 'idade': 75, 'data_nasc': '24/12', 'sexo': 'Masculino', 'signo': 'Capricórnio', 'cidade': 'Londrina', 'estado': 'PR', 'altura': '2,00', 'peso': 56, 'tipo_sanguineo': 'A+', 'cor': 'amarelo'}\n",
      "{'nome': 'Evelyn Julia', 'idade': None, 'data_nasc': '18/01/1978', 'sexo': 'Feminino', 'signo': 'Capricórnio', 'cidade': 'Aracaju', 'estado': 'SE', 'altura': '1,79', 'peso': 51, 'tipo_sanguineo': 'B+', 'cor': 'vermelho'}\n",
      "{'nome': 'Otávio Cláudio', 'idade': None, 'data_nasc': '04/01/1988', 'sexo': 'Masculino', 'signo': 'Capricórnio', 'cidade': 'Imperatriz', 'estado': 'MA', 'altura': '1,72', 'peso': 99, 'tipo_sanguineo': 'AB+', 'cor': 'azul'}\n"
     ]
    }
   ],
   "source": [
    "for pessoas in dados: #percorre o JSON \n",
    "    print(pessoas)"
   ]
  },
  {
   "cell_type": "code",
   "execution_count": 46,
   "metadata": {},
   "outputs": [
    {
     "name": "stdout",
     "output_type": "stream",
     "text": [
      "{'nome': 'Silvana Hadassa', 'idade': None, 'data_nasc': '12/06/1964', 'sexo': 'Feminino', 'signo': 'Gêmeos', 'cidade': 'Brasília', 'estado': 'DF', 'altura': '1,67', 'peso': 50, 'tipo_sanguineo': 'A+', 'cor': 'vermelho'}\n",
      "Silvana Hadassa\n"
     ]
    }
   ],
   "source": [
    "print(dados[0])\n",
    "pessoa = dados[0]\n",
    "print(pessoa[\"nome\"])\n"
   ]
  },
  {
   "cell_type": "code",
   "execution_count": 8,
   "metadata": {},
   "outputs": [
    {
     "name": "stdout",
     "output_type": "stream",
     "text": [
      "DF\n",
      "MS\n",
      "AP\n",
      "MG\n",
      "MT\n",
      "PE\n",
      "MS\n",
      "AC\n",
      "TO\n",
      "AM\n",
      "PE\n",
      "RO\n",
      "AP\n",
      "AM\n",
      "GO\n",
      "MT\n",
      "RS\n",
      "RS\n",
      "PE\n",
      "RR\n",
      "MA\n",
      "MA\n",
      "RO\n",
      "ES\n",
      "PI\n",
      "AP\n",
      "PR\n",
      "AL\n",
      "GO\n",
      "PR\n",
      "SE\n",
      "MT\n",
      "PA\n",
      "SE\n",
      "GO\n",
      "RR\n",
      "MT\n",
      "AL\n",
      "BA\n",
      "RR\n",
      "RJ\n",
      "AM\n",
      "AP\n",
      "MT\n",
      "SE\n",
      "PB\n",
      "AM\n",
      "PI\n",
      "SC\n",
      "BA\n",
      "MS\n",
      "AM\n",
      "RR\n",
      "SE\n",
      "RS\n",
      "CE\n",
      "RN\n",
      "PR\n",
      "SE\n",
      "MA\n"
     ]
    }
   ],
   "source": [
    "for pessoa in dados:\n",
    "   print(pessoa[\"estado\"])"
   ]
  },
  {
   "cell_type": "markdown",
   "metadata": {},
   "source": [
    "# Coleta os dados para armazenar no Mysql"
   ]
  },
  {
   "cell_type": "code",
   "execution_count": 9,
   "metadata": {},
   "outputs": [],
   "source": [
    "import mysql.connector"
   ]
  },
  {
   "cell_type": "code",
   "execution_count": 10,
   "metadata": {},
   "outputs": [
    {
     "name": "stdout",
     "output_type": "stream",
     "text": [
      "<mysql.connector.connection_cext.CMySQLConnection object at 0x0000000005CFA5B0>\n"
     ]
    }
   ],
   "source": [
    "mydb = mysql.connector.connect(\n",
    "    host='localhost',\n",
    "    user='root',\n",
    "    password='igti',\n",
    "    database='db_desafio'\n",
    ")\n",
    "\n",
    "print(mydb)\n",
    "\n",
    "mycursor = mydb.cursor()"
   ]
  },
  {
   "cell_type": "code",
   "execution_count": 11,
   "metadata": {
    "scrolled": true
   },
   "outputs": [
    {
     "name": "stdout",
     "output_type": "stream",
     "text": [
      "('tb_cidade',)\n",
      "('tb_cor',)\n",
      "('tb_estado',)\n",
      "('tb_pessoa',)\n",
      "('tb_tiposanguineo',)\n"
     ]
    }
   ],
   "source": [
    "mycursor.execute(\"SHOW TABLES\")\n",
    "\n",
    "for tb in mycursor:\n",
    "    print(tb)"
   ]
  },
  {
   "cell_type": "markdown",
   "metadata": {},
   "source": [
    "#### Grava Estados "
   ]
  },
  {
   "cell_type": "code",
   "execution_count": 63,
   "metadata": {},
   "outputs": [
    {
     "name": "stdout",
     "output_type": "stream",
     "text": [
      "DF\n",
      "MS\n",
      "AP\n",
      "MG\n",
      "MT\n",
      "PE\n",
      "MS\n",
      "AC\n",
      "TO\n",
      "AM\n",
      "PE\n",
      "RO\n",
      "AP\n",
      "AM\n",
      "GO\n",
      "MT\n",
      "RS\n",
      "RS\n",
      "PE\n",
      "RR\n",
      "MA\n",
      "MA\n",
      "RO\n",
      "ES\n",
      "PI\n",
      "AP\n",
      "PR\n",
      "AL\n",
      "GO\n",
      "PR\n",
      "SE\n",
      "MT\n",
      "PA\n",
      "SE\n",
      "GO\n",
      "RR\n",
      "MT\n",
      "AL\n",
      "BA\n",
      "RR\n",
      "RJ\n",
      "AM\n",
      "AP\n",
      "MT\n",
      "SE\n",
      "PB\n",
      "AM\n",
      "PI\n",
      "SC\n",
      "BA\n",
      "MS\n",
      "AM\n",
      "RR\n",
      "SE\n",
      "RS\n",
      "CE\n",
      "RN\n",
      "PR\n",
      "SE\n",
      "MA\n",
      "0 registro(s) inserido(s).\n"
     ]
    }
   ],
   "source": [
    "for pessoa in dados:\n",
    "   #print(pessoa['estado'])\n",
    "\n",
    "   query = \"INSERT INTO db_desafio.tb_estado (sigla) SELECT * FROM (SELECT '%s') AS tmp \" % pessoa[\"estado\"]\n",
    "   query += \"WHERE NOT EXISTS (SELECT sigla FROM db_desafio.tb_estado WHERE sigla = '%s')\"  % pessoa[\"estado\"]\n",
    "\n",
    "   #print(query)\n",
    "   mycursor.execute(query)\n",
    "\n",
    "   #Fazer a confirmação da inserção\n",
    "   mydb.commit()"
   ]
  },
  {
   "cell_type": "markdown",
   "metadata": {},
   "source": [
    "#### Grava Cor"
   ]
  },
  {
   "cell_type": "code",
   "execution_count": 68,
   "metadata": {},
   "outputs": [
    {
     "name": "stdout",
     "output_type": "stream",
     "text": [
      "vermelho\n",
      "laranja\n",
      "verde\n",
      "vermelho\n",
      "vermelho\n",
      "preto\n",
      "vermelho\n",
      "roxo\n",
      "vermelho\n",
      "roxo\n",
      "roxo\n",
      "vermelho\n",
      "verde\n",
      "azul\n",
      "verde\n",
      "laranja\n",
      "preto\n",
      "verde\n",
      "azul\n",
      "preto\n",
      "verde\n",
      "vermelho\n",
      "preto\n",
      "azul\n",
      "preto\n",
      "vermelho\n",
      "verde\n",
      "laranja\n",
      "vermelho\n",
      "laranja\n",
      "laranja\n",
      "preto\n",
      "verde\n",
      "roxo\n",
      "azul\n",
      "vermelho\n",
      "vermelho\n",
      "verde\n",
      "amarelo\n",
      "roxo\n",
      "vermelho\n",
      "roxo\n",
      "azul\n",
      "preto\n",
      "vermelho\n",
      "laranja\n",
      "laranja\n",
      "amarelo\n",
      "verde\n",
      "laranja\n",
      "amarelo\n",
      "vermelho\n",
      "amarelo\n",
      "vermelho\n",
      "laranja\n",
      "preto\n",
      "verde\n",
      "amarelo\n",
      "vermelho\n",
      "azul\n"
     ]
    }
   ],
   "source": [
    "for pessoa in dados:\n",
    "   #print(pessoa['cor'])\n",
    "\n",
    "   query = \"INSERT INTO db_desafio.tb_cor (cor) SELECT * FROM (SELECT '%s') AS tmp \" % pessoa[\"cor\"]\n",
    "   query += \"WHERE NOT EXISTS (SELECT cor FROM db_desafio.tb_cor WHERE cor = '%s')\"  % pessoa[\"cor\"]\n",
    "\n",
    "   #print(query)\n",
    "   mycursor.execute(query)\n",
    "\n",
    "   #Fazer a confirmação da inserção\n",
    "   mydb.commit()"
   ]
  },
  {
   "cell_type": "code",
   "execution_count": 69,
   "metadata": {},
   "outputs": [],
   "source": [
    "#### Grava Tipo sanguìneo"
   ]
  },
  {
   "cell_type": "code",
   "execution_count": 73,
   "metadata": {},
   "outputs": [
    {
     "name": "stdout",
     "output_type": "stream",
     "text": [
      "A+\n",
      "B+\n",
      "AB-\n",
      "O+\n",
      "O-\n",
      "AB-\n",
      "AB+\n",
      "AB-\n",
      "AB-\n",
      "A-\n",
      "AB-\n",
      "B+\n",
      "A+\n",
      "AB+\n",
      "A+\n",
      "O-\n",
      "B-\n",
      "AB-\n",
      "O+\n",
      "AB-\n",
      "AB-\n",
      "A+\n",
      "A+\n",
      "A+\n",
      "B-\n",
      "AB-\n",
      "B-\n",
      "O-\n",
      "B-\n",
      "AB+\n",
      "A-\n",
      "AB+\n",
      "AB+\n",
      "AB-\n",
      "O+\n",
      "AB-\n",
      "AB+\n",
      "A-\n",
      "O-\n",
      "A-\n",
      "A+\n",
      "AB-\n",
      "B+\n",
      "A-\n",
      "B+\n",
      "AB-\n",
      "AB+\n",
      "A-\n",
      "A-\n",
      "B-\n",
      "A-\n",
      "O-\n",
      "B+\n",
      "B-\n",
      "B-\n",
      "O+\n",
      "AB-\n",
      "A+\n",
      "B+\n",
      "AB+\n"
     ]
    }
   ],
   "source": [
    "for pessoa in dados:\n",
    "   print(pessoa['tipo_sanguineo'])\n",
    "\n",
    "   query = \"INSERT INTO db_desafio.tb_tiposanguineo (tipo) SELECT * FROM (SELECT '%s') AS tmp \" % pessoa[\"tipo_sanguineo\"]\n",
    "   query += \"WHERE NOT EXISTS (SELECT tipo FROM db_desafio.tb_tiposanguineo WHERE tipo = '%s')\"  % pessoa[\"tipo_sanguineo\"]\n",
    "\n",
    "   #print(query)\n",
    "   mycursor.execute(query)\n",
    "\n",
    "   #Fazer a confirmação da inserção\n",
    "   mydb.commit()"
   ]
  },
  {
   "cell_type": "code",
   "execution_count": 74,
   "metadata": {},
   "outputs": [],
   "source": [
    "mydb.close() #Fechar o banco de dados"
   ]
  },
  {
   "cell_type": "markdown",
   "metadata": {},
   "source": [
    "#### Grava Cidades"
   ]
  },
  {
   "cell_type": "code",
   "execution_count": 31,
   "metadata": {},
   "outputs": [
    {
     "name": "stdout",
     "output_type": "stream",
     "text": [
      "INSERT INTO tb_cidade(nome, id_estado) SELECT * FROM (SELECT 'Brasília', (SELECT id_estado FROM tb_estado WHERE sigla = 'DF')) AS tmp WHERE NOT EXISTS (SELECT nome FROM db_desafio.tb_cidade WHERE nome = 'Brasília')\n",
      "INSERT INTO tb_cidade(nome, id_estado) SELECT * FROM (SELECT 'Campo Grande', (SELECT id_estado FROM tb_estado WHERE sigla = 'MS')) AS tmp WHERE NOT EXISTS (SELECT nome FROM db_desafio.tb_cidade WHERE nome = 'Campo Grande')\n",
      "INSERT INTO tb_cidade(nome, id_estado) SELECT * FROM (SELECT 'Macapá', (SELECT id_estado FROM tb_estado WHERE sigla = 'AP')) AS tmp WHERE NOT EXISTS (SELECT nome FROM db_desafio.tb_cidade WHERE nome = 'Macapá')\n",
      "INSERT INTO tb_cidade(nome, id_estado) SELECT * FROM (SELECT 'Contagem', (SELECT id_estado FROM tb_estado WHERE sigla = 'MG')) AS tmp WHERE NOT EXISTS (SELECT nome FROM db_desafio.tb_cidade WHERE nome = 'Contagem')\n",
      "INSERT INTO tb_cidade(nome, id_estado) SELECT * FROM (SELECT 'Rondonópolis', (SELECT id_estado FROM tb_estado WHERE sigla = 'MT')) AS tmp WHERE NOT EXISTS (SELECT nome FROM db_desafio.tb_cidade WHERE nome = 'Rondonópolis')\n",
      "INSERT INTO tb_cidade(nome, id_estado) SELECT * FROM (SELECT 'Olinda', (SELECT id_estado FROM tb_estado WHERE sigla = 'PE')) AS tmp WHERE NOT EXISTS (SELECT nome FROM db_desafio.tb_cidade WHERE nome = 'Olinda')\n",
      "INSERT INTO tb_cidade(nome, id_estado) SELECT * FROM (SELECT 'Campo Grande', (SELECT id_estado FROM tb_estado WHERE sigla = 'MS')) AS tmp WHERE NOT EXISTS (SELECT nome FROM db_desafio.tb_cidade WHERE nome = 'Campo Grande')\n",
      "INSERT INTO tb_cidade(nome, id_estado) SELECT * FROM (SELECT 'Rio Branco', (SELECT id_estado FROM tb_estado WHERE sigla = 'AC')) AS tmp WHERE NOT EXISTS (SELECT nome FROM db_desafio.tb_cidade WHERE nome = 'Rio Branco')\n",
      "INSERT INTO tb_cidade(nome, id_estado) SELECT * FROM (SELECT 'Araguaína', (SELECT id_estado FROM tb_estado WHERE sigla = 'TO')) AS tmp WHERE NOT EXISTS (SELECT nome FROM db_desafio.tb_cidade WHERE nome = 'Araguaína')\n",
      "INSERT INTO tb_cidade(nome, id_estado) SELECT * FROM (SELECT 'Manaus', (SELECT id_estado FROM tb_estado WHERE sigla = 'AM')) AS tmp WHERE NOT EXISTS (SELECT nome FROM db_desafio.tb_cidade WHERE nome = 'Manaus')\n",
      "INSERT INTO tb_cidade(nome, id_estado) SELECT * FROM (SELECT 'Caruaru', (SELECT id_estado FROM tb_estado WHERE sigla = 'PE')) AS tmp WHERE NOT EXISTS (SELECT nome FROM db_desafio.tb_cidade WHERE nome = 'Caruaru')\n",
      "INSERT INTO tb_cidade(nome, id_estado) SELECT * FROM (SELECT 'Porto Velho', (SELECT id_estado FROM tb_estado WHERE sigla = 'RO')) AS tmp WHERE NOT EXISTS (SELECT nome FROM db_desafio.tb_cidade WHERE nome = 'Porto Velho')\n",
      "INSERT INTO tb_cidade(nome, id_estado) SELECT * FROM (SELECT 'Macapá', (SELECT id_estado FROM tb_estado WHERE sigla = 'AP')) AS tmp WHERE NOT EXISTS (SELECT nome FROM db_desafio.tb_cidade WHERE nome = 'Macapá')\n",
      "INSERT INTO tb_cidade(nome, id_estado) SELECT * FROM (SELECT 'Manaus', (SELECT id_estado FROM tb_estado WHERE sigla = 'AM')) AS tmp WHERE NOT EXISTS (SELECT nome FROM db_desafio.tb_cidade WHERE nome = 'Manaus')\n",
      "INSERT INTO tb_cidade(nome, id_estado) SELECT * FROM (SELECT 'Planaltina', (SELECT id_estado FROM tb_estado WHERE sigla = 'GO')) AS tmp WHERE NOT EXISTS (SELECT nome FROM db_desafio.tb_cidade WHERE nome = 'Planaltina')\n",
      "INSERT INTO tb_cidade(nome, id_estado) SELECT * FROM (SELECT 'Rondonópolis', (SELECT id_estado FROM tb_estado WHERE sigla = 'MT')) AS tmp WHERE NOT EXISTS (SELECT nome FROM db_desafio.tb_cidade WHERE nome = 'Rondonópolis')\n",
      "INSERT INTO tb_cidade(nome, id_estado) SELECT * FROM (SELECT 'Santa Cruz do Sul', (SELECT id_estado FROM tb_estado WHERE sigla = 'RS')) AS tmp WHERE NOT EXISTS (SELECT nome FROM db_desafio.tb_cidade WHERE nome = 'Santa Cruz do Sul')\n",
      "INSERT INTO tb_cidade(nome, id_estado) SELECT * FROM (SELECT 'Porto Alegre', (SELECT id_estado FROM tb_estado WHERE sigla = 'RS')) AS tmp WHERE NOT EXISTS (SELECT nome FROM db_desafio.tb_cidade WHERE nome = 'Porto Alegre')\n",
      "INSERT INTO tb_cidade(nome, id_estado) SELECT * FROM (SELECT 'Carpina', (SELECT id_estado FROM tb_estado WHERE sigla = 'PE')) AS tmp WHERE NOT EXISTS (SELECT nome FROM db_desafio.tb_cidade WHERE nome = 'Carpina')\n",
      "INSERT INTO tb_cidade(nome, id_estado) SELECT * FROM (SELECT 'Boa Vista', (SELECT id_estado FROM tb_estado WHERE sigla = 'RR')) AS tmp WHERE NOT EXISTS (SELECT nome FROM db_desafio.tb_cidade WHERE nome = 'Boa Vista')\n",
      "INSERT INTO tb_cidade(nome, id_estado) SELECT * FROM (SELECT 'Imperatriz', (SELECT id_estado FROM tb_estado WHERE sigla = 'MA')) AS tmp WHERE NOT EXISTS (SELECT nome FROM db_desafio.tb_cidade WHERE nome = 'Imperatriz')\n",
      "INSERT INTO tb_cidade(nome, id_estado) SELECT * FROM (SELECT 'São Luís', (SELECT id_estado FROM tb_estado WHERE sigla = 'MA')) AS tmp WHERE NOT EXISTS (SELECT nome FROM db_desafio.tb_cidade WHERE nome = 'São Luís')\n",
      "INSERT INTO tb_cidade(nome, id_estado) SELECT * FROM (SELECT 'Cacoal', (SELECT id_estado FROM tb_estado WHERE sigla = 'RO')) AS tmp WHERE NOT EXISTS (SELECT nome FROM db_desafio.tb_cidade WHERE nome = 'Cacoal')\n",
      "INSERT INTO tb_cidade(nome, id_estado) SELECT * FROM (SELECT 'Cariacica', (SELECT id_estado FROM tb_estado WHERE sigla = 'ES')) AS tmp WHERE NOT EXISTS (SELECT nome FROM db_desafio.tb_cidade WHERE nome = 'Cariacica')\n",
      "INSERT INTO tb_cidade(nome, id_estado) SELECT * FROM (SELECT 'Parnaíba', (SELECT id_estado FROM tb_estado WHERE sigla = 'PI')) AS tmp WHERE NOT EXISTS (SELECT nome FROM db_desafio.tb_cidade WHERE nome = 'Parnaíba')\n",
      "INSERT INTO tb_cidade(nome, id_estado) SELECT * FROM (SELECT 'Santana', (SELECT id_estado FROM tb_estado WHERE sigla = 'AP')) AS tmp WHERE NOT EXISTS (SELECT nome FROM db_desafio.tb_cidade WHERE nome = 'Santana')\n",
      "INSERT INTO tb_cidade(nome, id_estado) SELECT * FROM (SELECT 'Ponta Grossa', (SELECT id_estado FROM tb_estado WHERE sigla = 'PR')) AS tmp WHERE NOT EXISTS (SELECT nome FROM db_desafio.tb_cidade WHERE nome = 'Ponta Grossa')\n",
      "INSERT INTO tb_cidade(nome, id_estado) SELECT * FROM (SELECT 'Arapiraca', (SELECT id_estado FROM tb_estado WHERE sigla = 'AL')) AS tmp WHERE NOT EXISTS (SELECT nome FROM db_desafio.tb_cidade WHERE nome = 'Arapiraca')\n",
      "INSERT INTO tb_cidade(nome, id_estado) SELECT * FROM (SELECT 'Águas Lindas de Goiás', (SELECT id_estado FROM tb_estado WHERE sigla = 'GO')) AS tmp WHERE NOT EXISTS (SELECT nome FROM db_desafio.tb_cidade WHERE nome = 'Águas Lindas de Goiás')\n",
      "INSERT INTO tb_cidade(nome, id_estado) SELECT * FROM (SELECT 'Cianorte', (SELECT id_estado FROM tb_estado WHERE sigla = 'PR')) AS tmp WHERE NOT EXISTS (SELECT nome FROM db_desafio.tb_cidade WHERE nome = 'Cianorte')\n",
      "INSERT INTO tb_cidade(nome, id_estado) SELECT * FROM (SELECT 'Aracaju', (SELECT id_estado FROM tb_estado WHERE sigla = 'SE')) AS tmp WHERE NOT EXISTS (SELECT nome FROM db_desafio.tb_cidade WHERE nome = 'Aracaju')\n",
      "INSERT INTO tb_cidade(nome, id_estado) SELECT * FROM (SELECT 'Rondonópolis', (SELECT id_estado FROM tb_estado WHERE sigla = 'MT')) AS tmp WHERE NOT EXISTS (SELECT nome FROM db_desafio.tb_cidade WHERE nome = 'Rondonópolis')\n",
      "INSERT INTO tb_cidade(nome, id_estado) SELECT * FROM (SELECT 'Belém', (SELECT id_estado FROM tb_estado WHERE sigla = 'PA')) AS tmp WHERE NOT EXISTS (SELECT nome FROM db_desafio.tb_cidade WHERE nome = 'Belém')\n",
      "INSERT INTO tb_cidade(nome, id_estado) SELECT * FROM (SELECT 'Aracaju', (SELECT id_estado FROM tb_estado WHERE sigla = 'SE')) AS tmp WHERE NOT EXISTS (SELECT nome FROM db_desafio.tb_cidade WHERE nome = 'Aracaju')\n",
      "INSERT INTO tb_cidade(nome, id_estado) SELECT * FROM (SELECT 'Jataí', (SELECT id_estado FROM tb_estado WHERE sigla = 'GO')) AS tmp WHERE NOT EXISTS (SELECT nome FROM db_desafio.tb_cidade WHERE nome = 'Jataí')\n",
      "INSERT INTO tb_cidade(nome, id_estado) SELECT * FROM (SELECT 'Boa Vista', (SELECT id_estado FROM tb_estado WHERE sigla = 'RR')) AS tmp WHERE NOT EXISTS (SELECT nome FROM db_desafio.tb_cidade WHERE nome = 'Boa Vista')\n",
      "INSERT INTO tb_cidade(nome, id_estado) SELECT * FROM (SELECT 'Várzea Grande', (SELECT id_estado FROM tb_estado WHERE sigla = 'MT')) AS tmp WHERE NOT EXISTS (SELECT nome FROM db_desafio.tb_cidade WHERE nome = 'Várzea Grande')\n",
      "INSERT INTO tb_cidade(nome, id_estado) SELECT * FROM (SELECT 'Maceió', (SELECT id_estado FROM tb_estado WHERE sigla = 'AL')) AS tmp WHERE NOT EXISTS (SELECT nome FROM db_desafio.tb_cidade WHERE nome = 'Maceió')\n",
      "INSERT INTO tb_cidade(nome, id_estado) SELECT * FROM (SELECT 'Salvador', (SELECT id_estado FROM tb_estado WHERE sigla = 'BA')) AS tmp WHERE NOT EXISTS (SELECT nome FROM db_desafio.tb_cidade WHERE nome = 'Salvador')\n"
     ]
    },
    {
     "name": "stdout",
     "output_type": "stream",
     "text": [
      "INSERT INTO tb_cidade(nome, id_estado) SELECT * FROM (SELECT 'Boa Vista', (SELECT id_estado FROM tb_estado WHERE sigla = 'RR')) AS tmp WHERE NOT EXISTS (SELECT nome FROM db_desafio.tb_cidade WHERE nome = 'Boa Vista')\n",
      "INSERT INTO tb_cidade(nome, id_estado) SELECT * FROM (SELECT 'Macaé', (SELECT id_estado FROM tb_estado WHERE sigla = 'RJ')) AS tmp WHERE NOT EXISTS (SELECT nome FROM db_desafio.tb_cidade WHERE nome = 'Macaé')\n",
      "INSERT INTO tb_cidade(nome, id_estado) SELECT * FROM (SELECT 'Manaus', (SELECT id_estado FROM tb_estado WHERE sigla = 'AM')) AS tmp WHERE NOT EXISTS (SELECT nome FROM db_desafio.tb_cidade WHERE nome = 'Manaus')\n",
      "INSERT INTO tb_cidade(nome, id_estado) SELECT * FROM (SELECT 'Macapá', (SELECT id_estado FROM tb_estado WHERE sigla = 'AP')) AS tmp WHERE NOT EXISTS (SELECT nome FROM db_desafio.tb_cidade WHERE nome = 'Macapá')\n",
      "INSERT INTO tb_cidade(nome, id_estado) SELECT * FROM (SELECT 'Cuiabá', (SELECT id_estado FROM tb_estado WHERE sigla = 'MT')) AS tmp WHERE NOT EXISTS (SELECT nome FROM db_desafio.tb_cidade WHERE nome = 'Cuiabá')\n",
      "INSERT INTO tb_cidade(nome, id_estado) SELECT * FROM (SELECT 'Santa Luzia do Itanhy', (SELECT id_estado FROM tb_estado WHERE sigla = 'SE')) AS tmp WHERE NOT EXISTS (SELECT nome FROM db_desafio.tb_cidade WHERE nome = 'Santa Luzia do Itanhy')\n",
      "INSERT INTO tb_cidade(nome, id_estado) SELECT * FROM (SELECT 'João Pessoa', (SELECT id_estado FROM tb_estado WHERE sigla = 'PB')) AS tmp WHERE NOT EXISTS (SELECT nome FROM db_desafio.tb_cidade WHERE nome = 'João Pessoa')\n",
      "INSERT INTO tb_cidade(nome, id_estado) SELECT * FROM (SELECT 'Manaus', (SELECT id_estado FROM tb_estado WHERE sigla = 'AM')) AS tmp WHERE NOT EXISTS (SELECT nome FROM db_desafio.tb_cidade WHERE nome = 'Manaus')\n",
      "INSERT INTO tb_cidade(nome, id_estado) SELECT * FROM (SELECT 'Parnaíba', (SELECT id_estado FROM tb_estado WHERE sigla = 'PI')) AS tmp WHERE NOT EXISTS (SELECT nome FROM db_desafio.tb_cidade WHERE nome = 'Parnaíba')\n",
      "INSERT INTO tb_cidade(nome, id_estado) SELECT * FROM (SELECT 'Brusque', (SELECT id_estado FROM tb_estado WHERE sigla = 'SC')) AS tmp WHERE NOT EXISTS (SELECT nome FROM db_desafio.tb_cidade WHERE nome = 'Brusque')\n",
      "INSERT INTO tb_cidade(nome, id_estado) SELECT * FROM (SELECT 'Salvador', (SELECT id_estado FROM tb_estado WHERE sigla = 'BA')) AS tmp WHERE NOT EXISTS (SELECT nome FROM db_desafio.tb_cidade WHERE nome = 'Salvador')\n",
      "INSERT INTO tb_cidade(nome, id_estado) SELECT * FROM (SELECT 'Campo Grande', (SELECT id_estado FROM tb_estado WHERE sigla = 'MS')) AS tmp WHERE NOT EXISTS (SELECT nome FROM db_desafio.tb_cidade WHERE nome = 'Campo Grande')\n",
      "INSERT INTO tb_cidade(nome, id_estado) SELECT * FROM (SELECT 'Manaus', (SELECT id_estado FROM tb_estado WHERE sigla = 'AM')) AS tmp WHERE NOT EXISTS (SELECT nome FROM db_desafio.tb_cidade WHERE nome = 'Manaus')\n",
      "INSERT INTO tb_cidade(nome, id_estado) SELECT * FROM (SELECT 'Boa Vista', (SELECT id_estado FROM tb_estado WHERE sigla = 'RR')) AS tmp WHERE NOT EXISTS (SELECT nome FROM db_desafio.tb_cidade WHERE nome = 'Boa Vista')\n",
      "INSERT INTO tb_cidade(nome, id_estado) SELECT * FROM (SELECT 'Aracaju', (SELECT id_estado FROM tb_estado WHERE sigla = 'SE')) AS tmp WHERE NOT EXISTS (SELECT nome FROM db_desafio.tb_cidade WHERE nome = 'Aracaju')\n",
      "INSERT INTO tb_cidade(nome, id_estado) SELECT * FROM (SELECT 'Rio Grande', (SELECT id_estado FROM tb_estado WHERE sigla = 'RS')) AS tmp WHERE NOT EXISTS (SELECT nome FROM db_desafio.tb_cidade WHERE nome = 'Rio Grande')\n",
      "INSERT INTO tb_cidade(nome, id_estado) SELECT * FROM (SELECT 'Juazeiro do Norte', (SELECT id_estado FROM tb_estado WHERE sigla = 'CE')) AS tmp WHERE NOT EXISTS (SELECT nome FROM db_desafio.tb_cidade WHERE nome = 'Juazeiro do Norte')\n",
      "INSERT INTO tb_cidade(nome, id_estado) SELECT * FROM (SELECT 'Natal', (SELECT id_estado FROM tb_estado WHERE sigla = 'RN')) AS tmp WHERE NOT EXISTS (SELECT nome FROM db_desafio.tb_cidade WHERE nome = 'Natal')\n",
      "INSERT INTO tb_cidade(nome, id_estado) SELECT * FROM (SELECT 'Londrina', (SELECT id_estado FROM tb_estado WHERE sigla = 'PR')) AS tmp WHERE NOT EXISTS (SELECT nome FROM db_desafio.tb_cidade WHERE nome = 'Londrina')\n",
      "INSERT INTO tb_cidade(nome, id_estado) SELECT * FROM (SELECT 'Aracaju', (SELECT id_estado FROM tb_estado WHERE sigla = 'SE')) AS tmp WHERE NOT EXISTS (SELECT nome FROM db_desafio.tb_cidade WHERE nome = 'Aracaju')\n",
      "INSERT INTO tb_cidade(nome, id_estado) SELECT * FROM (SELECT 'Imperatriz', (SELECT id_estado FROM tb_estado WHERE sigla = 'MA')) AS tmp WHERE NOT EXISTS (SELECT nome FROM db_desafio.tb_cidade WHERE nome = 'Imperatriz')\n"
     ]
    }
   ],
   "source": [
    "for pessoa in dados:\n",
    "   #print(pessoa['estado'] + ' ' + pessoa['cidade'])\n",
    " \n",
    "   query = \"INSERT INTO tb_cidade(nome, id_estado) \"\n",
    "   query += \"SELECT * FROM (SELECT '%s', (SELECT id_estado FROM tb_estado WHERE sigla = '%s')) AS tmp \" % (pessoa['cidade'], pessoa['estado'])\n",
    "   query += \"WHERE NOT EXISTS (SELECT nome FROM db_desafio.tb_cidade WHERE nome = '%s')\"  % pessoa['cidade']\n",
    "\n",
    "   print(query)\n",
    "   mycursor.execute(query)\n",
    "\n",
    "   #Fazer a confirmação da inserção    \n",
    "   mydb.commit()"
   ]
  },
  {
   "cell_type": "markdown",
   "metadata": {},
   "source": [
    "#### Grava Pessoas"
   ]
  },
  {
   "cell_type": "code",
   "execution_count": 61,
   "metadata": {},
   "outputs": [],
   "source": [
    "from datetime import datetime\n",
    "from dateutil.relativedelta import *"
   ]
  },
  {
   "cell_type": "code",
   "execution_count": 96,
   "metadata": {},
   "outputs": [
    {
     "name": "stdout",
     "output_type": "stream",
     "text": [
      "{'nome': 'Silvana Hadassa', 'idade': None, 'data_nasc': '12/06/1964', 'sexo': 'Feminino', 'signo': 'Gêmeos', 'cidade': 'Brasília', 'estado': 'DF', 'altura': '1,67', 'peso': 50, 'tipo_sanguineo': 'A+', 'cor': 'vermelho'}\n",
      "INSERT INTO tb_pessoa(nome, idade, data_nasc, sexo, signo, altura, peso, id_cidade, id_cor, id_tiposanguineo) VALUES('Silvana Hadassa', 56, '1964-06-12 00:00:00', 'F', 'Gêmeos', 1.67, 50,                (SELECT id_cidade FROM tb_cidade WHERE nome = 'Brasília'),                (SELECT id_cor FROM tb_cor WHERE cor = 'vermelho'),                (SELECT id_tiposanguineo FROM tb_tiposanguineo WHERE tipo = 'A+')) \n",
      "{'nome': 'Thales Kaique', 'idade': 27, 'data_nasc': '10/12/1993', 'sexo': 'Masculino', 'signo': 'Sagitário', 'cidade': 'Campo Grande', 'estado': 'MS', 'altura': '1,63', 'peso': 110, 'tipo_sanguineo': 'B+', 'cor': 'laranja'}\n",
      "INSERT INTO tb_pessoa(nome, idade, data_nasc, sexo, signo, altura, peso, id_cidade, id_cor, id_tiposanguineo) VALUES('Thales Kaique', 27, '1993-12-10 00:00:00', 'M', 'Sagitário', 1.63, 110,                (SELECT id_cidade FROM tb_cidade WHERE nome = 'Campo Grande'),                (SELECT id_cor FROM tb_cor WHERE cor = 'laranja'),                (SELECT id_tiposanguineo FROM tb_tiposanguineo WHERE tipo = 'B+')) \n",
      "{'nome': 'Henry Nathan', 'idade': 29, 'data_nasc': '21/09/1991', 'sexo': 'Masculino', 'signo': 'Virgem', 'cidade': 'Macapá', 'estado': 'AP', 'altura': '1,86', 'peso': 106, 'tipo_sanguineo': 'AB-', 'cor': 'verde'}\n",
      "INSERT INTO tb_pessoa(nome, idade, data_nasc, sexo, signo, altura, peso, id_cidade, id_cor, id_tiposanguineo) VALUES('Henry Nathan', 29, '1991-09-21 00:00:00', 'M', 'Virgem', 1.86, 106,                (SELECT id_cidade FROM tb_cidade WHERE nome = 'Macapá'),                (SELECT id_cor FROM tb_cor WHERE cor = 'verde'),                (SELECT id_tiposanguineo FROM tb_tiposanguineo WHERE tipo = 'AB-')) \n",
      "{'nome': 'Lorenzo Vinicius', 'idade': 64, 'data_nasc': '22/10/1956', 'sexo': 'Masculino', 'signo': 'Libra', 'cidade': 'Contagem', 'estado': 'MG', 'altura': '1,87', 'peso': 100, 'tipo_sanguineo': 'O+', 'cor': 'vermelho'}\n",
      "INSERT INTO tb_pessoa(nome, idade, data_nasc, sexo, signo, altura, peso, id_cidade, id_cor, id_tiposanguineo) VALUES('Lorenzo Vinicius', 64, '1956-10-22 00:00:00', 'M', 'Libra', 1.87, 100,                (SELECT id_cidade FROM tb_cidade WHERE nome = 'Contagem'),                (SELECT id_cor FROM tb_cor WHERE cor = 'vermelho'),                (SELECT id_tiposanguineo FROM tb_tiposanguineo WHERE tipo = 'O+')) \n",
      "{'nome': 'Cauã Henrique', 'idade': 50, 'data_nasc': '09/03', 'sexo': 'Masculino', 'signo': 'Peixes', 'cidade': 'Rondonópolis', 'estado': 'MT', 'altura': '1,74', 'peso': 83, 'tipo_sanguineo': 'O-', 'cor': 'vermelho'}\n",
      "INSERT INTO tb_pessoa(nome, idade, data_nasc, sexo, signo, altura, peso, id_cidade, id_cor, id_tiposanguineo) VALUES('Cauã Henrique', 50, '1970-03-09 00:00:00', 'M', 'Peixes', 1.74, 83,                (SELECT id_cidade FROM tb_cidade WHERE nome = 'Rondonópolis'),                (SELECT id_cor FROM tb_cor WHERE cor = 'vermelho'),                (SELECT id_tiposanguineo FROM tb_tiposanguineo WHERE tipo = 'O-')) \n",
      "{'nome': 'Francisco Thomas', 'idade': 19, 'data_nasc': '12/04/2001', 'sexo': 'Masculino', 'signo': 'Áries', 'cidade': 'Olinda', 'estado': 'PE', 'altura': '1,91', 'peso': 64, 'tipo_sanguineo': 'AB-', 'cor': 'preto'}\n",
      "INSERT INTO tb_pessoa(nome, idade, data_nasc, sexo, signo, altura, peso, id_cidade, id_cor, id_tiposanguineo) VALUES('Francisco Thomas', 19, '2001-04-12 00:00:00', 'M', 'Áries', 1.91, 64,                (SELECT id_cidade FROM tb_cidade WHERE nome = 'Olinda'),                (SELECT id_cor FROM tb_cor WHERE cor = 'preto'),                (SELECT id_tiposanguineo FROM tb_tiposanguineo WHERE tipo = 'AB-')) \n",
      "{'nome': 'Bianca Flávia', 'idade': None, 'data_nasc': '23/01/1949', 'sexo': 'Feminino', 'signo': 'Aquário', 'cidade': 'Campo Grande', 'estado': 'MS', 'altura': '1,54', 'peso': 76, 'tipo_sanguineo': 'AB+', 'cor': 'vermelho'}\n",
      "INSERT INTO tb_pessoa(nome, idade, data_nasc, sexo, signo, altura, peso, id_cidade, id_cor, id_tiposanguineo) VALUES('Bianca Flávia', 71, '1949-01-23 00:00:00', 'F', 'Aquário', 1.54, 76,                (SELECT id_cidade FROM tb_cidade WHERE nome = 'Campo Grande'),                (SELECT id_cor FROM tb_cor WHERE cor = 'vermelho'),                (SELECT id_tiposanguineo FROM tb_tiposanguineo WHERE tipo = 'AB+')) \n",
      "{'nome': 'Arthur Filipe', 'idade': None, 'data_nasc': '23/12/1987', 'sexo': 'Masculino', 'signo': 'Capricórnio', 'cidade': 'Rio Branco', 'estado': 'AC', 'altura': '1,91', 'peso': 54, 'tipo_sanguineo': 'AB-', 'cor': 'roxo'}\n",
      "INSERT INTO tb_pessoa(nome, idade, data_nasc, sexo, signo, altura, peso, id_cidade, id_cor, id_tiposanguineo) VALUES('Arthur Filipe', 32, '1987-12-23 00:00:00', 'M', 'Capricórnio', 1.91, 54,                (SELECT id_cidade FROM tb_cidade WHERE nome = 'Rio Branco'),                (SELECT id_cor FROM tb_cor WHERE cor = 'roxo'),                (SELECT id_tiposanguineo FROM tb_tiposanguineo WHERE tipo = 'AB-')) \n",
      "{'nome': 'Teresinha Jaqueline', 'idade': None, 'data_nasc': '20/10/1968', 'sexo': 'Feminino', 'signo': 'Libra', 'cidade': 'Araguaína', 'estado': 'TO', 'altura': '1,84', 'peso': 59, 'tipo_sanguineo': 'AB-', 'cor': 'vermelho'}\n",
      "INSERT INTO tb_pessoa(nome, idade, data_nasc, sexo, signo, altura, peso, id_cidade, id_cor, id_tiposanguineo) VALUES('Teresinha Jaqueline', 52, '1968-10-20 00:00:00', 'F', 'Libra', 1.84, 59,                (SELECT id_cidade FROM tb_cidade WHERE nome = 'Araguaína'),                (SELECT id_cor FROM tb_cor WHERE cor = 'vermelho'),                (SELECT id_tiposanguineo FROM tb_tiposanguineo WHERE tipo = 'AB-')) \n",
      "{'nome': 'Manuel Luís', 'idade': 50, 'data_nasc': '12/05/1970', 'sexo': 'Masculino', 'signo': 'Touro', 'cidade': 'Manaus', 'estado': 'AM', 'altura': '1,81', 'peso': 85, 'tipo_sanguineo': 'A-', 'cor': 'roxo'}\n",
      "INSERT INTO tb_pessoa(nome, idade, data_nasc, sexo, signo, altura, peso, id_cidade, id_cor, id_tiposanguineo) VALUES('Manuel Luís', 50, '1970-05-12 00:00:00', 'M', 'Touro', 1.81, 85,                (SELECT id_cidade FROM tb_cidade WHERE nome = 'Manaus'),                (SELECT id_cor FROM tb_cor WHERE cor = 'roxo'),                (SELECT id_tiposanguineo FROM tb_tiposanguineo WHERE tipo = 'A-')) \n",
      "{'nome': 'Jorge Nicolas', 'idade': None, 'data_nasc': '11/07/1968', 'sexo': 'Masculino', 'signo': 'Câncer', 'cidade': 'Caruaru', 'estado': 'PE', 'altura': '1,87', 'peso': 54, 'tipo_sanguineo': 'AB-', 'cor': 'roxo'}\n",
      "INSERT INTO tb_pessoa(nome, idade, data_nasc, sexo, signo, altura, peso, id_cidade, id_cor, id_tiposanguineo) VALUES('Jorge Nicolas', 52, '1968-07-11 00:00:00', 'M', 'Câncer', 1.87, 54,                (SELECT id_cidade FROM tb_cidade WHERE nome = 'Caruaru'),                (SELECT id_cor FROM tb_cor WHERE cor = 'roxo'),                (SELECT id_tiposanguineo FROM tb_tiposanguineo WHERE tipo = 'AB-')) \n",
      "{'nome': 'Ricardo Paulo', 'idade': 37, 'data_nasc': '16/12/1983', 'sexo': 'Masculino', 'signo': 'Sagitário', 'cidade': 'Porto Velho', 'estado': 'RO', 'altura': '1,86', 'peso': 52, 'tipo_sanguineo': 'B+', 'cor': 'vermelho'}\n",
      "INSERT INTO tb_pessoa(nome, idade, data_nasc, sexo, signo, altura, peso, id_cidade, id_cor, id_tiposanguineo) VALUES('Ricardo Paulo', 37, '1983-12-16 00:00:00', 'M', 'Sagitário', 1.86, 52,                (SELECT id_cidade FROM tb_cidade WHERE nome = 'Porto Velho'),                (SELECT id_cor FROM tb_cor WHERE cor = 'vermelho'),                (SELECT id_tiposanguineo FROM tb_tiposanguineo WHERE tipo = 'B+')) \n",
      "{'nome': 'Gustavo Joaquim', 'idade': 61, 'data_nasc': '07/01/1959', 'sexo': 'Masculino', 'signo': 'Capricórnio', 'cidade': 'Macapá', 'estado': 'AP', 'altura': '1,62', 'peso': 106, 'tipo_sanguineo': 'A+', 'cor': 'verde'}\n",
      "INSERT INTO tb_pessoa(nome, idade, data_nasc, sexo, signo, altura, peso, id_cidade, id_cor, id_tiposanguineo) VALUES('Gustavo Joaquim', 61, '1959-01-07 00:00:00', 'M', 'Capricórnio', 1.62, 106,                (SELECT id_cidade FROM tb_cidade WHERE nome = 'Macapá'),                (SELECT id_cor FROM tb_cor WHERE cor = 'verde'),                (SELECT id_tiposanguineo FROM tb_tiposanguineo WHERE tipo = 'A+')) \n",
      "{'nome': 'Isabel Yasmin', 'idade': 50, 'data_nasc': '22/06/1970', 'sexo': 'Feminino', 'signo': 'Câncer', 'cidade': 'Manaus', 'estado': 'AM', 'altura': '1,64', 'peso': 53, 'tipo_sanguineo': 'AB+', 'cor': 'azul'}\n",
      "INSERT INTO tb_pessoa(nome, idade, data_nasc, sexo, signo, altura, peso, id_cidade, id_cor, id_tiposanguineo) VALUES('Isabel Yasmin', 50, '1970-06-22 00:00:00', 'F', 'Câncer', 1.64, 53,                (SELECT id_cidade FROM tb_cidade WHERE nome = 'Manaus'),                (SELECT id_cor FROM tb_cor WHERE cor = 'azul'),                (SELECT id_tiposanguineo FROM tb_tiposanguineo WHERE tipo = 'AB+')) \n",
      "{'nome': 'Daniel Lucca', 'idade': 21, 'data_nasc': '22/01', 'sexo': 'Masculino', 'signo': 'Aquário', 'cidade': 'Planaltina', 'estado': 'GO', 'altura': '1,84', 'peso': 105, 'tipo_sanguineo': 'A+', 'cor': 'verde'}\n",
      "INSERT INTO tb_pessoa(nome, idade, data_nasc, sexo, signo, altura, peso, id_cidade, id_cor, id_tiposanguineo) VALUES('Daniel Lucca', 21, '1999-01-22 00:00:00', 'M', 'Aquário', 1.84, 105,                (SELECT id_cidade FROM tb_cidade WHERE nome = 'Planaltina'),                (SELECT id_cor FROM tb_cor WHERE cor = 'verde'),                (SELECT id_tiposanguineo FROM tb_tiposanguineo WHERE tipo = 'A+')) \n"
     ]
    },
    {
     "name": "stdout",
     "output_type": "stream",
     "text": [
      "{'nome': 'Benício Guilherme', 'idade': 37, 'data_nasc': '09/02/1983', 'sexo': 'Masculino', 'signo': 'Aquário', 'cidade': 'Rondonópolis', 'estado': 'MT', 'altura': '1,63', 'peso': 95, 'tipo_sanguineo': 'O-', 'cor': 'laranja'}\n",
      "INSERT INTO tb_pessoa(nome, idade, data_nasc, sexo, signo, altura, peso, id_cidade, id_cor, id_tiposanguineo) VALUES('Benício Guilherme', 37, '1983-02-09 00:00:00', 'M', 'Aquário', 1.63, 95,                (SELECT id_cidade FROM tb_cidade WHERE nome = 'Rondonópolis'),                (SELECT id_cor FROM tb_cor WHERE cor = 'laranja'),                (SELECT id_tiposanguineo FROM tb_tiposanguineo WHERE tipo = 'O-')) \n",
      "{'nome': 'João Pedro', 'idade': None, 'data_nasc': '08/05/2002', 'sexo': 'Masculino', 'signo': 'Touro', 'cidade': 'Santa Cruz do Sul', 'estado': 'RS', 'altura': '1,95', 'peso': 57, 'tipo_sanguineo': 'B-', 'cor': 'preto'}\n",
      "INSERT INTO tb_pessoa(nome, idade, data_nasc, sexo, signo, altura, peso, id_cidade, id_cor, id_tiposanguineo) VALUES('João Pedro', 18, '2002-05-08 00:00:00', 'M', 'Touro', 1.95, 57,                (SELECT id_cidade FROM tb_cidade WHERE nome = 'Santa Cruz do Sul'),                (SELECT id_cor FROM tb_cor WHERE cor = 'preto'),                (SELECT id_tiposanguineo FROM tb_tiposanguineo WHERE tipo = 'B-')) \n",
      "{'nome': 'Sandra Milena', 'idade': 31, 'data_nasc': '16/07/1989', 'sexo': 'Feminino', 'signo': 'Câncer', 'cidade': 'Porto Alegre', 'estado': 'RS', 'altura': '1,70', 'peso': 84, 'tipo_sanguineo': 'AB-', 'cor': 'verde'}\n",
      "INSERT INTO tb_pessoa(nome, idade, data_nasc, sexo, signo, altura, peso, id_cidade, id_cor, id_tiposanguineo) VALUES('Sandra Milena', 31, '1989-07-16 00:00:00', 'F', 'Câncer', 1.7, 84,                (SELECT id_cidade FROM tb_cidade WHERE nome = 'Porto Alegre'),                (SELECT id_cor FROM tb_cor WHERE cor = 'verde'),                (SELECT id_tiposanguineo FROM tb_tiposanguineo WHERE tipo = 'AB-')) \n",
      "{'nome': 'Antonio Sérgio', 'idade': 49, 'data_nasc': '15/04', 'sexo': 'Masculino', 'signo': 'Áries', 'cidade': 'Carpina', 'estado': 'PE', 'altura': '1,65', 'peso': 71, 'tipo_sanguineo': 'O+', 'cor': 'azul'}\n",
      "INSERT INTO tb_pessoa(nome, idade, data_nasc, sexo, signo, altura, peso, id_cidade, id_cor, id_tiposanguineo) VALUES('Antonio Sérgio', 49, '1971-04-15 00:00:00', 'M', 'Áries', 1.65, 71,                (SELECT id_cidade FROM tb_cidade WHERE nome = 'Carpina'),                (SELECT id_cor FROM tb_cor WHERE cor = 'azul'),                (SELECT id_tiposanguineo FROM tb_tiposanguineo WHERE tipo = 'O+')) \n",
      "{'nome': 'Arthur Sérgio', 'idade': 76, 'data_nasc': '20/01/1944', 'sexo': 'Masculino', 'signo': 'Capricórnio', 'cidade': 'Boa Vista', 'estado': 'RR', 'altura': '1,97', 'peso': 51, 'tipo_sanguineo': 'AB-', 'cor': 'preto'}\n",
      "INSERT INTO tb_pessoa(nome, idade, data_nasc, sexo, signo, altura, peso, id_cidade, id_cor, id_tiposanguineo) VALUES('Arthur Sérgio', 76, '1944-01-20 00:00:00', 'M', 'Capricórnio', 1.97, 51,                (SELECT id_cidade FROM tb_cidade WHERE nome = 'Boa Vista'),                (SELECT id_cor FROM tb_cor WHERE cor = 'preto'),                (SELECT id_tiposanguineo FROM tb_tiposanguineo WHERE tipo = 'AB-')) \n",
      "{'nome': 'Larissa Esther', 'idade': 37, 'data_nasc': '10/03/1983', 'sexo': 'Feminino', 'signo': 'Peixes', 'cidade': 'Imperatriz', 'estado': 'MA', 'altura': '1,68', 'peso': 69, 'tipo_sanguineo': 'AB-', 'cor': 'verde'}\n",
      "INSERT INTO tb_pessoa(nome, idade, data_nasc, sexo, signo, altura, peso, id_cidade, id_cor, id_tiposanguineo) VALUES('Larissa Esther', 37, '1983-03-10 00:00:00', 'F', 'Peixes', 1.68, 69,                (SELECT id_cidade FROM tb_cidade WHERE nome = 'Imperatriz'),                (SELECT id_cor FROM tb_cor WHERE cor = 'verde'),                (SELECT id_tiposanguineo FROM tb_tiposanguineo WHERE tipo = 'AB-')) \n",
      "{'nome': 'Thales Bento', 'idade': None, 'data_nasc': '18/04/1942', 'sexo': 'Masculino', 'signo': 'Áries', 'cidade': 'São Luís', 'estado': 'MA', 'altura': '1,95', 'peso': 64, 'tipo_sanguineo': 'A+', 'cor': 'vermelho'}\n",
      "INSERT INTO tb_pessoa(nome, idade, data_nasc, sexo, signo, altura, peso, id_cidade, id_cor, id_tiposanguineo) VALUES('Thales Bento', 78, '1942-04-18 00:00:00', 'M', 'Áries', 1.95, 64,                (SELECT id_cidade FROM tb_cidade WHERE nome = 'São Luís'),                (SELECT id_cor FROM tb_cor WHERE cor = 'vermelho'),                (SELECT id_tiposanguineo FROM tb_tiposanguineo WHERE tipo = 'A+')) \n",
      "{'nome': 'Breno Rafael', 'idade': 58, 'data_nasc': '09/01/1962', 'sexo': 'Masculino', 'signo': 'Capricórnio', 'cidade': 'Cacoal', 'estado': 'RO', 'altura': '1,94', 'peso': 108, 'tipo_sanguineo': 'A+', 'cor': 'preto'}\n",
      "INSERT INTO tb_pessoa(nome, idade, data_nasc, sexo, signo, altura, peso, id_cidade, id_cor, id_tiposanguineo) VALUES('Breno Rafael', 58, '1962-01-09 00:00:00', 'M', 'Capricórnio', 1.94, 108,                (SELECT id_cidade FROM tb_cidade WHERE nome = 'Cacoal'),                (SELECT id_cor FROM tb_cor WHERE cor = 'preto'),                (SELECT id_tiposanguineo FROM tb_tiposanguineo WHERE tipo = 'A+')) \n",
      "{'nome': 'Tiago Gael', 'idade': 24, 'data_nasc': '17/07/1996', 'sexo': 'Masculino', 'signo': 'Câncer', 'cidade': 'Cariacica', 'estado': 'ES', 'altura': '1,68', 'peso': 58, 'tipo_sanguineo': 'A+', 'cor': 'azul'}\n",
      "INSERT INTO tb_pessoa(nome, idade, data_nasc, sexo, signo, altura, peso, id_cidade, id_cor, id_tiposanguineo) VALUES('Tiago Gael', 24, '1996-07-17 00:00:00', 'M', 'Câncer', 1.68, 58,                (SELECT id_cidade FROM tb_cidade WHERE nome = 'Cariacica'),                (SELECT id_cor FROM tb_cor WHERE cor = 'azul'),                (SELECT id_tiposanguineo FROM tb_tiposanguineo WHERE tipo = 'A+')) \n",
      "{'nome': 'Carolina Márcia', 'idade': None, 'data_nasc': '25/11/1959', 'sexo': 'Feminino', 'signo': 'Sagitário', 'cidade': 'Parnaíba', 'estado': 'PI', 'altura': '1,50', 'peso': 45, 'tipo_sanguineo': 'B-', 'cor': 'preto'}\n",
      "INSERT INTO tb_pessoa(nome, idade, data_nasc, sexo, signo, altura, peso, id_cidade, id_cor, id_tiposanguineo) VALUES('Carolina Márcia', 61, '1959-11-25 00:00:00', 'F', 'Sagitário', 1.5, 45,                (SELECT id_cidade FROM tb_cidade WHERE nome = 'Parnaíba'),                (SELECT id_cor FROM tb_cor WHERE cor = 'preto'),                (SELECT id_tiposanguineo FROM tb_tiposanguineo WHERE tipo = 'B-')) \n",
      "{'nome': 'Levi Sérgio', 'idade': None, 'data_nasc': '21/08/1949', 'sexo': 'Masculino', 'signo': 'Leão', 'cidade': 'Santana', 'estado': 'AP', 'altura': '1,83', 'peso': 68, 'tipo_sanguineo': 'AB-', 'cor': 'vermelho'}\n",
      "INSERT INTO tb_pessoa(nome, idade, data_nasc, sexo, signo, altura, peso, id_cidade, id_cor, id_tiposanguineo) VALUES('Levi Sérgio', 71, '1949-08-21 00:00:00', 'M', 'Leão', 1.83, 68,                (SELECT id_cidade FROM tb_cidade WHERE nome = 'Santana'),                (SELECT id_cor FROM tb_cor WHERE cor = 'vermelho'),                (SELECT id_tiposanguineo FROM tb_tiposanguineo WHERE tipo = 'AB-')) \n",
      "{'nome': 'Juan Theo', 'idade': 39, 'data_nasc': '09/11/1981', 'sexo': 'Masculino', 'signo': 'Escorpião', 'cidade': 'Ponta Grossa', 'estado': 'PR', 'altura': '1,67', 'peso': 77, 'tipo_sanguineo': 'B-', 'cor': 'verde'}\n",
      "INSERT INTO tb_pessoa(nome, idade, data_nasc, sexo, signo, altura, peso, id_cidade, id_cor, id_tiposanguineo) VALUES('Juan Theo', 39, '1981-11-09 00:00:00', 'M', 'Escorpião', 1.67, 77,                (SELECT id_cidade FROM tb_cidade WHERE nome = 'Ponta Grossa'),                (SELECT id_cor FROM tb_cor WHERE cor = 'verde'),                (SELECT id_tiposanguineo FROM tb_tiposanguineo WHERE tipo = 'B-')) \n",
      "{'nome': 'Rafael Ryan', 'idade': 70, 'data_nasc': '10/01', 'sexo': 'Masculino', 'signo': 'Capricórnio', 'cidade': 'Arapiraca', 'estado': 'AL', 'altura': '1,98', 'peso': 85, 'tipo_sanguineo': 'O-', 'cor': 'laranja'}\n",
      "INSERT INTO tb_pessoa(nome, idade, data_nasc, sexo, signo, altura, peso, id_cidade, id_cor, id_tiposanguineo) VALUES('Rafael Ryan', 70, '1950-01-10 00:00:00', 'M', 'Capricórnio', 1.98, 85,                (SELECT id_cidade FROM tb_cidade WHERE nome = 'Arapiraca'),                (SELECT id_cor FROM tb_cor WHERE cor = 'laranja'),                (SELECT id_tiposanguineo FROM tb_tiposanguineo WHERE tipo = 'O-')) \n",
      "{'nome': 'Malu Emilly', 'idade': 70, 'data_nasc': '04/07/1950', 'sexo': 'Feminino', 'signo': 'Câncer', 'cidade': 'Águas Lindas de Goiás', 'estado': 'GO', 'altura': '1,62', 'peso': 48, 'tipo_sanguineo': 'B-', 'cor': 'vermelho'}\n",
      "INSERT INTO tb_pessoa(nome, idade, data_nasc, sexo, signo, altura, peso, id_cidade, id_cor, id_tiposanguineo) VALUES('Malu Emilly', 70, '1950-07-04 00:00:00', 'F', 'Câncer', 1.62, 48,                (SELECT id_cidade FROM tb_cidade WHERE nome = 'Águas Lindas de Goiás'),                (SELECT id_cor FROM tb_cor WHERE cor = 'vermelho'),                (SELECT id_tiposanguineo FROM tb_tiposanguineo WHERE tipo = 'B-')) \n"
     ]
    },
    {
     "name": "stdout",
     "output_type": "stream",
     "text": [
      "{'nome': 'Alice Bárbara', 'idade': 78, 'data_nasc': '09/10/1942', 'sexo': 'Feminino', 'signo': 'Libra', 'cidade': 'Cianorte', 'estado': 'PR', 'altura': '1,78', 'peso': 80, 'tipo_sanguineo': 'AB+', 'cor': 'laranja'}\n",
      "INSERT INTO tb_pessoa(nome, idade, data_nasc, sexo, signo, altura, peso, id_cidade, id_cor, id_tiposanguineo) VALUES('Alice Bárbara', 78, '1942-10-09 00:00:00', 'F', 'Libra', 1.78, 80,                (SELECT id_cidade FROM tb_cidade WHERE nome = 'Cianorte'),                (SELECT id_cor FROM tb_cor WHERE cor = 'laranja'),                (SELECT id_tiposanguineo FROM tb_tiposanguineo WHERE tipo = 'AB+')) \n",
      "{'nome': 'Martin Edson', 'idade': 35, 'data_nasc': '15/01', 'sexo': 'Masculino', 'signo': 'Capricórnio', 'cidade': 'Aracaju', 'estado': 'SE', 'altura': '1,60', 'peso': 59, 'tipo_sanguineo': 'A-', 'cor': 'laranja'}\n",
      "INSERT INTO tb_pessoa(nome, idade, data_nasc, sexo, signo, altura, peso, id_cidade, id_cor, id_tiposanguineo) VALUES('Martin Edson', 35, '1985-01-15 00:00:00', 'M', 'Capricórnio', 1.6, 59,                (SELECT id_cidade FROM tb_cidade WHERE nome = 'Aracaju'),                (SELECT id_cor FROM tb_cor WHERE cor = 'laranja'),                (SELECT id_tiposanguineo FROM tb_tiposanguineo WHERE tipo = 'A-')) \n",
      "{'nome': 'Danilo Jorge', 'idade': 38, 'data_nasc': '25/08/1982', 'sexo': 'Masculino', 'signo': 'Virgem', 'cidade': 'Rondonópolis', 'estado': 'MT', 'altura': '1,79', 'peso': 87, 'tipo_sanguineo': 'AB+', 'cor': 'preto'}\n",
      "INSERT INTO tb_pessoa(nome, idade, data_nasc, sexo, signo, altura, peso, id_cidade, id_cor, id_tiposanguineo) VALUES('Danilo Jorge', 38, '1982-08-25 00:00:00', 'M', 'Virgem', 1.79, 87,                (SELECT id_cidade FROM tb_cidade WHERE nome = 'Rondonópolis'),                (SELECT id_cor FROM tb_cor WHERE cor = 'preto'),                (SELECT id_tiposanguineo FROM tb_tiposanguineo WHERE tipo = 'AB+')) \n",
      "{'nome': 'Isadora Sueli', 'idade': None, 'data_nasc': '03/07/1999', 'sexo': 'Feminino', 'signo': 'Câncer', 'cidade': 'Belém', 'estado': 'PA', 'altura': '1,59', 'peso': 88, 'tipo_sanguineo': 'AB+', 'cor': 'verde'}\n",
      "INSERT INTO tb_pessoa(nome, idade, data_nasc, sexo, signo, altura, peso, id_cidade, id_cor, id_tiposanguineo) VALUES('Isadora Sueli', 21, '1999-07-03 00:00:00', 'F', 'Câncer', 1.59, 88,                (SELECT id_cidade FROM tb_cidade WHERE nome = 'Belém'),                (SELECT id_cor FROM tb_cor WHERE cor = 'verde'),                (SELECT id_tiposanguineo FROM tb_tiposanguineo WHERE tipo = 'AB+')) \n",
      "{'nome': 'Maya Tatiane', 'idade': 27, 'data_nasc': '27/12/1993', 'sexo': 'Feminino', 'signo': 'Capricórnio', 'cidade': 'Aracaju', 'estado': 'SE', 'altura': '1,83', 'peso': 89, 'tipo_sanguineo': 'AB-', 'cor': 'roxo'}\n",
      "INSERT INTO tb_pessoa(nome, idade, data_nasc, sexo, signo, altura, peso, id_cidade, id_cor, id_tiposanguineo) VALUES('Maya Tatiane', 27, '1993-12-27 00:00:00', 'F', 'Capricórnio', 1.83, 89,                (SELECT id_cidade FROM tb_cidade WHERE nome = 'Aracaju'),                (SELECT id_cor FROM tb_cor WHERE cor = 'roxo'),                (SELECT id_tiposanguineo FROM tb_tiposanguineo WHERE tipo = 'AB-')) \n",
      "{'nome': 'Bruno Manuel', 'idade': 57, 'data_nasc': '14/09', 'sexo': 'Masculino', 'signo': 'Virgem', 'cidade': 'Jataí', 'estado': 'GO', 'altura': '1,60', 'peso': 92, 'tipo_sanguineo': 'O+', 'cor': 'azul'}\n",
      "INSERT INTO tb_pessoa(nome, idade, data_nasc, sexo, signo, altura, peso, id_cidade, id_cor, id_tiposanguineo) VALUES('Bruno Manuel', 57, '1963-09-14 00:00:00', 'M', 'Virgem', 1.6, 92,                (SELECT id_cidade FROM tb_cidade WHERE nome = 'Jataí'),                (SELECT id_cor FROM tb_cor WHERE cor = 'azul'),                (SELECT id_tiposanguineo FROM tb_tiposanguineo WHERE tipo = 'O+')) \n",
      "{'nome': 'Gabriel Luan', 'idade': 66, 'data_nasc': '20/12/1954', 'sexo': 'Masculino', 'signo': 'Sagitário', 'cidade': 'Boa Vista', 'estado': 'RR', 'altura': '1,71', 'peso': 93, 'tipo_sanguineo': 'AB-', 'cor': 'vermelho'}\n",
      "INSERT INTO tb_pessoa(nome, idade, data_nasc, sexo, signo, altura, peso, id_cidade, id_cor, id_tiposanguineo) VALUES('Gabriel Luan', 66, '1954-12-20 00:00:00', 'M', 'Sagitário', 1.71, 93,                (SELECT id_cidade FROM tb_cidade WHERE nome = 'Boa Vista'),                (SELECT id_cor FROM tb_cor WHERE cor = 'vermelho'),                (SELECT id_tiposanguineo FROM tb_tiposanguineo WHERE tipo = 'AB-')) \n",
      "{'nome': 'Henry Elias', 'idade': 57, 'data_nasc': '26/04/1963', 'sexo': 'Masculino', 'signo': 'Touro', 'cidade': 'Várzea Grande', 'estado': 'MT', 'altura': '1,83', 'peso': 103, 'tipo_sanguineo': 'AB+', 'cor': 'vermelho'}\n",
      "INSERT INTO tb_pessoa(nome, idade, data_nasc, sexo, signo, altura, peso, id_cidade, id_cor, id_tiposanguineo) VALUES('Henry Elias', 57, '1963-04-26 00:00:00', 'M', 'Touro', 1.83, 103,                (SELECT id_cidade FROM tb_cidade WHERE nome = 'Várzea Grande'),                (SELECT id_cor FROM tb_cor WHERE cor = 'vermelho'),                (SELECT id_tiposanguineo FROM tb_tiposanguineo WHERE tipo = 'AB+')) \n",
      "{'nome': 'Marcela Laura', 'idade': 56, 'data_nasc': '17/11/1964', 'sexo': 'Feminino', 'signo': 'Escorpião', 'cidade': 'Maceió', 'estado': 'AL', 'altura': '1,52', 'peso': 79, 'tipo_sanguineo': 'A-', 'cor': 'verde'}\n",
      "INSERT INTO tb_pessoa(nome, idade, data_nasc, sexo, signo, altura, peso, id_cidade, id_cor, id_tiposanguineo) VALUES('Marcela Laura', 56, '1964-11-17 00:00:00', 'F', 'Escorpião', 1.52, 79,                (SELECT id_cidade FROM tb_cidade WHERE nome = 'Maceió'),                (SELECT id_cor FROM tb_cor WHERE cor = 'verde'),                (SELECT id_tiposanguineo FROM tb_tiposanguineo WHERE tipo = 'A-')) \n",
      "{'nome': 'Amanda Luna', 'idade': 59, 'data_nasc': '22/12/1961', 'sexo': 'Feminino', 'signo': 'Capricórnio', 'cidade': 'Salvador', 'estado': 'BA', 'altura': '1,67', 'peso': 55, 'tipo_sanguineo': 'O-', 'cor': 'amarelo'}\n",
      "INSERT INTO tb_pessoa(nome, idade, data_nasc, sexo, signo, altura, peso, id_cidade, id_cor, id_tiposanguineo) VALUES('Amanda Luna', 59, '1961-12-22 00:00:00', 'F', 'Capricórnio', 1.67, 55,                (SELECT id_cidade FROM tb_cidade WHERE nome = 'Salvador'),                (SELECT id_cor FROM tb_cor WHERE cor = 'amarelo'),                (SELECT id_tiposanguineo FROM tb_tiposanguineo WHERE tipo = 'O-')) \n",
      "{'nome': 'Caio Ricardo', 'idade': None, 'data_nasc': '07/09/1973', 'sexo': 'Masculino', 'signo': 'Virgem', 'cidade': 'Boa Vista', 'estado': 'RR', 'altura': '1,61', 'peso': 97, 'tipo_sanguineo': 'A-', 'cor': 'roxo'}\n",
      "INSERT INTO tb_pessoa(nome, idade, data_nasc, sexo, signo, altura, peso, id_cidade, id_cor, id_tiposanguineo) VALUES('Caio Ricardo', 47, '1973-09-07 00:00:00', 'M', 'Virgem', 1.61, 97,                (SELECT id_cidade FROM tb_cidade WHERE nome = 'Boa Vista'),                (SELECT id_cor FROM tb_cor WHERE cor = 'roxo'),                (SELECT id_tiposanguineo FROM tb_tiposanguineo WHERE tipo = 'A-')) \n",
      "{'nome': 'Mariane Sabrina', 'idade': 52, 'data_nasc': '27/02/1968', 'sexo': 'Feminino', 'signo': 'Peixes', 'cidade': 'Macaé', 'estado': 'RJ', 'altura': '1,67', 'peso': 70, 'tipo_sanguineo': 'A+', 'cor': 'vermelho'}\n",
      "INSERT INTO tb_pessoa(nome, idade, data_nasc, sexo, signo, altura, peso, id_cidade, id_cor, id_tiposanguineo) VALUES('Mariane Sabrina', 52, '1968-02-27 00:00:00', 'F', 'Peixes', 1.67, 70,                (SELECT id_cidade FROM tb_cidade WHERE nome = 'Macaé'),                (SELECT id_cor FROM tb_cor WHERE cor = 'vermelho'),                (SELECT id_tiposanguineo FROM tb_tiposanguineo WHERE tipo = 'A+')) \n",
      "{'nome': 'Juliana Vanessa', 'idade': 37, 'data_nasc': '27/04/1983', 'sexo': 'Feminino', 'signo': 'Touro', 'cidade': 'Manaus', 'estado': 'AM', 'altura': '1,51', 'peso': 67, 'tipo_sanguineo': 'AB-', 'cor': 'roxo'}\n",
      "INSERT INTO tb_pessoa(nome, idade, data_nasc, sexo, signo, altura, peso, id_cidade, id_cor, id_tiposanguineo) VALUES('Juliana Vanessa', 37, '1983-04-27 00:00:00', 'F', 'Touro', 1.51, 67,                (SELECT id_cidade FROM tb_cidade WHERE nome = 'Manaus'),                (SELECT id_cor FROM tb_cor WHERE cor = 'roxo'),                (SELECT id_tiposanguineo FROM tb_tiposanguineo WHERE tipo = 'AB-')) \n",
      "{'nome': 'Milena Rosângela', 'idade': None, 'data_nasc': '11/02/1989', 'sexo': 'Feminino', 'signo': 'Aquário', 'cidade': 'Macapá', 'estado': 'AP', 'altura': '1,58', 'peso': 88, 'tipo_sanguineo': 'B+', 'cor': 'azul'}\n",
      "INSERT INTO tb_pessoa(nome, idade, data_nasc, sexo, signo, altura, peso, id_cidade, id_cor, id_tiposanguineo) VALUES('Milena Rosângela', 31, '1989-02-11 00:00:00', 'F', 'Aquário', 1.58, 88,                (SELECT id_cidade FROM tb_cidade WHERE nome = 'Macapá'),                (SELECT id_cor FROM tb_cor WHERE cor = 'azul'),                (SELECT id_tiposanguineo FROM tb_tiposanguineo WHERE tipo = 'B+')) \n"
     ]
    },
    {
     "name": "stdout",
     "output_type": "stream",
     "text": [
      "{'nome': 'Osvaldo Augusto', 'idade': 41, 'data_nasc': '15/04/1979', 'sexo': 'Masculino', 'signo': 'Áries', 'cidade': 'Cuiabá', 'estado': 'MT', 'altura': '1,79', 'peso': 107, 'tipo_sanguineo': 'A-', 'cor': 'preto'}\n",
      "INSERT INTO tb_pessoa(nome, idade, data_nasc, sexo, signo, altura, peso, id_cidade, id_cor, id_tiposanguineo) VALUES('Osvaldo Augusto', 41, '1979-04-15 00:00:00', 'M', 'Áries', 1.79, 107,                (SELECT id_cidade FROM tb_cidade WHERE nome = 'Cuiabá'),                (SELECT id_cor FROM tb_cor WHERE cor = 'preto'),                (SELECT id_tiposanguineo FROM tb_tiposanguineo WHERE tipo = 'A-')) \n",
      "{'nome': 'Nathan Igor', 'idade': 57, 'data_nasc': '17/10/1963', 'sexo': 'Masculino', 'signo': 'Libra', 'cidade': 'Santa Luzia do Itanhy', 'estado': 'SE', 'altura': '1,86', 'peso': 91, 'tipo_sanguineo': 'B+', 'cor': 'vermelho'}\n",
      "INSERT INTO tb_pessoa(nome, idade, data_nasc, sexo, signo, altura, peso, id_cidade, id_cor, id_tiposanguineo) VALUES('Nathan Igor', 57, '1963-10-17 00:00:00', 'M', 'Libra', 1.86, 91,                (SELECT id_cidade FROM tb_cidade WHERE nome = 'Santa Luzia do Itanhy'),                (SELECT id_cor FROM tb_cor WHERE cor = 'vermelho'),                (SELECT id_tiposanguineo FROM tb_tiposanguineo WHERE tipo = 'B+')) \n",
      "{'nome': 'Letícia Patrícia', 'idade': 76, 'data_nasc': '07/11/1944', 'sexo': 'Feminino', 'signo': 'Escorpião', 'cidade': 'João Pessoa', 'estado': 'PB', 'altura': '1,62', 'peso': 64, 'tipo_sanguineo': 'AB-', 'cor': 'laranja'}\n",
      "INSERT INTO tb_pessoa(nome, idade, data_nasc, sexo, signo, altura, peso, id_cidade, id_cor, id_tiposanguineo) VALUES('Letícia Patrícia', 76, '1944-11-07 00:00:00', 'F', 'Escorpião', 1.62, 64,                (SELECT id_cidade FROM tb_cidade WHERE nome = 'João Pessoa'),                (SELECT id_cor FROM tb_cor WHERE cor = 'laranja'),                (SELECT id_tiposanguineo FROM tb_tiposanguineo WHERE tipo = 'AB-')) \n",
      "{'nome': 'Sophia Andrea', 'idade': 35, 'data_nasc': '23/07/1985', 'sexo': 'Feminino', 'signo': 'Leão', 'cidade': 'Manaus', 'estado': 'AM', 'altura': '1,63', 'peso': 47, 'tipo_sanguineo': 'AB+', 'cor': 'laranja'}\n",
      "INSERT INTO tb_pessoa(nome, idade, data_nasc, sexo, signo, altura, peso, id_cidade, id_cor, id_tiposanguineo) VALUES('Sophia Andrea', 35, '1985-07-23 00:00:00', 'F', 'Leão', 1.63, 47,                (SELECT id_cidade FROM tb_cidade WHERE nome = 'Manaus'),                (SELECT id_cor FROM tb_cor WHERE cor = 'laranja'),                (SELECT id_tiposanguineo FROM tb_tiposanguineo WHERE tipo = 'AB+')) \n",
      "{'nome': 'Aurora Lúcia', 'idade': 72, 'data_nasc': '19/01/1948', 'sexo': 'Feminino', 'signo': 'Capricórnio', 'cidade': 'Parnaíba', 'estado': 'PI', 'altura': '1,57', 'peso': 73, 'tipo_sanguineo': 'A-', 'cor': 'amarelo'}\n",
      "INSERT INTO tb_pessoa(nome, idade, data_nasc, sexo, signo, altura, peso, id_cidade, id_cor, id_tiposanguineo) VALUES('Aurora Lúcia', 72, '1948-01-19 00:00:00', 'F', 'Capricórnio', 1.57, 73,                (SELECT id_cidade FROM tb_cidade WHERE nome = 'Parnaíba'),                (SELECT id_cor FROM tb_cor WHERE cor = 'amarelo'),                (SELECT id_tiposanguineo FROM tb_tiposanguineo WHERE tipo = 'A-')) \n",
      "{'nome': 'Bruna Teresinha', 'idade': 42, 'data_nasc': '25/04/1978', 'sexo': 'Feminino', 'signo': 'Touro', 'cidade': 'Brusque', 'estado': 'SC', 'altura': '1,70', 'peso': 77, 'tipo_sanguineo': 'A-', 'cor': 'verde'}\n",
      "INSERT INTO tb_pessoa(nome, idade, data_nasc, sexo, signo, altura, peso, id_cidade, id_cor, id_tiposanguineo) VALUES('Bruna Teresinha', 42, '1978-04-25 00:00:00', 'F', 'Touro', 1.7, 77,                (SELECT id_cidade FROM tb_cidade WHERE nome = 'Brusque'),                (SELECT id_cor FROM tb_cor WHERE cor = 'verde'),                (SELECT id_tiposanguineo FROM tb_tiposanguineo WHERE tipo = 'A-')) \n",
      "{'nome': 'Erick Victor', 'idade': 52, 'data_nasc': '08/10', 'sexo': 'Masculino', 'signo': 'Libra', 'cidade': 'Salvador', 'estado': 'BA', 'altura': '1,68', 'peso': 104, 'tipo_sanguineo': 'B-', 'cor': 'laranja'}\n",
      "INSERT INTO tb_pessoa(nome, idade, data_nasc, sexo, signo, altura, peso, id_cidade, id_cor, id_tiposanguineo) VALUES('Erick Victor', 52, '1968-10-08 00:00:00', 'M', 'Libra', 1.68, 104,                (SELECT id_cidade FROM tb_cidade WHERE nome = 'Salvador'),                (SELECT id_cor FROM tb_cor WHERE cor = 'laranja'),                (SELECT id_tiposanguineo FROM tb_tiposanguineo WHERE tipo = 'B-')) \n",
      "{'nome': 'Gabrielly Stella', 'idade': 39, 'data_nasc': '16/10/1981', 'sexo': 'Feminino', 'signo': 'Libra', 'cidade': 'Campo Grande', 'estado': 'MS', 'altura': '1,77', 'peso': 70, 'tipo_sanguineo': 'A-', 'cor': 'amarelo'}\n",
      "INSERT INTO tb_pessoa(nome, idade, data_nasc, sexo, signo, altura, peso, id_cidade, id_cor, id_tiposanguineo) VALUES('Gabrielly Stella', 39, '1981-10-16 00:00:00', 'F', 'Libra', 1.77, 70,                (SELECT id_cidade FROM tb_cidade WHERE nome = 'Campo Grande'),                (SELECT id_cor FROM tb_cor WHERE cor = 'amarelo'),                (SELECT id_tiposanguineo FROM tb_tiposanguineo WHERE tipo = 'A-')) \n",
      "{'nome': 'Osvaldo Vitor', 'idade': 46, 'data_nasc': '06/05/1974', 'sexo': 'Masculino', 'signo': 'Touro', 'cidade': 'Manaus', 'estado': 'AM', 'altura': '1,67', 'peso': 74, 'tipo_sanguineo': 'O-', 'cor': 'vermelho'}\n",
      "INSERT INTO tb_pessoa(nome, idade, data_nasc, sexo, signo, altura, peso, id_cidade, id_cor, id_tiposanguineo) VALUES('Osvaldo Vitor', 46, '1974-05-06 00:00:00', 'M', 'Touro', 1.67, 74,                (SELECT id_cidade FROM tb_cidade WHERE nome = 'Manaus'),                (SELECT id_cor FROM tb_cor WHERE cor = 'vermelho'),                (SELECT id_tiposanguineo FROM tb_tiposanguineo WHERE tipo = 'O-')) \n",
      "{'nome': 'Alana Kamilly', 'idade': 33, 'data_nasc': '12/01/1987', 'sexo': 'Feminino', 'signo': 'Capricórnio', 'cidade': 'Boa Vista', 'estado': 'RR', 'altura': '1,59', 'peso': 88, 'tipo_sanguineo': 'B+', 'cor': 'amarelo'}\n",
      "INSERT INTO tb_pessoa(nome, idade, data_nasc, sexo, signo, altura, peso, id_cidade, id_cor, id_tiposanguineo) VALUES('Alana Kamilly', 33, '1987-01-12 00:00:00', 'F', 'Capricórnio', 1.59, 88,                (SELECT id_cidade FROM tb_cidade WHERE nome = 'Boa Vista'),                (SELECT id_cor FROM tb_cor WHERE cor = 'amarelo'),                (SELECT id_tiposanguineo FROM tb_tiposanguineo WHERE tipo = 'B+')) \n",
      "{'nome': 'Bryan Kaique', 'idade': 62, 'data_nasc': '19/06/1958', 'sexo': 'Masculino', 'signo': 'Gêmeos', 'cidade': 'Aracaju', 'estado': 'SE', 'altura': '1,62', 'peso': 110, 'tipo_sanguineo': 'B-', 'cor': 'vermelho'}\n",
      "INSERT INTO tb_pessoa(nome, idade, data_nasc, sexo, signo, altura, peso, id_cidade, id_cor, id_tiposanguineo) VALUES('Bryan Kaique', 62, '1958-06-19 00:00:00', 'M', 'Gêmeos', 1.62, 110,                (SELECT id_cidade FROM tb_cidade WHERE nome = 'Aracaju'),                (SELECT id_cor FROM tb_cor WHERE cor = 'vermelho'),                (SELECT id_tiposanguineo FROM tb_tiposanguineo WHERE tipo = 'B-')) \n",
      "{'nome': 'Benedito Renato', 'idade': 33, 'data_nasc': '08/10/1987', 'sexo': 'Masculino', 'signo': 'Libra', 'cidade': 'Rio Grande', 'estado': 'RS', 'altura': '1,88', 'peso': 81, 'tipo_sanguineo': 'B-', 'cor': 'laranja'}\n",
      "INSERT INTO tb_pessoa(nome, idade, data_nasc, sexo, signo, altura, peso, id_cidade, id_cor, id_tiposanguineo) VALUES('Benedito Renato', 33, '1987-10-08 00:00:00', 'M', 'Libra', 1.88, 81,                (SELECT id_cidade FROM tb_cidade WHERE nome = 'Rio Grande'),                (SELECT id_cor FROM tb_cor WHERE cor = 'laranja'),                (SELECT id_tiposanguineo FROM tb_tiposanguineo WHERE tipo = 'B-')) \n",
      "{'nome': 'Kaique Isaac', 'idade': None, 'data_nasc': '16/12/1971', 'sexo': 'Masculino', 'signo': 'Sagitário', 'cidade': 'Juazeiro do Norte', 'estado': 'CE', 'altura': '1,89', 'peso': 100, 'tipo_sanguineo': 'O+', 'cor': 'preto'}\n",
      "INSERT INTO tb_pessoa(nome, idade, data_nasc, sexo, signo, altura, peso, id_cidade, id_cor, id_tiposanguineo) VALUES('Kaique Isaac', 48, '1971-12-16 00:00:00', 'M', 'Sagitário', 1.89, 100,                (SELECT id_cidade FROM tb_cidade WHERE nome = 'Juazeiro do Norte'),                (SELECT id_cor FROM tb_cor WHERE cor = 'preto'),                (SELECT id_tiposanguineo FROM tb_tiposanguineo WHERE tipo = 'O+')) \n",
      "{'nome': 'Luiz Benjamin', 'idade': 52, 'data_nasc': '03/07/1968', 'sexo': 'Masculino', 'signo': 'Câncer', 'cidade': 'Natal', 'estado': 'RN', 'altura': '1,84', 'peso': 77, 'tipo_sanguineo': 'AB-', 'cor': 'verde'}\n",
      "INSERT INTO tb_pessoa(nome, idade, data_nasc, sexo, signo, altura, peso, id_cidade, id_cor, id_tiposanguineo) VALUES('Luiz Benjamin', 52, '1968-07-03 00:00:00', 'M', 'Câncer', 1.84, 77,                (SELECT id_cidade FROM tb_cidade WHERE nome = 'Natal'),                (SELECT id_cor FROM tb_cor WHERE cor = 'verde'),                (SELECT id_tiposanguineo FROM tb_tiposanguineo WHERE tipo = 'AB-')) \n",
      "{'nome': 'Fábio Roberto', 'idade': 75, 'data_nasc': '24/12', 'sexo': 'Masculino', 'signo': 'Capricórnio', 'cidade': 'Londrina', 'estado': 'PR', 'altura': '2,00', 'peso': 56, 'tipo_sanguineo': 'A+', 'cor': 'amarelo'}\n",
      "1945\n",
      "1944\n",
      "INSERT INTO tb_pessoa(nome, idade, data_nasc, sexo, signo, altura, peso, id_cidade, id_cor, id_tiposanguineo) VALUES('Fábio Roberto', 75, '1944-12-24 00:00:00', 'M', 'Capricórnio', 2.0, 56,                (SELECT id_cidade FROM tb_cidade WHERE nome = 'Londrina'),                (SELECT id_cor FROM tb_cor WHERE cor = 'amarelo'),                (SELECT id_tiposanguineo FROM tb_tiposanguineo WHERE tipo = 'A+')) \n"
     ]
    },
    {
     "name": "stdout",
     "output_type": "stream",
     "text": [
      "{'nome': 'Evelyn Julia', 'idade': None, 'data_nasc': '18/01/1978', 'sexo': 'Feminino', 'signo': 'Capricórnio', 'cidade': 'Aracaju', 'estado': 'SE', 'altura': '1,79', 'peso': 51, 'tipo_sanguineo': 'B+', 'cor': 'vermelho'}\n",
      "INSERT INTO tb_pessoa(nome, idade, data_nasc, sexo, signo, altura, peso, id_cidade, id_cor, id_tiposanguineo) VALUES('Evelyn Julia', 42, '1978-01-18 00:00:00', 'F', 'Capricórnio', 1.79, 51,                (SELECT id_cidade FROM tb_cidade WHERE nome = 'Aracaju'),                (SELECT id_cor FROM tb_cor WHERE cor = 'vermelho'),                (SELECT id_tiposanguineo FROM tb_tiposanguineo WHERE tipo = 'B+')) \n",
      "{'nome': 'Otávio Cláudio', 'idade': None, 'data_nasc': '04/01/1988', 'sexo': 'Masculino', 'signo': 'Capricórnio', 'cidade': 'Imperatriz', 'estado': 'MA', 'altura': '1,72', 'peso': 99, 'tipo_sanguineo': 'AB+', 'cor': 'azul'}\n",
      "INSERT INTO tb_pessoa(nome, idade, data_nasc, sexo, signo, altura, peso, id_cidade, id_cor, id_tiposanguineo) VALUES('Otávio Cláudio', 32, '1988-01-04 00:00:00', 'M', 'Capricórnio', 1.72, 99,                (SELECT id_cidade FROM tb_cidade WHERE nome = 'Imperatriz'),                (SELECT id_cor FROM tb_cor WHERE cor = 'azul'),                (SELECT id_tiposanguineo FROM tb_tiposanguineo WHERE tipo = 'AB+')) \n"
     ]
    }
   ],
   "source": [
    "for pessoa in dados:\n",
    "   print(pessoa)\n",
    "\n",
    "   if pessoa['idade']  == None:\n",
    "      agora = datetime.today()\n",
    "      data_nasc = datetime.strptime(pessoa['data_nasc'], '%d/%m/%Y')    \n",
    "      diff =  relativedelta(agora,data_nasc)\n",
    "      idade = diff.years\n",
    "   elif len(pessoa['data_nasc']) == 5:\n",
    "      agora = datetime.today()\n",
    "      data_str = pessoa['data_nasc'] + '/' + str(agora.year)  \n",
    "      data_aux =  datetime.strptime(data_str, '%d/%m/%Y')  \n",
    "      ano = agora.year - pessoa['idade']\n",
    "      if data_aux > agora:\n",
    "         print(str(ano)) \n",
    "         ano -= 1 \n",
    "         print(str(ano))        \n",
    "      data_str = pessoa['data_nasc'] + '/' + str(ano)\n",
    "      data_nasc = datetime.strptime(data_str, '%d/%m/%Y')\n",
    "      idade = pessoa['idade']\n",
    "   else:\n",
    "      data_nasc = datetime.strptime(pessoa['data_nasc'], '%d/%m/%Y')\n",
    "      idade = pessoa['idade']\n",
    "    \n",
    "   altura = float(pessoa['altura'].replace(',','.')) \n",
    "\n",
    "   sexo = pessoa['sexo'][0]\n",
    "   #print(str(idade))  \n",
    "   #print(data_nasc)\n",
    "    \n",
    "   query = \"INSERT INTO tb_pessoa(nome, idade, data_nasc, sexo, signo, altura, peso, id_cidade, id_cor, id_tiposanguineo) \" \n",
    "   query += \"VALUES('%s', %s, '%s', '%s', '%s', %s, %s, \\\n",
    "               (SELECT id_cidade FROM tb_cidade WHERE nome = '%s'), \\\n",
    "               (SELECT id_cor FROM tb_cor WHERE cor = '%s'), \\\n",
    "               (SELECT id_tiposanguineo FROM tb_tiposanguineo WHERE tipo = '%s')) \" % (pessoa['nome'], idade, data_nasc, sexo, pessoa['signo'], altura, pessoa['peso'], pessoa['cidade'], pessoa['cor'], pessoa['tipo_sanguineo'])\n",
    "   \n",
    "   print(query)\n",
    "   mycursor.execute(query)\n",
    "\n",
    "   #Fazer a confirmação da inserção    \n",
    "   mydb.commit()"
   ]
  },
  {
   "cell_type": "code",
   "execution_count": 97,
   "metadata": {},
   "outputs": [],
   "source": [
    "mydb.close()"
   ]
  },
  {
   "cell_type": "markdown",
   "metadata": {},
   "source": [
    "## Respondendo ao Desafio"
   ]
  },
  {
   "cell_type": "code",
   "execution_count": 25,
   "metadata": {},
   "outputs": [],
   "source": [
    "import mysql.connector"
   ]
  },
  {
   "cell_type": "code",
   "execution_count": 26,
   "metadata": {},
   "outputs": [
    {
     "name": "stdout",
     "output_type": "stream",
     "text": [
      "<mysql.connector.connection_cext.CMySQLConnection object at 0x00000000055021F0>\n"
     ]
    }
   ],
   "source": [
    "mydb = mysql.connector.connect(\n",
    "    host='localhost',\n",
    "    user='root',\n",
    "    password='igti',\n",
    "    database='db_desafio'\n",
    ")\n",
    "\n",
    "print(mydb)\n",
    "\n",
    "mycursor = mydb.cursor()"
   ]
  },
  {
   "cell_type": "code",
   "execution_count": 27,
   "metadata": {},
   "outputs": [
    {
     "name": "stdout",
     "output_type": "stream",
     "text": [
      "('tb_cidade',)\n",
      "('tb_cor',)\n",
      "('tb_estado',)\n",
      "('tb_pessoa',)\n",
      "('tb_tiposanguineo',)\n"
     ]
    }
   ],
   "source": [
    "mycursor.execute(\"SHOW TABLES\")\n",
    "\n",
    "for tb in mycursor:\n",
    "    print(tb)"
   ]
  },
  {
   "cell_type": "markdown",
   "metadata": {},
   "source": [
    "### Pergunta 1\n",
    "#### Quantas pessoas possuem idade maior ou igual a 50 anos?\n",
    "##### Resposta: 30"
   ]
  },
  {
   "cell_type": "code",
   "execution_count": 4,
   "metadata": {},
   "outputs": [
    {
     "name": "stdout",
     "output_type": "stream",
     "text": [
      "(30,)\n"
     ]
    }
   ],
   "source": [
    "mycursor.execute(\"select count(*) from tb_pessoa where idade >= 50\")\n",
    "\n",
    "myresult = mycursor.fetchone()\n",
    "\n",
    "print(myresult)"
   ]
  },
  {
   "cell_type": "markdown",
   "metadata": {},
   "source": [
    "### Pergunta 2\n",
    "#### Qual a média de idade das pessoas que moram em Mato Grosso?\n",
    "##### Resposta: 44.6000"
   ]
  },
  {
   "cell_type": "code",
   "execution_count": 13,
   "metadata": {},
   "outputs": [
    {
     "name": "stdout",
     "output_type": "stream",
     "text": [
      "('MT', Decimal('44.6000'))\n"
     ]
    }
   ],
   "source": [
    "mycursor.execute(\"select e.sigla, avg(p.idade)\\\n",
    "                  from tb_pessoa p\\\n",
    "                  join tb_cidade c on c.id_cidade = p.id_cidade\\\n",
    "                  join tb_estado e on e.id_estado = c.id_estado\\\n",
    "                  where e.sigla = 'MT'\\\n",
    "                  group by e.sigla\")\n",
    "    \n",
    "myresult = mycursor.fetchone()\n",
    "\n",
    "print(myresult)"
   ]
  },
  {
   "cell_type": "markdown",
   "metadata": {},
   "source": [
    "### Pergunta 3\n",
    "#### Quantas pessoas nasceram nos anos de 1968 a 1978 (incluindo 1968 e 1978)?\n",
    "##### Resposta: 14"
   ]
  },
  {
   "cell_type": "code",
   "execution_count": 14,
   "metadata": {},
   "outputs": [
    {
     "name": "stdout",
     "output_type": "stream",
     "text": [
      "(14,)\n"
     ]
    }
   ],
   "source": [
    "mycursor.execute(\"select count(*) from tb_pessoa where data_nasc between '1968-01-01' and '1978-12-31'\")\n",
    "\n",
    "myresult = mycursor.fetchone()\n",
    "\n",
    "print(myresult)"
   ]
  },
  {
   "cell_type": "markdown",
   "metadata": {},
   "source": [
    "### Pergunta 4\n",
    "#### Ao executar o seguinte comando SQL no banco de dados criado, qual é o valor retornado?\n",
    "##### Resposta: 4"
   ]
  },
  {
   "cell_type": "code",
   "execution_count": 19,
   "metadata": {},
   "outputs": [
    {
     "name": "stdout",
     "output_type": "stream",
     "text": [
      "(4,)\n"
     ]
    }
   ],
   "source": [
    "mycursor.execute(\"select count(*) from tb_pessoa\\\n",
    "  inner join tb_tiposanguineo on tb_pessoa.id_tiposanguineo = tb_tiposanguineo.id_tiposanguineo\\\n",
    "  inner join tb_cidade on tb_pessoa.id_cidade = tb_cidade.id_cidade\\\n",
    "  inner join tb_estado on tb_cidade.id_estado = tb_estado.id_estado\\\n",
    "  where tb_tiposanguineo.tipo like 'AB-'\\\n",
    "   and (tb_estado.sigla = 'AP' or tb_estado.sigla = 'PE')\")\n",
    "\n",
    "myresult = mycursor.fetchone()\n",
    "\n",
    "print(myresult)   "
   ]
  },
  {
   "cell_type": "markdown",
   "metadata": {},
   "source": [
    "### Pergunta 5\n",
    "#### Qual o nome da pessoa mais velha na base de dados?\n",
    "##### Resposta: Thales Bento', 78, datetime.datetime(1942, 4, 18, 0, 0) => Menor data de nascimento é o mais velho"
   ]
  },
  {
   "cell_type": "code",
   "execution_count": 22,
   "metadata": {},
   "outputs": [
    {
     "name": "stdout",
     "output_type": "stream",
     "text": [
      "('Thales Bento', 78, datetime.datetime(1942, 4, 18, 0, 0))\n"
     ]
    }
   ],
   "source": [
    "mycursor.execute(\"select p.nome, p.idade, p.data_nasc from tb_pessoa p\\\n",
    "                  where p.idade = (select max(x.idade) idade from tb_pessoa x)\")\n",
    "\n",
    "myresult = mycursor.fetchone()\n",
    "\n",
    "print(myresult)   "
   ]
  },
  {
   "cell_type": "markdown",
   "metadata": {},
   "source": [
    "### Pergunta 6\n",
    "#### Qual o nome da pessoa mais nova da base de dados?\n",
    "##### João Pedro', 18, datetime.datetime(2002, 5, 8, 0, 0) => Maior data de nascimento é o mais novo\n"
   ]
  },
  {
   "cell_type": "code",
   "execution_count": 28,
   "metadata": {},
   "outputs": [
    {
     "name": "stdout",
     "output_type": "stream",
     "text": [
      "('João Pedro', 18, datetime.datetime(2002, 5, 8, 0, 0))\n"
     ]
    }
   ],
   "source": [
    "mycursor.execute(\"select p.nome, p.idade, p.data_nasc from tb_pessoa p\\\n",
    "                  where p.idade = (select min(x.idade) idade from tb_pessoa x)\")\n",
    "\n",
    "myresult = mycursor.fetchone()\n",
    "\n",
    "print(myresult) "
   ]
  },
  {
   "cell_type": "markdown",
   "metadata": {},
   "source": [
    "### Fecha Conexão com o banco de dados"
   ]
  },
  {
   "cell_type": "code",
   "execution_count": null,
   "metadata": {},
   "outputs": [],
   "source": [
    "mydb.close()"
   ]
  }
 ],
 "metadata": {
  "kernelspec": {
   "display_name": "Python 3",
   "language": "python",
   "name": "python3"
  },
  "language_info": {
   "codemirror_mode": {
    "name": "ipython",
    "version": 3
   },
   "file_extension": ".py",
   "mimetype": "text/x-python",
   "name": "python",
   "nbconvert_exporter": "python",
   "pygments_lexer": "ipython3",
   "version": "3.8.5"
  }
 },
 "nbformat": 4,
 "nbformat_minor": 4
}
