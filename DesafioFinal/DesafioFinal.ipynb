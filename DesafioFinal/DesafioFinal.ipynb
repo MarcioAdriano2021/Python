{
  "nbformat": 4,
  "nbformat_minor": 0,
  "metadata": {
    "colab": {
      "name": "DesafioFinal.ipynb",
      "provenance": [],
      "collapsed_sections": []
    },
    "kernelspec": {
      "name": "python3",
      "display_name": "Python 3"
    }
  },
  "cells": [
    {
      "cell_type": "markdown",
      "metadata": {
        "id": "RLGg5fFYmYIO"
      },
      "source": [
        "# **Desafio Final**\n",
        "\n",
        "O código abaixo responde as questões de 1 a 9 deste Desafio Final.\n",
        "As questões de 10 a 15 foram implementadas no código PyCharm utilizando Flask. (projeto desafio-final)."
      ]
    },
    {
      "cell_type": "markdown",
      "metadata": {
        "id": "v97RmJv1sFFa"
      },
      "source": [
        "**Enunciando no arquivo: Enunciado do Desafio Final – Desenvolvedor Python.pdf**"
      ]
    },
    {
      "cell_type": "markdown",
      "metadata": {
        "id": "ew7jqo3wm2VO"
      },
      "source": [
        "**Pergunta 1**\n",
        "Sobre as quantidades de instâncias e características presentes no dataset, é CORRETO afirmar:\n",
        "*Existem 768 instâncias e 9 características.*"
      ]
    },
    {
      "cell_type": "markdown",
      "metadata": {
        "id": "c2FDKYPonNwS"
      },
      "source": [
        "**Pergunta 2**\n",
        "Considerando apenas a carta utilizando o módulo pandas, quantos tipos de dados diferentes existem no dataset?\n",
        "*2 tipos diferentes de dados.* "
      ]
    },
    {
      "cell_type": "markdown",
      "metadata": {
        "id": "JgcNiZxMnl3Y"
      },
      "source": [
        "**Pergunta 3**\n",
        "Qual é a idade (coluna 7) média dos pacientes que são diabéticos (coluna 8=1)?\n",
        "*37,06 anos.* "
      ]
    },
    {
      "cell_type": "markdown",
      "metadata": {
        "id": "32HTNfFBn3yV"
      },
      "source": [
        "**Pergunta 4**\n",
        "Dentre os pacientes que NÃO tiveram diabetes (coluna 8 =0), qual é o número máximo de gestações (coluna 0) existentes?\n",
        "*13.* "
      ]
    },
    {
      "cell_type": "markdown",
      "metadata": {
        "id": "xtvfI_faoI9R"
      },
      "source": [
        "**Pergunta 5**\n",
        "Qual é a afirmação CORRETA sobre o valor 3,0 para a característica número de gestações (coluna 0)?\n",
        "*Indica que 50% dos valores presentes nessa coluna são maiores que 3.*"
      ]
    },
    {
      "cell_type": "markdown",
      "metadata": {
        "id": "lCaG2MtPo0zH"
      },
      "source": [
        "**Pergunta 6**\n",
        "Antes de normalizar, qual é o valor da mediana presente na coluna concentração de glicose (coluna 1)? \n",
        "*117.* "
      ]
    },
    {
      "cell_type": "markdown",
      "metadata": {
        "id": "S0JVL8JtpAyz"
      },
      "source": [
        "**Pergunta 7**\n",
        "Dentre as afirmações abaixo, qual está INCORRETA sobre o módulo pandas em python?\n",
        "*A criação dos dataframes só ocorre quando é utilizado o comando pandas.read_csv().*"
      ]
    },
    {
      "cell_type": "markdown",
      "metadata": {
        "id": "6avnz9WLpRXt"
      },
      "source": [
        "**Pergunta 8**\n",
        "Após dividir as colunas do dataframe entre entrada e saída, aplicar a normalização dos dados como apresentado no enunciado (MinMaxScaler()) e dividir esses dados entre treinamento e teste, aplique o algoritmo KNN. Qual é, aproximadamente, a acurácia do modelo?\n",
        "*0,68.*"
      ]
    },
    {
      "cell_type": "markdown",
      "metadata": {
        "id": "OrBzijefpncy"
      },
      "source": [
        "**Pergunta 9**\n",
        "Após dividir as colunas do dataframe entre entrada e saída, aplicar a normalização dos dados como apresentado no enunciado (MinMaxScaler()) e dividir esses dados entre treinamento e teste, aplique os algoritmos KNN, Árvore de Decisão e MLP. Qual dos algoritmos apresentou maior acurácia?\n",
        "*MLP.*"
      ]
    },
    {
      "cell_type": "markdown",
      "metadata": {
        "id": "1JgJ_752p5LZ"
      },
      "source": [
        "**Pergunta 10**\n",
        "Analisando o código HTML presente neste desafio, o que é INCORRETO dizer sobre a tag HTML <br>?\n",
        "*Está implementada de maneira equivocada, pois não está acompanhada da tag “end“ <\\br>.*"
      ]
    },
    {
      "cell_type": "markdown",
      "metadata": {
        "id": "trgeOpdtqKNI"
      },
      "source": [
        "**Pergunta 11**\n",
        "Sobre o código HTML presente neste desafio, é INCORRETO afirmar:\n",
        "*Como o HTML trabalha com textos, não é necessário converter as entradas em valores numéricos para serem utilizados no modelo de aprendizado de máquina.*"
      ]
    },
    {
      "cell_type": "markdown",
      "metadata": {
        "id": "N0gkGkeepyGQ"
      },
      "source": [
        "**Pergunta 12**\n",
        "Qual é a função das linhas 14 e 18 no código presente na Figura 5?\n",
        "*Indica qual URL deve chamar a função desejada.*"
      ]
    },
    {
      "cell_type": "markdown",
      "metadata": {
        "id": "DJ_-hDdErAd0"
      },
      "source": [
        "**Pergunta 13**\n",
        "Qual é o principal papel das linhas 33 e 34 no código presente na Figura 5? \n",
        "*Criar um servidor para receber as requisições.*"
      ]
    },
    {
      "cell_type": "markdown",
      "metadata": {
        "id": "07N_DL5ArQz7"
      },
      "source": [
        "**Pergunta 14**\n",
        "Qual é a ação executada pela linha 23, presente na Figura 5?\n",
        "*Criar um objeto mutável a partir do mapeamento de um iterable. (A lista é mutável)*"
      ]
    },
    {
      "cell_type": "markdown",
      "metadata": {
        "id": "0y0qPqF-smXD"
      },
      "source": [
        "**Pergunta 15**\n",
        "Qual das alternativas abaixo melhor explica o funcionamento final da junção de todos os códigos presentes neste desafio?\n",
        "*Capturar dados através de um formulário HTML, aplicar previsão a partir de um modelo e retornar a resposta via web.*"
      ]
    },
    {
      "cell_type": "markdown",
      "metadata": {
        "id": "D3L60_Wis22-"
      },
      "source": [
        "# **Código para responder as questões:**"
      ]
    },
    {
      "cell_type": "code",
      "metadata": {
        "id": "zUID46dR52w7"
      },
      "source": [
        "#importa as bibliotecas necessárias\n",
        "import pandas as pd\n",
        "import matplotlib.pyplot as plt"
      ],
      "execution_count": null,
      "outputs": []
    },
    {
      "cell_type": "markdown",
      "metadata": {
        "id": "2loWpkjF_pFo"
      },
      "source": [
        "**O dataset utilizado possui as seguintes colunas**:\n",
        "0. Número de vezes em que ficou grávida.\n",
        "1. Concentração de glicose.\n",
        "2. Pressão diastólica (mm Hg).\n",
        "3. Espessura da dobra cutânea do tríceps (mm).\n",
        "4. Insulina (mu U/ml).\n",
        "5. Índice de massa corporal (peso em kg/(altura em m)^2).\n",
        "6. Histórico familiar de diabetes.\n",
        "7. Idade (anos).\n",
        "8. Classificação (0 ou 1 - 0 não diabético / 1 diabético )"
      ]
    },
    {
      "cell_type": "code",
      "metadata": {
        "id": "KopBfoQv5_xI",
        "colab": {
          "base_uri": "https://localhost:8080/",
          "height": 204
        },
        "outputId": "90248982-74b2-4b74-9bf0-099e188dfed3"
      },
      "source": [
        "#leitura dos dados csv e cria o dataframe\n",
        "df = pd.read_csv(\"/content/pima-indians-diabetes.csv\",header=None,\n",
        "                 names=[\"gravidez\",\"glicose\",\"pressão\",\"espessura\",\"insulina\",\"massa\",\"histório\",\"idade\",\"classificação\"])\n",
        "df.head()"
      ],
      "execution_count": null,
      "outputs": [
        {
          "output_type": "execute_result",
          "data": {
            "text/html": [
              "<div>\n",
              "<style scoped>\n",
              "    .dataframe tbody tr th:only-of-type {\n",
              "        vertical-align: middle;\n",
              "    }\n",
              "\n",
              "    .dataframe tbody tr th {\n",
              "        vertical-align: top;\n",
              "    }\n",
              "\n",
              "    .dataframe thead th {\n",
              "        text-align: right;\n",
              "    }\n",
              "</style>\n",
              "<table border=\"1\" class=\"dataframe\">\n",
              "  <thead>\n",
              "    <tr style=\"text-align: right;\">\n",
              "      <th></th>\n",
              "      <th>gravidez</th>\n",
              "      <th>glicose</th>\n",
              "      <th>pressão</th>\n",
              "      <th>espessura</th>\n",
              "      <th>insulina</th>\n",
              "      <th>massa</th>\n",
              "      <th>histório</th>\n",
              "      <th>idade</th>\n",
              "      <th>classificação</th>\n",
              "    </tr>\n",
              "  </thead>\n",
              "  <tbody>\n",
              "    <tr>\n",
              "      <th>0</th>\n",
              "      <td>6</td>\n",
              "      <td>148</td>\n",
              "      <td>72</td>\n",
              "      <td>35</td>\n",
              "      <td>0</td>\n",
              "      <td>33.6</td>\n",
              "      <td>0.627</td>\n",
              "      <td>50</td>\n",
              "      <td>1</td>\n",
              "    </tr>\n",
              "    <tr>\n",
              "      <th>1</th>\n",
              "      <td>1</td>\n",
              "      <td>85</td>\n",
              "      <td>66</td>\n",
              "      <td>29</td>\n",
              "      <td>0</td>\n",
              "      <td>26.6</td>\n",
              "      <td>0.351</td>\n",
              "      <td>31</td>\n",
              "      <td>0</td>\n",
              "    </tr>\n",
              "    <tr>\n",
              "      <th>2</th>\n",
              "      <td>8</td>\n",
              "      <td>183</td>\n",
              "      <td>64</td>\n",
              "      <td>0</td>\n",
              "      <td>0</td>\n",
              "      <td>23.3</td>\n",
              "      <td>0.672</td>\n",
              "      <td>32</td>\n",
              "      <td>1</td>\n",
              "    </tr>\n",
              "    <tr>\n",
              "      <th>3</th>\n",
              "      <td>1</td>\n",
              "      <td>89</td>\n",
              "      <td>66</td>\n",
              "      <td>23</td>\n",
              "      <td>94</td>\n",
              "      <td>28.1</td>\n",
              "      <td>0.167</td>\n",
              "      <td>21</td>\n",
              "      <td>0</td>\n",
              "    </tr>\n",
              "    <tr>\n",
              "      <th>4</th>\n",
              "      <td>0</td>\n",
              "      <td>137</td>\n",
              "      <td>40</td>\n",
              "      <td>35</td>\n",
              "      <td>168</td>\n",
              "      <td>43.1</td>\n",
              "      <td>2.288</td>\n",
              "      <td>33</td>\n",
              "      <td>1</td>\n",
              "    </tr>\n",
              "  </tbody>\n",
              "</table>\n",
              "</div>"
            ],
            "text/plain": [
              "   gravidez  glicose  pressão  espessura  ...  massa  histório  idade  classificação\n",
              "0         6      148       72         35  ...   33.6     0.627     50              1\n",
              "1         1       85       66         29  ...   26.6     0.351     31              0\n",
              "2         8      183       64          0  ...   23.3     0.672     32              1\n",
              "3         1       89       66         23  ...   28.1     0.167     21              0\n",
              "4         0      137       40         35  ...   43.1     2.288     33              1\n",
              "\n",
              "[5 rows x 9 columns]"
            ]
          },
          "metadata": {
            "tags": []
          },
          "execution_count": 2
        }
      ]
    },
    {
      "cell_type": "code",
      "metadata": {
        "colab": {
          "base_uri": "https://localhost:8080/"
        },
        "id": "M7UtLSWMhF2A",
        "outputId": "13e60539-750c-4e2e-9fcf-658e3f5e3742"
      },
      "source": [
        "df.shape"
      ],
      "execution_count": null,
      "outputs": [
        {
          "output_type": "execute_result",
          "data": {
            "text/plain": [
              "(768, 9)"
            ]
          },
          "metadata": {
            "tags": []
          },
          "execution_count": 12
        }
      ]
    },
    {
      "cell_type": "code",
      "metadata": {
        "id": "6TqKO5x8-nik",
        "colab": {
          "base_uri": "https://localhost:8080/"
        },
        "outputId": "d40b9bf2-cbea-4a6f-f99f-696496c4bfc3"
      },
      "source": [
        "df.info()"
      ],
      "execution_count": null,
      "outputs": [
        {
          "output_type": "stream",
          "text": [
            "<class 'pandas.core.frame.DataFrame'>\n",
            "RangeIndex: 768 entries, 0 to 767\n",
            "Data columns (total 9 columns):\n",
            " #   Column         Non-Null Count  Dtype  \n",
            "---  ------         --------------  -----  \n",
            " 0   gravidez       768 non-null    int64  \n",
            " 1   glicose        768 non-null    int64  \n",
            " 2   pressão        768 non-null    int64  \n",
            " 3   espessura      768 non-null    int64  \n",
            " 4   insulina       768 non-null    int64  \n",
            " 5   massa          768 non-null    float64\n",
            " 6   histório       768 non-null    float64\n",
            " 7   idade          768 non-null    int64  \n",
            " 8   classificação  768 non-null    int64  \n",
            "dtypes: float64(2), int64(7)\n",
            "memory usage: 54.1 KB\n"
          ],
          "name": "stdout"
        }
      ]
    },
    {
      "cell_type": "code",
      "metadata": {
        "id": "a1pu9o_CC3zJ",
        "colab": {
          "base_uri": "https://localhost:8080/",
          "height": 297
        },
        "outputId": "c67cbb4e-2021-4191-cb0c-44e0a19c891f"
      },
      "source": [
        "# estatísticas básicas\n",
        "df.describe()"
      ],
      "execution_count": null,
      "outputs": [
        {
          "output_type": "execute_result",
          "data": {
            "text/html": [
              "<div>\n",
              "<style scoped>\n",
              "    .dataframe tbody tr th:only-of-type {\n",
              "        vertical-align: middle;\n",
              "    }\n",
              "\n",
              "    .dataframe tbody tr th {\n",
              "        vertical-align: top;\n",
              "    }\n",
              "\n",
              "    .dataframe thead th {\n",
              "        text-align: right;\n",
              "    }\n",
              "</style>\n",
              "<table border=\"1\" class=\"dataframe\">\n",
              "  <thead>\n",
              "    <tr style=\"text-align: right;\">\n",
              "      <th></th>\n",
              "      <th>gravidez</th>\n",
              "      <th>glicose</th>\n",
              "      <th>pressão</th>\n",
              "      <th>espessura</th>\n",
              "      <th>insulina</th>\n",
              "      <th>massa</th>\n",
              "      <th>histório</th>\n",
              "      <th>idade</th>\n",
              "      <th>classificação</th>\n",
              "    </tr>\n",
              "  </thead>\n",
              "  <tbody>\n",
              "    <tr>\n",
              "      <th>count</th>\n",
              "      <td>768.000000</td>\n",
              "      <td>768.000000</td>\n",
              "      <td>768.000000</td>\n",
              "      <td>768.000000</td>\n",
              "      <td>768.000000</td>\n",
              "      <td>768.000000</td>\n",
              "      <td>768.000000</td>\n",
              "      <td>768.000000</td>\n",
              "      <td>768.000000</td>\n",
              "    </tr>\n",
              "    <tr>\n",
              "      <th>mean</th>\n",
              "      <td>3.845052</td>\n",
              "      <td>120.894531</td>\n",
              "      <td>69.105469</td>\n",
              "      <td>20.536458</td>\n",
              "      <td>79.799479</td>\n",
              "      <td>31.992578</td>\n",
              "      <td>0.471876</td>\n",
              "      <td>33.240885</td>\n",
              "      <td>0.348958</td>\n",
              "    </tr>\n",
              "    <tr>\n",
              "      <th>std</th>\n",
              "      <td>3.369578</td>\n",
              "      <td>31.972618</td>\n",
              "      <td>19.355807</td>\n",
              "      <td>15.952218</td>\n",
              "      <td>115.244002</td>\n",
              "      <td>7.884160</td>\n",
              "      <td>0.331329</td>\n",
              "      <td>11.760232</td>\n",
              "      <td>0.476951</td>\n",
              "    </tr>\n",
              "    <tr>\n",
              "      <th>min</th>\n",
              "      <td>0.000000</td>\n",
              "      <td>0.000000</td>\n",
              "      <td>0.000000</td>\n",
              "      <td>0.000000</td>\n",
              "      <td>0.000000</td>\n",
              "      <td>0.000000</td>\n",
              "      <td>0.078000</td>\n",
              "      <td>21.000000</td>\n",
              "      <td>0.000000</td>\n",
              "    </tr>\n",
              "    <tr>\n",
              "      <th>25%</th>\n",
              "      <td>1.000000</td>\n",
              "      <td>99.000000</td>\n",
              "      <td>62.000000</td>\n",
              "      <td>0.000000</td>\n",
              "      <td>0.000000</td>\n",
              "      <td>27.300000</td>\n",
              "      <td>0.243750</td>\n",
              "      <td>24.000000</td>\n",
              "      <td>0.000000</td>\n",
              "    </tr>\n",
              "    <tr>\n",
              "      <th>50%</th>\n",
              "      <td>3.000000</td>\n",
              "      <td>117.000000</td>\n",
              "      <td>72.000000</td>\n",
              "      <td>23.000000</td>\n",
              "      <td>30.500000</td>\n",
              "      <td>32.000000</td>\n",
              "      <td>0.372500</td>\n",
              "      <td>29.000000</td>\n",
              "      <td>0.000000</td>\n",
              "    </tr>\n",
              "    <tr>\n",
              "      <th>75%</th>\n",
              "      <td>6.000000</td>\n",
              "      <td>140.250000</td>\n",
              "      <td>80.000000</td>\n",
              "      <td>32.000000</td>\n",
              "      <td>127.250000</td>\n",
              "      <td>36.600000</td>\n",
              "      <td>0.626250</td>\n",
              "      <td>41.000000</td>\n",
              "      <td>1.000000</td>\n",
              "    </tr>\n",
              "    <tr>\n",
              "      <th>max</th>\n",
              "      <td>17.000000</td>\n",
              "      <td>199.000000</td>\n",
              "      <td>122.000000</td>\n",
              "      <td>99.000000</td>\n",
              "      <td>846.000000</td>\n",
              "      <td>67.100000</td>\n",
              "      <td>2.420000</td>\n",
              "      <td>81.000000</td>\n",
              "      <td>1.000000</td>\n",
              "    </tr>\n",
              "  </tbody>\n",
              "</table>\n",
              "</div>"
            ],
            "text/plain": [
              "         gravidez     glicose  ...       idade  classificação\n",
              "count  768.000000  768.000000  ...  768.000000     768.000000\n",
              "mean     3.845052  120.894531  ...   33.240885       0.348958\n",
              "std      3.369578   31.972618  ...   11.760232       0.476951\n",
              "min      0.000000    0.000000  ...   21.000000       0.000000\n",
              "25%      1.000000   99.000000  ...   24.000000       0.000000\n",
              "50%      3.000000  117.000000  ...   29.000000       0.000000\n",
              "75%      6.000000  140.250000  ...   41.000000       1.000000\n",
              "max     17.000000  199.000000  ...   81.000000       1.000000\n",
              "\n",
              "[8 rows x 9 columns]"
            ]
          },
          "metadata": {
            "tags": []
          },
          "execution_count": 4
        }
      ]
    },
    {
      "cell_type": "code",
      "metadata": {
        "id": "SlWq0-3uYSKC",
        "colab": {
          "base_uri": "https://localhost:8080/"
        },
        "outputId": "e4c199b9-c99b-4413-c4d1-2d8101ce737f"
      },
      "source": [
        "cond = df['classificação'] == 1\n",
        "df[cond].mean()"
      ],
      "execution_count": null,
      "outputs": [
        {
          "output_type": "execute_result",
          "data": {
            "text/plain": [
              "gravidez           4.865672\n",
              "glicose          141.257463\n",
              "pressão           70.824627\n",
              "espessura         22.164179\n",
              "insulina         100.335821\n",
              "massa             35.142537\n",
              "histório           0.550500\n",
              "idade             37.067164\n",
              "classificação      1.000000\n",
              "dtype: float64"
            ]
          },
          "metadata": {
            "tags": []
          },
          "execution_count": 5
        }
      ]
    },
    {
      "cell_type": "code",
      "metadata": {
        "id": "ULj1sZBpZbfU",
        "colab": {
          "base_uri": "https://localhost:8080/"
        },
        "outputId": "a0565371-4b44-47a9-a02f-e9520bea07d0"
      },
      "source": [
        "cond = df['classificação'] == 1\n",
        "df[cond].loc[:, 'idade'].mean()"
      ],
      "execution_count": null,
      "outputs": [
        {
          "output_type": "execute_result",
          "data": {
            "text/plain": [
              "37.06716417910448"
            ]
          },
          "metadata": {
            "tags": []
          },
          "execution_count": 7
        }
      ]
    },
    {
      "cell_type": "code",
      "metadata": {
        "id": "LODFe3jVZtrS",
        "colab": {
          "base_uri": "https://localhost:8080/"
        },
        "outputId": "067c5cdd-a0b4-4c48-94b9-7bbf61cfc0c1"
      },
      "source": [
        "cond = df['classificação'] == 0\n",
        "df[cond].max()"
      ],
      "execution_count": null,
      "outputs": [
        {
          "output_type": "execute_result",
          "data": {
            "text/plain": [
              "gravidez          13.000\n",
              "glicose          197.000\n",
              "pressão          122.000\n",
              "espessura         60.000\n",
              "insulina         744.000\n",
              "massa             57.300\n",
              "histório           2.329\n",
              "idade             81.000\n",
              "classificação      0.000\n",
              "dtype: float64"
            ]
          },
          "metadata": {
            "tags": []
          },
          "execution_count": 8
        }
      ]
    },
    {
      "cell_type": "code",
      "metadata": {
        "id": "0PBEcqdEaNCy",
        "colab": {
          "base_uri": "https://localhost:8080/"
        },
        "outputId": "1d86cc17-9451-4ef9-d4f7-4945a5f1b8dc"
      },
      "source": [
        "cond = df['classificação'] == 0\n",
        "df[cond].loc[:, 'gravidez'].max()"
      ],
      "execution_count": null,
      "outputs": [
        {
          "output_type": "execute_result",
          "data": {
            "text/plain": [
              "13"
            ]
          },
          "metadata": {
            "tags": []
          },
          "execution_count": 14
        }
      ]
    },
    {
      "cell_type": "code",
      "metadata": {
        "id": "Vbb7DdASbQdv",
        "colab": {
          "base_uri": "https://localhost:8080/"
        },
        "outputId": "e01e6b2f-376d-46b9-8ef0-743be1af3c52"
      },
      "source": [
        "df.loc[:, 'glicose'].median()"
      ],
      "execution_count": null,
      "outputs": [
        {
          "output_type": "execute_result",
          "data": {
            "text/plain": [
              "117.0"
            ]
          },
          "metadata": {
            "tags": []
          },
          "execution_count": 15
        }
      ]
    },
    {
      "cell_type": "code",
      "metadata": {
        "id": "xEyUQoYlmI-K",
        "colab": {
          "base_uri": "https://localhost:8080/"
        },
        "outputId": "eb3a763d-22f0-48c1-fb07-1a57a0abda52"
      },
      "source": [
        "print(pd.Series(df['gravidez']))\n",
        "print(type(pd.Series(df['gravidez'])))"
      ],
      "execution_count": null,
      "outputs": [
        {
          "output_type": "stream",
          "text": [
            "0       6\n",
            "1       1\n",
            "2       8\n",
            "3       1\n",
            "4       0\n",
            "       ..\n",
            "763    10\n",
            "764     2\n",
            "765     5\n",
            "766     1\n",
            "767     1\n",
            "Name: gravidez, Length: 768, dtype: int64\n",
            "<class 'pandas.core.series.Series'>\n"
          ],
          "name": "stdout"
        }
      ]
    },
    {
      "cell_type": "code",
      "metadata": {
        "id": "PJqFjiBUDFpn",
        "colab": {
          "base_uri": "https://localhost:8080/"
        },
        "outputId": "951cb0f4-2313-4293-bbfc-428f949f60e2"
      },
      "source": [
        "#transforma os dados em array\n",
        "entradas = df.iloc[:, :-1].values  #dados de entrada\n",
        "saida = df.iloc[:, -1].values  #saídas ou target\n",
        "print(entradas)\n",
        "#print(saida)"
      ],
      "execution_count": null,
      "outputs": [
        {
          "output_type": "stream",
          "text": [
            "[[  6.    148.     72.    ...  33.6     0.627  50.   ]\n",
            " [  1.     85.     66.    ...  26.6     0.351  31.   ]\n",
            " [  8.    183.     64.    ...  23.3     0.672  32.   ]\n",
            " ...\n",
            " [  5.    121.     72.    ...  26.2     0.245  30.   ]\n",
            " [  1.    126.     60.    ...  30.1     0.349  47.   ]\n",
            " [  1.     93.     70.    ...  30.4     0.315  23.   ]]\n"
          ],
          "name": "stdout"
        }
      ]
    },
    {
      "cell_type": "code",
      "metadata": {
        "id": "2NtwZn7kDMty"
      },
      "source": [
        "# realiza o processo de normalização dos dados\n",
        "from sklearn.preprocessing import MinMaxScaler\n",
        "normaliza = MinMaxScaler() #objeto para a normalização\n",
        "#entradas_normalizadas\n",
        "entradas_normalizadas = normaliza.fit_transform(entradas) #realiza a normalização dos dados"
      ],
      "execution_count": null,
      "outputs": []
    },
    {
      "cell_type": "code",
      "metadata": {
        "id": "HT_1aqBCDvHZ"
      },
      "source": [
        "#realiza a divisão dos dados entre treinamento e teste\n",
        "from sklearn.model_selection import train_test_split # função que realiza a divisão do dataset\n",
        "# divide 30% para teste\n",
        "x_train, x_test, y_train, y_test = train_test_split(entradas_normalizadas, saida, test_size=0.30, random_state=42)"
      ],
      "execution_count": null,
      "outputs": []
    },
    {
      "cell_type": "markdown",
      "metadata": {
        "id": "SXNoe7DWEPir"
      },
      "source": [
        "**Algoritmo KNN:** clf_KNN bold text = KNeighborsClassifier(n_neighbors=5)"
      ]
    },
    {
      "cell_type": "code",
      "metadata": {
        "id": "vFOkUoPqERFQ",
        "colab": {
          "base_uri": "https://localhost:8080/"
        },
        "outputId": "ec40d0ad-2373-45ac-ff50-96e49a34ca35"
      },
      "source": [
        "#treina o modelo\n",
        "from sklearn.neighbors import KNeighborsClassifier\n",
        "clf_KNN = KNeighborsClassifier(n_neighbors=5) #utiliza a construção por meio de 5 vizinhos\n",
        "clf_KNN.fit(x_train, y_train) # Realiza o treinamento do classificador"
      ],
      "execution_count": null,
      "outputs": [
        {
          "output_type": "execute_result",
          "data": {
            "text/plain": [
              "KNeighborsClassifier(algorithm='auto', leaf_size=30, metric='minkowski',\n",
              "                     metric_params=None, n_jobs=None, n_neighbors=5, p=2,\n",
              "                     weights='uniform')"
            ]
          },
          "metadata": {
            "tags": []
          },
          "execution_count": 21
        }
      ]
    },
    {
      "cell_type": "code",
      "metadata": {
        "id": "_bsK50S_Ekbt"
      },
      "source": [
        "#Realiza a previsão de classificaçao\n",
        "y_pred_KNN = clf_KNN.predict(x_test)"
      ],
      "execution_count": null,
      "outputs": []
    },
    {
      "cell_type": "code",
      "metadata": {
        "id": "T2t1_oc8Et6N",
        "colab": {
          "base_uri": "https://localhost:8080/"
        },
        "outputId": "0fcf37f7-d997-43fc-ee54-c687539f0a33"
      },
      "source": [
        "#constroi a matriz de confusão para comparar o modelo criado\n",
        "from sklearn.metrics import classification_report, confusion_matrix\n",
        "print(confusion_matrix(y_test, y_pred_KNN))\n",
        "print(classification_report(y_test, y_pred_KNN))"
      ],
      "execution_count": null,
      "outputs": [
        {
          "output_type": "stream",
          "text": [
            "[[118  33]\n",
            " [ 41  39]]\n",
            "              precision    recall  f1-score   support\n",
            "\n",
            "           0       0.74      0.78      0.76       151\n",
            "           1       0.54      0.49      0.51        80\n",
            "\n",
            "    accuracy                           0.68       231\n",
            "   macro avg       0.64      0.63      0.64       231\n",
            "weighted avg       0.67      0.68      0.68       231\n",
            "\n"
          ],
          "name": "stdout"
        }
      ]
    },
    {
      "cell_type": "code",
      "metadata": {
        "id": "Hcdx-fSkJ9fb",
        "colab": {
          "base_uri": "https://localhost:8080/"
        },
        "outputId": "9d7a6141-2122-48be-b7af-d4dbe206a211"
      },
      "source": [
        "from sklearn.metrics import accuracy_score\n",
        "acuracia_KNN = accuracy_score(y_test, y_pred_KNN)\n",
        "print('Acurácia KNN: ',acuracia_KNN)"
      ],
      "execution_count": null,
      "outputs": [
        {
          "output_type": "stream",
          "text": [
            "Acurácia KNN:  0.6796536796536796\n"
          ],
          "name": "stdout"
        }
      ]
    },
    {
      "cell_type": "markdown",
      "metadata": {
        "id": "1_Ykj0NtE-Aw"
      },
      "source": [
        "**Algoritmo Árvore de Decisão:** clf_arvore = DecisionTreeClassifier(random_state=1)"
      ]
    },
    {
      "cell_type": "code",
      "metadata": {
        "id": "blR6FvuvE--q",
        "colab": {
          "base_uri": "https://localhost:8080/"
        },
        "outputId": "ff5e713f-4ba9-44a8-8bd8-d0ce76e28a54"
      },
      "source": [
        "#treina o modelo\n",
        "from sklearn.tree import DecisionTreeClassifier # importa o classificador árvore de decisão\n",
        "clf_arvore = DecisionTreeClassifier(random_state=1)\n",
        "clf_arvore.fit(x_train,y_train) # Realiza o treinamento do classificador"
      ],
      "execution_count": null,
      "outputs": [
        {
          "output_type": "execute_result",
          "data": {
            "text/plain": [
              "DecisionTreeClassifier(ccp_alpha=0.0, class_weight=None, criterion='gini',\n",
              "                       max_depth=None, max_features=None, max_leaf_nodes=None,\n",
              "                       min_impurity_decrease=0.0, min_impurity_split=None,\n",
              "                       min_samples_leaf=1, min_samples_split=2,\n",
              "                       min_weight_fraction_leaf=0.0, presort='deprecated',\n",
              "                       random_state=1, splitter='best')"
            ]
          },
          "metadata": {
            "tags": []
          },
          "execution_count": 25
        }
      ]
    },
    {
      "cell_type": "code",
      "metadata": {
        "id": "4IsrlR1rFQ4g"
      },
      "source": [
        "#Realiza a previsão de classificaçao \n",
        "y_pred_arvore = clf_arvore.predict(x_test)"
      ],
      "execution_count": null,
      "outputs": []
    },
    {
      "cell_type": "code",
      "metadata": {
        "id": "dHT36q6FFcNv",
        "colab": {
          "base_uri": "https://localhost:8080/"
        },
        "outputId": "6f98d079-b74f-4f8b-864a-1e48f667cbd6"
      },
      "source": [
        "#constroi a matriz de confusão para comparar o modelo criado\n",
        "from sklearn.metrics import classification_report, confusion_matrix\n",
        "print(confusion_matrix(y_test, y_pred_arvore))\n",
        "print(classification_report(y_test, y_pred_arvore))"
      ],
      "execution_count": null,
      "outputs": [
        {
          "output_type": "stream",
          "text": [
            "[[106  45]\n",
            " [ 25  55]]\n",
            "              precision    recall  f1-score   support\n",
            "\n",
            "           0       0.81      0.70      0.75       151\n",
            "           1       0.55      0.69      0.61        80\n",
            "\n",
            "    accuracy                           0.70       231\n",
            "   macro avg       0.68      0.69      0.68       231\n",
            "weighted avg       0.72      0.70      0.70       231\n",
            "\n"
          ],
          "name": "stdout"
        }
      ]
    },
    {
      "cell_type": "code",
      "metadata": {
        "id": "zbKqKGDfJrRh",
        "colab": {
          "base_uri": "https://localhost:8080/"
        },
        "outputId": "456947da-19ab-4b44-9d8d-14a4a926b6fc"
      },
      "source": [
        "from sklearn.metrics import accuracy_score\n",
        "acuracia_arvore = accuracy_score(y_test, y_pred_arvore)\n",
        "print('Acurácia da árvore de Decisão: ',acuracia_arvore)"
      ],
      "execution_count": null,
      "outputs": [
        {
          "output_type": "stream",
          "text": [
            "Acurácia da árvore de Decisão:  0.696969696969697\n"
          ],
          "name": "stdout"
        }
      ]
    },
    {
      "cell_type": "markdown",
      "metadata": {
        "id": "XQ0sb6RSFqMN"
      },
      "source": [
        "**Algoritmo Rede MLP :**\n",
        "clf_mlp = MLPClassifier(solver='lbfgs', alpha=1e-5, hidden_layer_sizes=(5,\n",
        "10), random_state=1)"
      ]
    },
    {
      "cell_type": "code",
      "metadata": {
        "id": "UlPBKhShFrac",
        "colab": {
          "base_uri": "https://localhost:8080/"
        },
        "outputId": "bf7ac72d-38bc-41ca-cdf9-a27655f5760a"
      },
      "source": [
        "#treina o modelo\n",
        "from sklearn.neural_network import MLPClassifier # importa o classificador Redes Neurais (MLP)\n",
        "clf_mlp = MLPClassifier(solver='lbfgs', alpha=1e-5, hidden_layer_sizes=(5, 10), random_state=1)\n",
        "clf_mlp.fit(x_train,y_train) # Realiza o treinamento do classificador"
      ],
      "execution_count": null,
      "outputs": [
        {
          "output_type": "stream",
          "text": [
            "/usr/local/lib/python3.6/dist-packages/sklearn/neural_network/_multilayer_perceptron.py:470: ConvergenceWarning: lbfgs failed to converge (status=1):\n",
            "STOP: TOTAL NO. of ITERATIONS REACHED LIMIT.\n",
            "\n",
            "Increase the number of iterations (max_iter) or scale the data as shown in:\n",
            "    https://scikit-learn.org/stable/modules/preprocessing.html\n",
            "  self.n_iter_ = _check_optimize_result(\"lbfgs\", opt_res, self.max_iter)\n"
          ],
          "name": "stderr"
        },
        {
          "output_type": "execute_result",
          "data": {
            "text/plain": [
              "MLPClassifier(activation='relu', alpha=1e-05, batch_size='auto', beta_1=0.9,\n",
              "              beta_2=0.999, early_stopping=False, epsilon=1e-08,\n",
              "              hidden_layer_sizes=(5, 10), learning_rate='constant',\n",
              "              learning_rate_init=0.001, max_fun=15000, max_iter=200,\n",
              "              momentum=0.9, n_iter_no_change=10, nesterovs_momentum=True,\n",
              "              power_t=0.5, random_state=1, shuffle=True, solver='lbfgs',\n",
              "              tol=0.0001, validation_fraction=0.1, verbose=False,\n",
              "              warm_start=False)"
            ]
          },
          "metadata": {
            "tags": []
          },
          "execution_count": 29
        }
      ]
    },
    {
      "cell_type": "code",
      "metadata": {
        "id": "Kj6d1_qTGF0T"
      },
      "source": [
        "#Realiza a previsão de classificaçao \n",
        "y_pred_mlp = clf_mlp.predict(x_test)"
      ],
      "execution_count": null,
      "outputs": []
    },
    {
      "cell_type": "code",
      "metadata": {
        "id": "2fWmzzwBGHJH",
        "colab": {
          "base_uri": "https://localhost:8080/"
        },
        "outputId": "27cbb274-ef3b-4fd2-d608-e45d827a6ed6"
      },
      "source": [
        "#constroi a matriz de confusão para comparar o modelo criado\n",
        "from sklearn.metrics import classification_report, confusion_matrix\n",
        "print(confusion_matrix(y_test, y_pred_mlp))\n",
        "print(classification_report(y_test, y_pred_mlp))"
      ],
      "execution_count": null,
      "outputs": [
        {
          "output_type": "stream",
          "text": [
            "[[124  27]\n",
            " [ 32  48]]\n",
            "              precision    recall  f1-score   support\n",
            "\n",
            "           0       0.79      0.82      0.81       151\n",
            "           1       0.64      0.60      0.62        80\n",
            "\n",
            "    accuracy                           0.74       231\n",
            "   macro avg       0.72      0.71      0.71       231\n",
            "weighted avg       0.74      0.74      0.74       231\n",
            "\n"
          ],
          "name": "stdout"
        }
      ]
    },
    {
      "cell_type": "code",
      "metadata": {
        "id": "KfuGOW9mJPYm",
        "colab": {
          "base_uri": "https://localhost:8080/"
        },
        "outputId": "c52499e3-65e7-4456-abb3-ff36fdd138b7"
      },
      "source": [
        "from sklearn.metrics import accuracy_score\n",
        "acuracia_MLP = accuracy_score(y_test, y_pred_mlp)\n",
        "print('Acurácia da Rede MLP: ',acuracia_MLP)"
      ],
      "execution_count": null,
      "outputs": [
        {
          "output_type": "stream",
          "text": [
            "Acurácia da Rede MLP:  0.7445887445887446\n"
          ],
          "name": "stdout"
        }
      ]
    },
    {
      "cell_type": "code",
      "metadata": {
        "id": "t-oCdkYBKRxb",
        "colab": {
          "base_uri": "https://localhost:8080/"
        },
        "outputId": "d040310c-38f5-48ed-adfd-cc4b618660e1"
      },
      "source": [
        "if (acuracia_KNN > acuracia_arvore) & (acuracia_KNN > acuracia_MLP):\n",
        "  print('Acurácia KNN é maior.')\n",
        "elif (acuracia_arvore > acuracia_KNN) & (acuracia_arvore > acuracia_MLP):\n",
        "  print('Acurácia Árvore de Decisão é maior.')\n",
        "else:\n",
        "  print('Acurácia Rede MLP é maior.')\n"
      ],
      "execution_count": null,
      "outputs": [
        {
          "output_type": "stream",
          "text": [
            "Acurácia Rede MLP é maior.\n"
          ],
          "name": "stdout"
        }
      ]
    },
    {
      "cell_type": "code",
      "metadata": {
        "id": "8wCX6lZH0w-C"
      },
      "source": [
        "import joblib\n",
        "import numpy as np"
      ],
      "execution_count": null,
      "outputs": []
    },
    {
      "cell_type": "code",
      "metadata": {
        "id": "NgID5Egz00l-",
        "colab": {
          "base_uri": "https://localhost:8080/"
        },
        "outputId": "4ffe75aa-b86e-4f63-95d0-12426d64fc1e"
      },
      "source": [
        "# Salvando o modelo no disco.\n",
        "# melhor_modelo: modelo com melhor acurácia.\n",
        "# nome_do_arquivo: caminho do local onde deve ser salvo o modelo.\n",
        "nome_do_arquivo = 'melhor_modelo.sav' # observe a extensao .sav\n",
        "\n",
        "if (acuracia_KNN > acuracia_arvore) & (acuracia_KNN > acuracia_MLP):\n",
        "  melhor_modelo = clf_KNN\n",
        "elif (acuracia_arvore > acuracia_KNN) & (acuracia_arvore > acuracia_MLP):\n",
        "  melhor_modelo = clf_arvore\n",
        "else:\n",
        "  melhor_modelo = clf_mlp\n",
        "\n",
        "joblib.dump(melhor_modelo, nome_do_arquivo) "
      ],
      "execution_count": null,
      "outputs": [
        {
          "output_type": "execute_result",
          "data": {
            "text/plain": [
              "['melhor_modelo.sav']"
            ]
          },
          "metadata": {
            "tags": []
          },
          "execution_count": 27
        }
      ]
    },
    {
      "cell_type": "code",
      "metadata": {
        "id": "qkVNigrg29_E"
      },
      "source": [
        "# carregando o modelo salvo\n",
        "modelo_salvo = joblib.load(nome_do_arquivo) # realiza a carga do modelo salvo"
      ],
      "execution_count": null,
      "outputs": []
    },
    {
      "cell_type": "code",
      "metadata": {
        "id": "WEdZ0ZM833Nv",
        "colab": {
          "base_uri": "https://localhost:8080/"
        },
        "outputId": "ab5a59e6-6ba1-42ea-d172-817319b59639"
      },
      "source": [
        "lista_valores = np.array([1., 85.,66.,29.,0.,26.6,351.,31.]) # atenção, considerar todos float\n",
        "prever = lista_valores.reshape(1,8)\n",
        "resultado = modelo_salvo.predict(prever)\n",
        "if resultado[0] == 0:\n",
        "  print('0 não diabético')\n",
        "else:\n",
        "  print('1 diabético')\n",
        "\n",
        "lista_valores = np.array([6.,148.,72.,35.,0.,33.6,0.627,50.]) # atenção, considerar todos float \n",
        "prever = lista_valores.reshape(1,8)\n",
        "resultado = modelo_salvo.predict(prever)\n",
        "if resultado[0] == 0:\n",
        "  print('0 não diabético')\n",
        "else:\n",
        "  print('1 diabético')\n"
      ],
      "execution_count": null,
      "outputs": [
        {
          "output_type": "stream",
          "text": [
            "0 não diabético\n",
            "1 diabético\n"
          ],
          "name": "stdout"
        }
      ]
    },
    {
      "cell_type": "code",
      "metadata": {
        "id": "aNKuSmH1eNLD"
      },
      "source": [
        "?map()"
      ],
      "execution_count": null,
      "outputs": []
    },
    {
      "cell_type": "markdown",
      "metadata": {
        "id": "AD-4A5WqPL5C"
      },
      "source": [
        "https://scikit-learn.org/stable/modules/model_persistence.html"
      ]
    }
  ]
}