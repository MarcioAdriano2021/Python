{
  "nbformat": 4,
  "nbformat_minor": 0,
  "metadata": {
    "colab": {
      "name": "TrabalhoPraticoModulo02.ipynb",
      "provenance": [],
      "collapsed_sections": []
    },
    "kernelspec": {
      "name": "python3",
      "display_name": "Python 3"
    }
  },
  "cells": [
    {
      "cell_type": "markdown",
      "metadata": {
        "id": "5GjzqB6t3vBr"
      },
      "source": [
        "#Trabalho Prático Análise de Dados:\r\n",
        "#Exercitar os seguintes conceitos trabalhados no Módulo:\r\n",
        "##✓ Criação e manipulação de numpy arrays.\r\n",
        "##✓ Leitura de dados e manipulação de DataFrames e Series no pandas.\r\n",
        "##✓ Fundamentos de aprendizado de máquinas.\r\n"
      ]
    },
    {
      "cell_type": "code",
      "metadata": {
        "id": "3vnKuKnzOQxL"
      },
      "source": [
        "# importando as bibliotecas\n",
        "import numpy as np\n",
        "import pandas as pd"
      ],
      "execution_count": null,
      "outputs": []
    },
    {
      "cell_type": "markdown",
      "metadata": {
        "id": "Ja9ewnyC450d"
      },
      "source": [
        "**Código 1**"
      ]
    },
    {
      "cell_type": "code",
      "metadata": {
        "id": "hqIziBtJOSgx",
        "colab": {
          "base_uri": "https://localhost:8080/"
        },
        "outputId": "fcfacf68-7358-408a-ab77-d74519e4173f"
      },
      "source": [
        "# == Código 1 ==\n",
        "Z = np.zeros((4,))\n",
        "print(\"Z:\", Z)"
      ],
      "execution_count": null,
      "outputs": [
        {
          "output_type": "stream",
          "text": [
            "Z: [0. 0. 0. 0.]\n"
          ],
          "name": "stdout"
        }
      ]
    },
    {
      "cell_type": "markdown",
      "metadata": {
        "id": "y3CISKQU6MI6"
      },
      "source": [
        "**Pergunta 1**: O que será “printado” na tela ao se executar o Código 1? *Z: [0. 0. 0. 0.]* \r\n"
      ]
    },
    {
      "cell_type": "markdown",
      "metadata": {
        "id": "oGpsaxL74-Qt"
      },
      "source": [
        "**Código 2**"
      ]
    },
    {
      "cell_type": "code",
      "metadata": {
        "id": "-i2tuOENRUPG",
        "colab": {
          "base_uri": "https://localhost:8080/",
          "height": 34
        },
        "outputId": "dd4cb9b6-adc3-4ee8-8c14-2302b8687c4a"
      },
      "source": [
        "# == Código 2 ==\n",
        "Z = np.zeros((4,))\n",
        "Z[1] = 1.\n",
        "print(\"Z:\", Z)"
      ],
      "execution_count": null,
      "outputs": [
        {
          "output_type": "stream",
          "text": [
            "Z: [0. 1. 0. 0.]\n"
          ],
          "name": "stdout"
        }
      ]
    },
    {
      "cell_type": "markdown",
      "metadata": {
        "id": "ja-POomC6dhf"
      },
      "source": [
        "**Pergunta 2**: O que será “printado” na tela ao se executar o Código 2? *Z: [0. 1. 0. 0.]* "
      ]
    },
    {
      "cell_type": "markdown",
      "metadata": {
        "id": "lB2oPvJh5OCU"
      },
      "source": [
        "**Código 3**"
      ]
    },
    {
      "cell_type": "code",
      "metadata": {
        "id": "RChWtEPDSEGj",
        "colab": {
          "base_uri": "https://localhost:8080/",
          "height": 34
        },
        "outputId": "87fac4cd-3a8d-40de-ca8a-6e178f6cacc1"
      },
      "source": [
        "# == Código 3 ==\n",
        "Z = np.zeros((4,))\n",
        "Z[1:] = 1.\n",
        "print(\"Z:\", Z)"
      ],
      "execution_count": null,
      "outputs": [
        {
          "output_type": "stream",
          "text": [
            "Z: [0. 1. 1. 1.]\n"
          ],
          "name": "stdout"
        }
      ]
    },
    {
      "cell_type": "markdown",
      "metadata": {
        "id": "Tyk2p_7A624P"
      },
      "source": [
        "**Pergunta 3**: O que será “printado” na tela ao se executar o Código 3? *Z: [0. 1. 1. 1.]* "
      ]
    },
    {
      "cell_type": "markdown",
      "metadata": {
        "id": "jk_J_0h05Rn_"
      },
      "source": [
        "**Código 4**"
      ]
    },
    {
      "cell_type": "code",
      "metadata": {
        "id": "rBPJIv5-Ss0g",
        "colab": {
          "base_uri": "https://localhost:8080/",
          "height": 34
        },
        "outputId": "05604f16-46b9-4ec4-a9bb-c018d77a5060"
      },
      "source": [
        "# == Código 4 a ==\n",
        "Z = np.zeros((4,))\n",
        "Z[:3] = 1.\n",
        "print(\"Z:\", Z)"
      ],
      "execution_count": null,
      "outputs": [
        {
          "output_type": "stream",
          "text": [
            "Z: [1. 1. 1. 0.]\n"
          ],
          "name": "stdout"
        }
      ]
    },
    {
      "cell_type": "code",
      "metadata": {
        "id": "LCgcA0hUTn8X",
        "colab": {
          "base_uri": "https://localhost:8080/",
          "height": 34
        },
        "outputId": "fbee02f1-16fa-4e28-98e7-f0dc5d223f44"
      },
      "source": [
        "# == Código 4 b ==\n",
        "Z = np.ones((4,))\n",
        "#Z[4] = 0.\n",
        "Z[3] = 0.\n",
        "print(\"Z:\", Z)"
      ],
      "execution_count": null,
      "outputs": [
        {
          "output_type": "stream",
          "text": [
            "Z: [1. 1. 1. 0.]\n"
          ],
          "name": "stdout"
        }
      ]
    },
    {
      "cell_type": "code",
      "metadata": {
        "id": "rJ_C1NP_T4aq",
        "colab": {
          "base_uri": "https://localhost:8080/",
          "height": 34
        },
        "outputId": "e1131640-535c-4df8-c048-d69e5d380bd2"
      },
      "source": [
        "# == Código 4 c ==\n",
        "Z = np.zeros((4,))\n",
        "Z[:-1] = 1.\n",
        "print(\"Z:\", Z)"
      ],
      "execution_count": null,
      "outputs": [
        {
          "output_type": "stream",
          "text": [
            "Z: [1. 1. 1. 0.]\n"
          ],
          "name": "stdout"
        }
      ]
    },
    {
      "cell_type": "code",
      "metadata": {
        "id": "DTHYFJ4jUboj",
        "colab": {
          "base_uri": "https://localhost:8080/",
          "height": 34
        },
        "outputId": "48c0edfc-f6a6-467e-82b4-aace56480227"
      },
      "source": [
        "# == Código 4 d ==\n",
        "Z = np.ones((4,))\n",
        "Z[-1] = 0.\n",
        "print(\"Z:\", Z)"
      ],
      "execution_count": null,
      "outputs": [
        {
          "output_type": "stream",
          "text": [
            "Z: [1. 1. 1. 0.]\n"
          ],
          "name": "stdout"
        }
      ]
    },
    {
      "cell_type": "markdown",
      "metadata": {
        "id": "PYqL87Ww7Qya"
      },
      "source": [
        "**Pergunta 4**: Qual dos seguintes trechos de código NÃO resulta no “print” mostrado no Código 4? *Z = np.ones((4,)) Z[4] = 0*"
      ]
    },
    {
      "cell_type": "markdown",
      "metadata": {
        "id": "0PtvxAyQ5WaC"
      },
      "source": [
        "**Código 5**"
      ]
    },
    {
      "cell_type": "code",
      "metadata": {
        "id": "eE0r5vIjVCac",
        "colab": {
          "base_uri": "https://localhost:8080/",
          "height": 68
        },
        "outputId": "c475ba17-e286-4998-fc00-09d7df16cbd0"
      },
      "source": [
        "# == Código 5 a ==\n",
        "#X = np.twos((2,2))\n",
        "X = np.ones((2,2))\n",
        "print(\"X:\\n\", X)"
      ],
      "execution_count": null,
      "outputs": [
        {
          "output_type": "stream",
          "text": [
            "X:\n",
            " [[1. 1.]\n",
            " [1. 1.]]\n"
          ],
          "name": "stdout"
        }
      ]
    },
    {
      "cell_type": "code",
      "metadata": {
        "id": "oCcy2wJ4VypQ",
        "colab": {
          "base_uri": "https://localhost:8080/"
        },
        "outputId": "3e560370-053a-4aae-ce44-4ae98b2f67d4"
      },
      "source": [
        "# == Código 5 b ==\n",
        "X = np.array([2.]*4).reshape(2,2)\n",
        "print(\"X:\\n\", X)"
      ],
      "execution_count": null,
      "outputs": [
        {
          "output_type": "stream",
          "text": [
            "X:\n",
            " [[2. 2.]\n",
            " [2. 2.]]\n"
          ],
          "name": "stdout"
        }
      ]
    },
    {
      "cell_type": "code",
      "metadata": {
        "id": "iRXnUBU1W00l",
        "colab": {
          "base_uri": "https://localhost:8080/",
          "height": 68
        },
        "outputId": "41c63c00-71fb-4151-9660-8f4a899746f8"
      },
      "source": [
        "# == Código 5 c ==\n",
        "X = 2 * np.ones((2,2))\n",
        "print(\"X:\\n\", X)"
      ],
      "execution_count": null,
      "outputs": [
        {
          "output_type": "stream",
          "text": [
            "X:\n",
            " [[2. 2.]\n",
            " [2. 2.]]\n"
          ],
          "name": "stdout"
        }
      ]
    },
    {
      "cell_type": "code",
      "metadata": {
        "id": "WC8cjsrIXEJz",
        "colab": {
          "base_uri": "https://localhost:8080/",
          "height": 68
        },
        "outputId": "948802f8-1f46-4c58-a506-33b5e9916487"
      },
      "source": [
        "# == Código 5 d ==\n",
        "X = np.ones((2,2)) + np.ones((2,2))\n",
        "print(\"X:\\n\", X)"
      ],
      "execution_count": null,
      "outputs": [
        {
          "output_type": "stream",
          "text": [
            "X:\n",
            " [[2. 2.]\n",
            " [2. 2.]]\n"
          ],
          "name": "stdout"
        }
      ]
    },
    {
      "cell_type": "markdown",
      "metadata": {
        "id": "6veMEe5E8XnL"
      },
      "source": [
        "**Pergunta 5**: Qual dos seguintes trechos de código NÃO resulta no “print” mostrado no Código 5? *X = np.twos((2, 2))*"
      ]
    },
    {
      "cell_type": "markdown",
      "metadata": {
        "id": "4dllNbZ85azr"
      },
      "source": [
        "**Código 6**"
      ]
    },
    {
      "cell_type": "code",
      "metadata": {
        "id": "8qLZ8JAnXqj7",
        "colab": {
          "base_uri": "https://localhost:8080/",
          "height": 102
        },
        "outputId": "40556f75-81fa-4661-abc5-0024beb2300a"
      },
      "source": [
        "# == Código 6 ==\n",
        "X = np.array([[1,2], [3, 4]])\n",
        "Y = X[0, :]\n",
        "Y[1] = 10\n",
        "print(\"X:\\n\", X)\n",
        "print(\"Y:\\n\", Y)"
      ],
      "execution_count": null,
      "outputs": [
        {
          "output_type": "stream",
          "text": [
            "X:\n",
            " [[ 1 10]\n",
            " [ 3  4]]\n",
            "Y:\n",
            " [ 1 10]\n"
          ],
          "name": "stdout"
        }
      ]
    },
    {
      "cell_type": "markdown",
      "metadata": {
        "id": "JFgVEVgW8l1Y"
      },
      "source": [
        "**Pergunta 6**: O que será “printado” na tela ao se executar o Código 6? *X: [[ 1 10] [ 3 4]]* "
      ]
    },
    {
      "cell_type": "markdown",
      "metadata": {
        "id": "jgi-6O3r5f_n"
      },
      "source": [
        "**Código 7**"
      ]
    },
    {
      "cell_type": "code",
      "metadata": {
        "id": "YUaZNosraobz",
        "colab": {
          "base_uri": "https://localhost:8080/",
          "height": 136
        },
        "outputId": "a8aa6c2c-9609-47a0-b9ae-1158a0ca26cc"
      },
      "source": [
        "# == Código 7 ==\n",
        "X = np.array([[1,2], [11, 10]])\n",
        "print(np.mean(X[X > np.pi]))\n",
        "print(\"X:\\n\", X)\n",
        "print(X > np.pi)\n",
        "print(X[X > np.pi])"
      ],
      "execution_count": null,
      "outputs": [
        {
          "output_type": "stream",
          "text": [
            "10.5\n",
            "X:\n",
            " [[ 1  2]\n",
            " [11 10]]\n",
            "[[False False]\n",
            " [ True  True]]\n",
            "[11 10]\n"
          ],
          "name": "stdout"
        }
      ]
    },
    {
      "cell_type": "markdown",
      "metadata": {
        "id": "KxKafx3B8y0n"
      },
      "source": [
        "**Pergunta 7**: O que será “printado” na tela ao se executar o Código 7?  *A média dos valores de X que são maiores que np.pi (3.1415...).*"
      ]
    },
    {
      "cell_type": "markdown",
      "metadata": {
        "id": "3wEry1UC5leh"
      },
      "source": [
        "**Código 8**"
      ]
    },
    {
      "cell_type": "code",
      "metadata": {
        "id": "C0WbpBpYccva",
        "colab": {
          "base_uri": "https://localhost:8080/",
          "height": 359
        },
        "outputId": "bc9639d9-bb1f-48cc-9360-a4db0dc669b4"
      },
      "source": [
        "# == Código 8 ==\n",
        "data = {'animal': ['cat', 'cat', 'snake', 'dog', 'dog', 'cat', 'snake', 'cat', 'dog', 'dog'],\n",
        "        'age': [2.5, 3, 0.5, np.nan, 5, 2, 4.5, np.nan, 7, 3],\n",
        "        'visits': [1, 3, 2, 3, 2, 3, 1, 1, 2, 1],\n",
        "        'priority': ['yes', 'yes', 'no', 'yes', 'no', 'no', 'no', 'yes', 'no', 'no']}\n",
        "labels = ['a', 'b', 'c', 'd', 'e', 'f', 'g', 'h', 'i', 'j']\n",
        "pd.DataFrame(data=data, index=labels)"
      ],
      "execution_count": null,
      "outputs": [
        {
          "output_type": "execute_result",
          "data": {
            "text/html": [
              "<div>\n",
              "<style scoped>\n",
              "    .dataframe tbody tr th:only-of-type {\n",
              "        vertical-align: middle;\n",
              "    }\n",
              "\n",
              "    .dataframe tbody tr th {\n",
              "        vertical-align: top;\n",
              "    }\n",
              "\n",
              "    .dataframe thead th {\n",
              "        text-align: right;\n",
              "    }\n",
              "</style>\n",
              "<table border=\"1\" class=\"dataframe\">\n",
              "  <thead>\n",
              "    <tr style=\"text-align: right;\">\n",
              "      <th></th>\n",
              "      <th>animal</th>\n",
              "      <th>age</th>\n",
              "      <th>visits</th>\n",
              "      <th>priority</th>\n",
              "    </tr>\n",
              "  </thead>\n",
              "  <tbody>\n",
              "    <tr>\n",
              "      <th>a</th>\n",
              "      <td>cat</td>\n",
              "      <td>2.5</td>\n",
              "      <td>1</td>\n",
              "      <td>yes</td>\n",
              "    </tr>\n",
              "    <tr>\n",
              "      <th>b</th>\n",
              "      <td>cat</td>\n",
              "      <td>3.0</td>\n",
              "      <td>3</td>\n",
              "      <td>yes</td>\n",
              "    </tr>\n",
              "    <tr>\n",
              "      <th>c</th>\n",
              "      <td>snake</td>\n",
              "      <td>0.5</td>\n",
              "      <td>2</td>\n",
              "      <td>no</td>\n",
              "    </tr>\n",
              "    <tr>\n",
              "      <th>d</th>\n",
              "      <td>dog</td>\n",
              "      <td>NaN</td>\n",
              "      <td>3</td>\n",
              "      <td>yes</td>\n",
              "    </tr>\n",
              "    <tr>\n",
              "      <th>e</th>\n",
              "      <td>dog</td>\n",
              "      <td>5.0</td>\n",
              "      <td>2</td>\n",
              "      <td>no</td>\n",
              "    </tr>\n",
              "    <tr>\n",
              "      <th>f</th>\n",
              "      <td>cat</td>\n",
              "      <td>2.0</td>\n",
              "      <td>3</td>\n",
              "      <td>no</td>\n",
              "    </tr>\n",
              "    <tr>\n",
              "      <th>g</th>\n",
              "      <td>snake</td>\n",
              "      <td>4.5</td>\n",
              "      <td>1</td>\n",
              "      <td>no</td>\n",
              "    </tr>\n",
              "    <tr>\n",
              "      <th>h</th>\n",
              "      <td>cat</td>\n",
              "      <td>NaN</td>\n",
              "      <td>1</td>\n",
              "      <td>yes</td>\n",
              "    </tr>\n",
              "    <tr>\n",
              "      <th>i</th>\n",
              "      <td>dog</td>\n",
              "      <td>7.0</td>\n",
              "      <td>2</td>\n",
              "      <td>no</td>\n",
              "    </tr>\n",
              "    <tr>\n",
              "      <th>j</th>\n",
              "      <td>dog</td>\n",
              "      <td>3.0</td>\n",
              "      <td>1</td>\n",
              "      <td>no</td>\n",
              "    </tr>\n",
              "  </tbody>\n",
              "</table>\n",
              "</div>"
            ],
            "text/plain": [
              "  animal  age  visits priority\n",
              "a    cat  2.5       1      yes\n",
              "b    cat  3.0       3      yes\n",
              "c  snake  0.5       2       no\n",
              "d    dog  NaN       3      yes\n",
              "e    dog  5.0       2       no\n",
              "f    cat  2.0       3       no\n",
              "g  snake  4.5       1       no\n",
              "h    cat  NaN       1      yes\n",
              "i    dog  7.0       2       no\n",
              "j    dog  3.0       1       no"
            ]
          },
          "metadata": {
            "tags": []
          },
          "execution_count": 3
        }
      ]
    },
    {
      "cell_type": "markdown",
      "metadata": {
        "id": "3jqfnq5q9A6u"
      },
      "source": [
        "**Pergunta 8**: Baseado no Código 8, o que o comando pd.DataFrame(data=data, index=labels) irá retornar? *Um pandas DataFrame baseado no dicionário data e indexado pela lista labels.*"
      ]
    },
    {
      "cell_type": "markdown",
      "metadata": {
        "id": "0qRSZ4rD5qnb"
      },
      "source": [
        "**Código 9**"
      ]
    },
    {
      "cell_type": "code",
      "metadata": {
        "id": "Oj5xRnG0guBx",
        "colab": {
          "base_uri": "https://localhost:8080/",
          "height": 34
        },
        "outputId": "c91febb3-af0f-42cd-d5a0-93517da06560"
      },
      "source": [
        "# == Código 9 ==\n",
        "df = pd.DataFrame(data=data, index=labels)\n",
        "df.shape\n",
        "#df.length\n",
        "#df.rows_cols\n",
        "#df.len"
      ],
      "execution_count": null,
      "outputs": [
        {
          "output_type": "execute_result",
          "data": {
            "text/plain": [
              "(10, 4)"
            ]
          },
          "metadata": {
            "tags": []
          },
          "execution_count": 26
        }
      ]
    },
    {
      "cell_type": "markdown",
      "metadata": {
        "id": "W4lprNbh9fM_"
      },
      "source": [
        "**Pergunta 9**: Baseado nos Códigos 8 e 9, qual atributo de df pode ser acessado para uma rápida verificação de sua dimensão (número de linhas, número de colunas)? *df.shape*"
      ]
    },
    {
      "cell_type": "code",
      "metadata": {
        "id": "vkRxFQzyiz59",
        "colab": {
          "base_uri": "https://localhost:8080/",
          "height": 153
        },
        "outputId": "cea88d68-aa87-44b6-e58a-7d59bac41312"
      },
      "source": [
        " c = df['animal'].value_counts()\n",
        " print(c)\n",
        " print('Series ou data frames \\n', type(df['animal'].value_counts()))\n",
        " print('Series ou data frames \\n', type(c))"
      ],
      "execution_count": null,
      "outputs": [
        {
          "output_type": "stream",
          "text": [
            "cat      4\n",
            "dog      4\n",
            "snake    2\n",
            "Name: animal, dtype: int64\n",
            "Series ou data frames \n",
            " <class 'pandas.core.series.Series'>\n",
            "Series ou data frames \n",
            " <class 'pandas.core.series.Series'>\n"
          ],
          "name": "stdout"
        }
      ]
    },
    {
      "cell_type": "markdown",
      "metadata": {
        "id": "oraSR7FP9r3_"
      },
      "source": [
        "**Pergunta 10**: Baseado nos Códigos 8 e 9, o que o comando df[‘animal’].value_counts() irá retornar? *Um pandas Series contendo a contagem da quantidade de vezes que cada elemento único aparece na coluna ‘animal’.* "
      ]
    },
    {
      "cell_type": "code",
      "metadata": {
        "id": "9coXXh8HmO3a",
        "colab": {
          "base_uri": "https://localhost:8080/",
          "height": 297
        },
        "outputId": "d44d052f-dd99-40f3-8138-6e4a5256e35f"
      },
      "source": [
        "df.describe()"
      ],
      "execution_count": null,
      "outputs": [
        {
          "output_type": "execute_result",
          "data": {
            "text/html": [
              "<div>\n",
              "<style scoped>\n",
              "    .dataframe tbody tr th:only-of-type {\n",
              "        vertical-align: middle;\n",
              "    }\n",
              "\n",
              "    .dataframe tbody tr th {\n",
              "        vertical-align: top;\n",
              "    }\n",
              "\n",
              "    .dataframe thead th {\n",
              "        text-align: right;\n",
              "    }\n",
              "</style>\n",
              "<table border=\"1\" class=\"dataframe\">\n",
              "  <thead>\n",
              "    <tr style=\"text-align: right;\">\n",
              "      <th></th>\n",
              "      <th>age</th>\n",
              "      <th>visits</th>\n",
              "    </tr>\n",
              "  </thead>\n",
              "  <tbody>\n",
              "    <tr>\n",
              "      <th>count</th>\n",
              "      <td>8.000000</td>\n",
              "      <td>10.000000</td>\n",
              "    </tr>\n",
              "    <tr>\n",
              "      <th>mean</th>\n",
              "      <td>3.437500</td>\n",
              "      <td>1.900000</td>\n",
              "    </tr>\n",
              "    <tr>\n",
              "      <th>std</th>\n",
              "      <td>2.007797</td>\n",
              "      <td>0.875595</td>\n",
              "    </tr>\n",
              "    <tr>\n",
              "      <th>min</th>\n",
              "      <td>0.500000</td>\n",
              "      <td>1.000000</td>\n",
              "    </tr>\n",
              "    <tr>\n",
              "      <th>25%</th>\n",
              "      <td>2.375000</td>\n",
              "      <td>1.000000</td>\n",
              "    </tr>\n",
              "    <tr>\n",
              "      <th>50%</th>\n",
              "      <td>3.000000</td>\n",
              "      <td>2.000000</td>\n",
              "    </tr>\n",
              "    <tr>\n",
              "      <th>75%</th>\n",
              "      <td>4.625000</td>\n",
              "      <td>2.750000</td>\n",
              "    </tr>\n",
              "    <tr>\n",
              "      <th>max</th>\n",
              "      <td>7.000000</td>\n",
              "      <td>3.000000</td>\n",
              "    </tr>\n",
              "  </tbody>\n",
              "</table>\n",
              "</div>"
            ],
            "text/plain": [
              "            age     visits\n",
              "count  8.000000  10.000000\n",
              "mean   3.437500   1.900000\n",
              "std    2.007797   0.875595\n",
              "min    0.500000   1.000000\n",
              "25%    2.375000   1.000000\n",
              "50%    3.000000   2.000000\n",
              "75%    4.625000   2.750000\n",
              "max    7.000000   3.000000"
            ]
          },
          "metadata": {
            "tags": []
          },
          "execution_count": 27
        }
      ]
    },
    {
      "cell_type": "markdown",
      "metadata": {
        "id": "Wekz9De39_zX"
      },
      "source": [
        "**Pergunta 11**: Baseado nos Códigos 8 e 9, qual a média (mean) da coluna ‘age’ que aparece ao se executar o comando df.describe()? *3.437500* "
      ]
    },
    {
      "cell_type": "code",
      "metadata": {
        "id": "_UXKqOaYmuZv",
        "colab": {
          "base_uri": "https://localhost:8080/",
          "height": 204
        },
        "outputId": "3fde242d-d241-4cc3-e864-3c31d4211bb1"
      },
      "source": [
        "df.iloc[:, 3]\n",
        "#df['visits']\n",
        "#df.iloc[:, -2]\n",
        "#df.loc[:, 'visits']"
      ],
      "execution_count": null,
      "outputs": [
        {
          "output_type": "execute_result",
          "data": {
            "text/plain": [
              "a    yes\n",
              "b    yes\n",
              "c     no\n",
              "d    yes\n",
              "e     no\n",
              "f     no\n",
              "g     no\n",
              "h    yes\n",
              "i     no\n",
              "j     no\n",
              "Name: priority, dtype: object"
            ]
          },
          "metadata": {
            "tags": []
          },
          "execution_count": 33
        }
      ]
    },
    {
      "cell_type": "markdown",
      "metadata": {
        "id": "0Vuq75Do-TwC"
      },
      "source": [
        "**Pergunta 12**: Baseado nos Códigos 8 e 9, qual dos comandos NÃO irá retornar um pandas Series contendo a coluna ‘visits’? *df.iloc[:, 3]*"
      ]
    },
    {
      "cell_type": "code",
      "metadata": {
        "id": "kJUWTijAofnX",
        "colab": {
          "base_uri": "https://localhost:8080/",
          "height": 359
        },
        "outputId": "5798ff0e-6708-4945-e370-f0acafdaa51b"
      },
      "source": [
        "df.sort_values(by='visits', ascending=False)\n",
        "#df.sort_index(ascending=False)\n"
      ],
      "execution_count": null,
      "outputs": [
        {
          "output_type": "execute_result",
          "data": {
            "text/html": [
              "<div>\n",
              "<style scoped>\n",
              "    .dataframe tbody tr th:only-of-type {\n",
              "        vertical-align: middle;\n",
              "    }\n",
              "\n",
              "    .dataframe tbody tr th {\n",
              "        vertical-align: top;\n",
              "    }\n",
              "\n",
              "    .dataframe thead th {\n",
              "        text-align: right;\n",
              "    }\n",
              "</style>\n",
              "<table border=\"1\" class=\"dataframe\">\n",
              "  <thead>\n",
              "    <tr style=\"text-align: right;\">\n",
              "      <th></th>\n",
              "      <th>animal</th>\n",
              "      <th>age</th>\n",
              "      <th>visits</th>\n",
              "      <th>priority</th>\n",
              "    </tr>\n",
              "  </thead>\n",
              "  <tbody>\n",
              "    <tr>\n",
              "      <th>b</th>\n",
              "      <td>cat</td>\n",
              "      <td>3.0</td>\n",
              "      <td>3</td>\n",
              "      <td>yes</td>\n",
              "    </tr>\n",
              "    <tr>\n",
              "      <th>d</th>\n",
              "      <td>dog</td>\n",
              "      <td>NaN</td>\n",
              "      <td>3</td>\n",
              "      <td>yes</td>\n",
              "    </tr>\n",
              "    <tr>\n",
              "      <th>f</th>\n",
              "      <td>cat</td>\n",
              "      <td>2.0</td>\n",
              "      <td>3</td>\n",
              "      <td>no</td>\n",
              "    </tr>\n",
              "    <tr>\n",
              "      <th>c</th>\n",
              "      <td>snake</td>\n",
              "      <td>0.5</td>\n",
              "      <td>2</td>\n",
              "      <td>no</td>\n",
              "    </tr>\n",
              "    <tr>\n",
              "      <th>e</th>\n",
              "      <td>dog</td>\n",
              "      <td>5.0</td>\n",
              "      <td>2</td>\n",
              "      <td>no</td>\n",
              "    </tr>\n",
              "    <tr>\n",
              "      <th>i</th>\n",
              "      <td>dog</td>\n",
              "      <td>7.0</td>\n",
              "      <td>2</td>\n",
              "      <td>no</td>\n",
              "    </tr>\n",
              "    <tr>\n",
              "      <th>a</th>\n",
              "      <td>cat</td>\n",
              "      <td>2.5</td>\n",
              "      <td>1</td>\n",
              "      <td>yes</td>\n",
              "    </tr>\n",
              "    <tr>\n",
              "      <th>g</th>\n",
              "      <td>snake</td>\n",
              "      <td>4.5</td>\n",
              "      <td>1</td>\n",
              "      <td>no</td>\n",
              "    </tr>\n",
              "    <tr>\n",
              "      <th>h</th>\n",
              "      <td>cat</td>\n",
              "      <td>NaN</td>\n",
              "      <td>1</td>\n",
              "      <td>yes</td>\n",
              "    </tr>\n",
              "    <tr>\n",
              "      <th>j</th>\n",
              "      <td>dog</td>\n",
              "      <td>3.0</td>\n",
              "      <td>1</td>\n",
              "      <td>no</td>\n",
              "    </tr>\n",
              "  </tbody>\n",
              "</table>\n",
              "</div>"
            ],
            "text/plain": [
              "  animal  age  visits priority\n",
              "b    cat  3.0       3      yes\n",
              "d    dog  NaN       3      yes\n",
              "f    cat  2.0       3       no\n",
              "c  snake  0.5       2       no\n",
              "e    dog  5.0       2       no\n",
              "i    dog  7.0       2       no\n",
              "a    cat  2.5       1      yes\n",
              "g  snake  4.5       1       no\n",
              "h    cat  NaN       1      yes\n",
              "j    dog  3.0       1       no"
            ]
          },
          "metadata": {
            "tags": []
          },
          "execution_count": 37
        }
      ]
    },
    {
      "cell_type": "markdown",
      "metadata": {
        "id": "B0j-QqyV-hAL"
      },
      "source": [
        "**Pergunta 13**: Baseado nos Códigos 8 e 9, qual dos seguintes comandos irá retornar um pandas DataFrame ordenado de forma decrescente baseado na coluna ‘visits’? *df.sort_values(by='visits', ascending=False)* "
      ]
    },
    {
      "cell_type": "markdown",
      "metadata": {
        "id": "yQl320RB5x9n"
      },
      "source": [
        "**Código 10**"
      ]
    },
    {
      "cell_type": "code",
      "metadata": {
        "id": "juVhv7ZMpW8j",
        "colab": {
          "base_uri": "https://localhost:8080/",
          "height": 34
        },
        "outputId": "15cbac2a-d90d-4e94-e1d8-f281df477c13"
      },
      "source": [
        "# == Código 10 ==\n",
        "y_true = np.array([1., 2., 1.])\n",
        "y_pred = np.array([1.1, 1.98, 1.05])\n",
        "\n",
        "#np.sqrt(((y_true-y_pred)**2).mean())\n",
        "mse_reg = ((y_true - y_pred)**2).mean() #MSE (Mean Squared Error) = Erro Quadrático Médio\n",
        "np.sqrt(mse_reg)"
      ],
      "execution_count": null,
      "outputs": [
        {
          "output_type": "execute_result",
          "data": {
            "text/plain": [
              "0.06557438524302006"
            ]
          },
          "metadata": {
            "tags": []
          },
          "execution_count": 19
        }
      ]
    },
    {
      "cell_type": "markdown",
      "metadata": {
        "id": "e9ABdA_R-1ZM"
      },
      "source": [
        "**Pergunta 14**: Baseado no Código 10, seja y_true os valores que devem ser previstos a partir de um modelo de aprendizado de máquinas e seja y_pred os valores que de fato foram previstos por esse modelo. O que o comando np.sqrt(((y_true-y_pred)**2).mean()) irá retornar? *A raiz quadrada do erro quadrático médio do modelo.* "
      ]
    },
    {
      "cell_type": "code",
      "metadata": {
        "id": "09OhkNM7e-hk"
      },
      "source": [
        "# função para cálculo do MSE\n",
        "def mse(y_true, y_pred, is_ref = False):\n",
        "\n",
        "  # mse modelo\n",
        "  if is_ref:\n",
        "    mse = ((y_true - y_true.mean())**2).mean()\n",
        "  else:\n",
        "    mse = ((y_true - y_pred)**2).mean()\n",
        "\n",
        "  return mse"
      ],
      "execution_count": null,
      "outputs": []
    },
    {
      "cell_type": "code",
      "metadata": {
        "id": "w9kaTX_7fBY2"
      },
      "source": [
        "# função para cálculo do coeficiente de determinação R2\n",
        "def r2(mse_reg, mse_ref):\n",
        "  return 1 - mse_reg/mse_ref"
      ],
      "execution_count": null,
      "outputs": []
    },
    {
      "cell_type": "code",
      "metadata": {
        "id": "aswNPBD3fd_s",
        "colab": {
          "base_uri": "https://localhost:8080/",
          "height": 51
        },
        "outputId": "9626fa14-57ec-44b5-8b45-a7a991271ded"
      },
      "source": [
        "# calculando o mse dos modelos\n",
        "mse_reg = mse(y_true=y_true, y_pred=y_pred)\n",
        "print(\"MSE do modelo de regressão:\", mse_reg)\n",
        "mse_ref = mse(y_true=y_true, y_pred=y_pred, is_ref=True)\n",
        "print(\"MSE do modelo de referência:\", mse_ref)"
      ],
      "execution_count": null,
      "outputs": [
        {
          "output_type": "stream",
          "text": [
            "MSE do modelo de regressão: 0.004300000000000008\n",
            "MSE do modelo de referência: 0.2222222222222222\n"
          ],
          "name": "stdout"
        }
      ]
    },
    {
      "cell_type": "code",
      "metadata": {
        "id": "7OOU7G1Bf0ul",
        "colab": {
          "base_uri": "https://localhost:8080/",
          "height": 34
        },
        "outputId": "ce2da8ef-fed3-4a8a-a675-5bd56accf3a8"
      },
      "source": [
        "# calculando o R2 score\n",
        "r2_score = r2(mse_reg=mse_reg, mse_ref=mse_ref)\n",
        "print(\"Coeficiente R2 do modelo implementado (calculado):\", r2_score)"
      ],
      "execution_count": null,
      "outputs": [
        {
          "output_type": "stream",
          "text": [
            "Coeficiente R2 do modelo implementado (calculado): 0.9806499999999999\n"
          ],
          "name": "stdout"
        }
      ]
    },
    {
      "cell_type": "code",
      "metadata": {
        "id": "38faCGjagH_B",
        "colab": {
          "base_uri": "https://localhost:8080/",
          "height": 34
        },
        "outputId": "3646a0f7-4d2c-47d7-8fa9-969bb972eae2"
      },
      "source": [
        "((y_true-y_pred)**2).mean()"
      ],
      "execution_count": null,
      "outputs": [
        {
          "output_type": "execute_result",
          "data": {
            "text/plain": [
              "0.004300000000000008"
            ]
          },
          "metadata": {
            "tags": []
          },
          "execution_count": 9
        }
      ]
    },
    {
      "cell_type": "code",
      "metadata": {
        "id": "Z3Km6xO6hvW6",
        "colab": {
          "base_uri": "https://localhost:8080/",
          "height": 34
        },
        "outputId": "5140c67e-616f-4b46-9ab4-250df7c0d293"
      },
      "source": [
        "# == Código 10 ==\n",
        "y_true = np.array([1., 2., 1.])\n",
        "#y_pred = np.array([1.1, 1.98, 1.05])\n",
        "#y_pred = np.array([0, 0, 0])\n",
        "#@y_pred = np.array([1, 1, 1])\n",
        "#y_pred = np.array([-1., -2., -1.])\n",
        "y_pred = np.array([1., 2., 1.])\n",
        "\n",
        "#np.sqrt(((y_true-y_pred)**2).mean())\n",
        "#MSE (Mean Squared Error) = Erro Quadrático Médio\n",
        "((y_true-y_pred)**2).mean()"
      ],
      "execution_count": null,
      "outputs": [
        {
          "output_type": "execute_result",
          "data": {
            "text/plain": [
              "0.0"
            ]
          },
          "metadata": {
            "tags": []
          },
          "execution_count": 22
        }
      ]
    },
    {
      "cell_type": "markdown",
      "metadata": {
        "id": "U4rFB0aaAIbh"
      },
      "source": [
        "**Pergunta 15**: Baseado no Código 10, qual o valor de y_pred para que o erro quadrático médio de predição seja nulo? *y_pred deve ser igual a y_true.* "
      ]
    }
  ]
}